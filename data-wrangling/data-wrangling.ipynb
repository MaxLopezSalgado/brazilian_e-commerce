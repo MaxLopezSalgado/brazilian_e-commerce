{
 "cells": [
  {
   "attachments": {},
   "cell_type": "markdown",
   "metadata": {},
   "source": [
    "- Author: Maximiliano Lopez Salgado\n",
    "- First Commit: 13.06.2023\n",
    "- Last Commit: 13.06.2023\n",
    "- Description: This notebook is used to perform Data Wrangling on the Brazilian E-commerce dataset"
   ]
  },
  {
   "attachments": {},
   "cell_type": "markdown",
   "metadata": {},
   "source": [
    "## Key Steps in this Data Analysis:\n",
    "\n",
    "1. **Framing the Question:** \n",
    "   - The first step towards any sort of data analysis is to ask the right question(s) from the given data. \n",
    "   - Identifying the objective of the analysis makes it easier to decide on the type(s) of data needed to draw conclusions.\n",
    "\n",
    "2. **Data Wrangling:** \n",
    "   - Data wrangling, sometimes referred to as data munging or data pre-processing, is the process of gathering, assessing, and cleaning \"raw\" data into a form suitable for analysis.\n",
    "\n",
    "3. **Exploratory Data Analysis (EDA):** \n",
    "   - Once the data is collected, cleaned, and processed, it is ready for analysis. \n",
    "   - During this phase, you can use data analysis tools and software to understand, interpret, and derive conclusions based on the requirements.\n",
    "\n",
    "4. **Drawing Conclusions:** \n",
    "   - After completing the analysis phase, the next step is to interpret the analysis and draw conclusions. \n",
    "   - Three key questions to ask at this stage:\n",
    "     - Did the analysis answer my original question?\n",
    "     - Were there any limitations in my analysis that could affect my conclusions?\n",
    "     - Was the analysis sufficient to support decision-making?\n",
    "\n",
    "5. **Communicating Results:** \n",
    "   - Once data has been explored and conclusions have been drawn, it's time to communicate the findings to the relevant audience. \n",
    "   - Effective communication can be achieved through data storytelling, writing blogs, making presentations, or filing reports.\n",
    "\n",
    "**Note:** The five steps of data analysis are not always followed linearly. The process can be iterative, with steps revisited based on new insights or requirements that arise during the analysis.\n"
   ]
  },
  {
   "cell_type": "code",
   "execution_count": 46,
   "metadata": {},
   "outputs": [],
   "source": [
    "# Import libraries\n",
    "import pandas as pd\n",
    "import numpy as np\n",
    "import matplotlib.pyplot as plt\n",
    "import seaborn as sns\n",
    "from scipy import stats\n",
    "import os\n",
    "import warnings"
   ]
  },
  {
   "attachments": {},
   "cell_type": "markdown",
   "metadata": {},
   "source": [
    "## 1. Data Wrangling"
   ]
  },
  {
   "attachments": {},
   "cell_type": "markdown",
   "metadata": {},
   "source": [
    "### 1.1 Gathering data"
   ]
  },
  {
   "cell_type": "code",
   "execution_count": 23,
   "metadata": {},
   "outputs": [],
   "source": [
    "# import csv files \n",
    "customers = pd.read_csv('../datasets/olist_customers_dataset.csv')\n",
    "geolocation = pd.read_csv('../datasets/olist_geolocation_dataset.csv')\n",
    "order_items = pd.read_csv('../datasets/olist_order_items_dataset.csv')\n",
    "order_payments = pd.read_csv('../datasets/olist_order_payments_dataset.csv')\n",
    "order_reviews = pd.read_csv('../datasets/olist_order_reviews_dataset.csv')\n",
    "orders_data = pd.read_csv('../datasets/olist_orders_dataset.csv')\n",
    "products_dataset = pd.read_csv('../datasets/olist_products_dataset.csv')\n",
    "sellers_data = pd.read_csv('../datasets/olist_sellers_dataset.csv')\n",
    "product_category_name_translation = pd.read_csv('../datasets/product_category_name_translation.csv')"
   ]
  },
  {
   "attachments": {},
   "cell_type": "markdown",
   "metadata": {},
   "source": [
    "### 1.2 Assessing of Data"
   ]
  },
  {
   "cell_type": "code",
   "execution_count": 24,
   "metadata": {},
   "outputs": [
    {
     "data": {
      "text/plain": [
       "(99441, 5)"
      ]
     },
     "metadata": {},
     "output_type": "display_data"
    },
    {
     "data": {
      "text/plain": [
       "(1000163, 5)"
      ]
     },
     "metadata": {},
     "output_type": "display_data"
    },
    {
     "data": {
      "text/plain": [
       "(112650, 7)"
      ]
     },
     "metadata": {},
     "output_type": "display_data"
    },
    {
     "data": {
      "text/plain": [
       "(103886, 5)"
      ]
     },
     "metadata": {},
     "output_type": "display_data"
    },
    {
     "data": {
      "text/plain": [
       "(99224, 7)"
      ]
     },
     "metadata": {},
     "output_type": "display_data"
    },
    {
     "data": {
      "text/plain": [
       "(99441, 8)"
      ]
     },
     "metadata": {},
     "output_type": "display_data"
    },
    {
     "data": {
      "text/plain": [
       "(32951, 9)"
      ]
     },
     "metadata": {},
     "output_type": "display_data"
    },
    {
     "data": {
      "text/plain": [
       "(3095, 4)"
      ]
     },
     "metadata": {},
     "output_type": "display_data"
    },
    {
     "data": {
      "text/plain": [
       "(71, 2)"
      ]
     },
     "metadata": {},
     "output_type": "display_data"
    }
   ],
   "source": [
    "# Take a look of the data´s shape\n",
    "display(customers.shape)\n",
    "display(geolocation.shape)\n",
    "display(order_items.shape)\n",
    "display(order_payments.shape)\n",
    "display(order_reviews.shape)\n",
    "display(orders_data.shape)\n",
    "display(products_dataset.shape)\n",
    "display(sellers_data.shape)\n",
    "display(product_category_name_translation.shape)"
   ]
  },
  {
   "cell_type": "code",
   "execution_count": 25,
   "metadata": {},
   "outputs": [
    {
     "name": "stdout",
     "output_type": "stream",
     "text": [
      "<class 'pandas.core.frame.DataFrame'>\n",
      "RangeIndex: 99441 entries, 0 to 99440\n",
      "Data columns (total 5 columns):\n",
      " #   Column                    Non-Null Count  Dtype \n",
      "---  ------                    --------------  ----- \n",
      " 0   customer_id               99441 non-null  object\n",
      " 1   customer_unique_id        99441 non-null  object\n",
      " 2   customer_zip_code_prefix  99441 non-null  int64 \n",
      " 3   customer_city             99441 non-null  object\n",
      " 4   customer_state            99441 non-null  object\n",
      "dtypes: int64(1), object(4)\n",
      "memory usage: 3.8+ MB\n"
     ]
    },
    {
     "data": {
      "text/plain": [
       "None"
      ]
     },
     "metadata": {},
     "output_type": "display_data"
    },
    {
     "name": "stdout",
     "output_type": "stream",
     "text": [
      "<class 'pandas.core.frame.DataFrame'>\n",
      "RangeIndex: 1000163 entries, 0 to 1000162\n",
      "Data columns (total 5 columns):\n",
      " #   Column                       Non-Null Count    Dtype  \n",
      "---  ------                       --------------    -----  \n",
      " 0   geolocation_zip_code_prefix  1000163 non-null  int64  \n",
      " 1   geolocation_lat              1000163 non-null  float64\n",
      " 2   geolocation_lng              1000163 non-null  float64\n",
      " 3   geolocation_city             1000163 non-null  object \n",
      " 4   geolocation_state            1000163 non-null  object \n",
      "dtypes: float64(2), int64(1), object(2)\n",
      "memory usage: 38.2+ MB\n"
     ]
    },
    {
     "data": {
      "text/plain": [
       "None"
      ]
     },
     "metadata": {},
     "output_type": "display_data"
    },
    {
     "name": "stdout",
     "output_type": "stream",
     "text": [
      "<class 'pandas.core.frame.DataFrame'>\n",
      "RangeIndex: 112650 entries, 0 to 112649\n",
      "Data columns (total 7 columns):\n",
      " #   Column               Non-Null Count   Dtype  \n",
      "---  ------               --------------   -----  \n",
      " 0   order_id             112650 non-null  object \n",
      " 1   order_item_id        112650 non-null  int64  \n",
      " 2   product_id           112650 non-null  object \n",
      " 3   seller_id            112650 non-null  object \n",
      " 4   shipping_limit_date  112650 non-null  object \n",
      " 5   price                112650 non-null  float64\n",
      " 6   freight_value        112650 non-null  float64\n",
      "dtypes: float64(2), int64(1), object(4)\n",
      "memory usage: 6.0+ MB\n"
     ]
    },
    {
     "data": {
      "text/plain": [
       "None"
      ]
     },
     "metadata": {},
     "output_type": "display_data"
    },
    {
     "name": "stdout",
     "output_type": "stream",
     "text": [
      "<class 'pandas.core.frame.DataFrame'>\n",
      "RangeIndex: 103886 entries, 0 to 103885\n",
      "Data columns (total 5 columns):\n",
      " #   Column                Non-Null Count   Dtype  \n",
      "---  ------                --------------   -----  \n",
      " 0   order_id              103886 non-null  object \n",
      " 1   payment_sequential    103886 non-null  int64  \n",
      " 2   payment_type          103886 non-null  object \n",
      " 3   payment_installments  103886 non-null  int64  \n",
      " 4   payment_value         103886 non-null  float64\n",
      "dtypes: float64(1), int64(2), object(2)\n",
      "memory usage: 4.0+ MB\n"
     ]
    },
    {
     "data": {
      "text/plain": [
       "None"
      ]
     },
     "metadata": {},
     "output_type": "display_data"
    },
    {
     "name": "stdout",
     "output_type": "stream",
     "text": [
      "<class 'pandas.core.frame.DataFrame'>\n",
      "RangeIndex: 99224 entries, 0 to 99223\n",
      "Data columns (total 7 columns):\n",
      " #   Column                   Non-Null Count  Dtype \n",
      "---  ------                   --------------  ----- \n",
      " 0   review_id                99224 non-null  object\n",
      " 1   order_id                 99224 non-null  object\n",
      " 2   review_score             99224 non-null  int64 \n",
      " 3   review_comment_title     11568 non-null  object\n",
      " 4   review_comment_message   40977 non-null  object\n",
      " 5   review_creation_date     99224 non-null  object\n",
      " 6   review_answer_timestamp  99224 non-null  object\n",
      "dtypes: int64(1), object(6)\n",
      "memory usage: 5.3+ MB\n"
     ]
    },
    {
     "data": {
      "text/plain": [
       "None"
      ]
     },
     "metadata": {},
     "output_type": "display_data"
    },
    {
     "name": "stdout",
     "output_type": "stream",
     "text": [
      "<class 'pandas.core.frame.DataFrame'>\n",
      "RangeIndex: 99441 entries, 0 to 99440\n",
      "Data columns (total 8 columns):\n",
      " #   Column                         Non-Null Count  Dtype \n",
      "---  ------                         --------------  ----- \n",
      " 0   order_id                       99441 non-null  object\n",
      " 1   customer_id                    99441 non-null  object\n",
      " 2   order_status                   99441 non-null  object\n",
      " 3   order_purchase_timestamp       99441 non-null  object\n",
      " 4   order_approved_at              99281 non-null  object\n",
      " 5   order_delivered_carrier_date   97658 non-null  object\n",
      " 6   order_delivered_customer_date  96476 non-null  object\n",
      " 7   order_estimated_delivery_date  99441 non-null  object\n",
      "dtypes: object(8)\n",
      "memory usage: 6.1+ MB\n"
     ]
    },
    {
     "data": {
      "text/plain": [
       "None"
      ]
     },
     "metadata": {},
     "output_type": "display_data"
    },
    {
     "name": "stdout",
     "output_type": "stream",
     "text": [
      "<class 'pandas.core.frame.DataFrame'>\n",
      "RangeIndex: 32951 entries, 0 to 32950\n",
      "Data columns (total 9 columns):\n",
      " #   Column                      Non-Null Count  Dtype  \n",
      "---  ------                      --------------  -----  \n",
      " 0   product_id                  32951 non-null  object \n",
      " 1   product_category_name       32341 non-null  object \n",
      " 2   product_name_lenght         32341 non-null  float64\n",
      " 3   product_description_lenght  32341 non-null  float64\n",
      " 4   product_photos_qty          32341 non-null  float64\n",
      " 5   product_weight_g            32949 non-null  float64\n",
      " 6   product_length_cm           32949 non-null  float64\n",
      " 7   product_height_cm           32949 non-null  float64\n",
      " 8   product_width_cm            32949 non-null  float64\n",
      "dtypes: float64(7), object(2)\n",
      "memory usage: 2.3+ MB\n"
     ]
    },
    {
     "data": {
      "text/plain": [
       "None"
      ]
     },
     "metadata": {},
     "output_type": "display_data"
    },
    {
     "name": "stdout",
     "output_type": "stream",
     "text": [
      "<class 'pandas.core.frame.DataFrame'>\n",
      "RangeIndex: 3095 entries, 0 to 3094\n",
      "Data columns (total 4 columns):\n",
      " #   Column                  Non-Null Count  Dtype \n",
      "---  ------                  --------------  ----- \n",
      " 0   seller_id               3095 non-null   object\n",
      " 1   seller_zip_code_prefix  3095 non-null   int64 \n",
      " 2   seller_city             3095 non-null   object\n",
      " 3   seller_state            3095 non-null   object\n",
      "dtypes: int64(1), object(3)\n",
      "memory usage: 96.8+ KB\n"
     ]
    },
    {
     "data": {
      "text/plain": [
       "None"
      ]
     },
     "metadata": {},
     "output_type": "display_data"
    },
    {
     "name": "stdout",
     "output_type": "stream",
     "text": [
      "<class 'pandas.core.frame.DataFrame'>\n",
      "RangeIndex: 71 entries, 0 to 70\n",
      "Data columns (total 2 columns):\n",
      " #   Column                         Non-Null Count  Dtype \n",
      "---  ------                         --------------  ----- \n",
      " 0   product_category_name          71 non-null     object\n",
      " 1   product_category_name_english  71 non-null     object\n",
      "dtypes: object(2)\n",
      "memory usage: 1.2+ KB\n"
     ]
    },
    {
     "data": {
      "text/plain": [
       "None"
      ]
     },
     "metadata": {},
     "output_type": "display_data"
    }
   ],
   "source": [
    "# Take a look of the data´s info\n",
    "display(customers.info())\n",
    "display(geolocation.info())\n",
    "display(order_items.info())\n",
    "display(order_payments.info())\n",
    "display(order_reviews.info())\n",
    "display(orders_data.info())\n",
    "display(products_dataset.info())\n",
    "display(sellers_data.info())\n",
    "display(product_category_name_translation.info())"
   ]
  },
  {
   "cell_type": "code",
   "execution_count": 26,
   "metadata": {},
   "outputs": [
    {
     "data": {
      "text/html": [
       "<div>\n",
       "<style scoped>\n",
       "    .dataframe tbody tr th:only-of-type {\n",
       "        vertical-align: middle;\n",
       "    }\n",
       "\n",
       "    .dataframe tbody tr th {\n",
       "        vertical-align: top;\n",
       "    }\n",
       "\n",
       "    .dataframe thead th {\n",
       "        text-align: right;\n",
       "    }\n",
       "</style>\n",
       "<table border=\"1\" class=\"dataframe\">\n",
       "  <thead>\n",
       "    <tr style=\"text-align: right;\">\n",
       "      <th></th>\n",
       "      <th>customer_id</th>\n",
       "      <th>customer_unique_id</th>\n",
       "      <th>customer_zip_code_prefix</th>\n",
       "      <th>customer_city</th>\n",
       "      <th>customer_state</th>\n",
       "    </tr>\n",
       "  </thead>\n",
       "  <tbody>\n",
       "    <tr>\n",
       "      <th>0</th>\n",
       "      <td>06b8999e2fba1a1fbc88172c00ba8bc7</td>\n",
       "      <td>861eff4711a542e4b93843c6dd7febb0</td>\n",
       "      <td>14409</td>\n",
       "      <td>franca</td>\n",
       "      <td>SP</td>\n",
       "    </tr>\n",
       "    <tr>\n",
       "      <th>1</th>\n",
       "      <td>18955e83d337fd6b2def6b18a428ac77</td>\n",
       "      <td>290c77bc529b7ac935b93aa66c333dc3</td>\n",
       "      <td>9790</td>\n",
       "      <td>sao bernardo do campo</td>\n",
       "      <td>SP</td>\n",
       "    </tr>\n",
       "    <tr>\n",
       "      <th>2</th>\n",
       "      <td>4e7b3e00288586ebd08712fdd0374a03</td>\n",
       "      <td>060e732b5b29e8181a18229c7b0b2b5e</td>\n",
       "      <td>1151</td>\n",
       "      <td>sao paulo</td>\n",
       "      <td>SP</td>\n",
       "    </tr>\n",
       "    <tr>\n",
       "      <th>3</th>\n",
       "      <td>b2b6027bc5c5109e529d4dc6358b12c3</td>\n",
       "      <td>259dac757896d24d7702b9acbbff3f3c</td>\n",
       "      <td>8775</td>\n",
       "      <td>mogi das cruzes</td>\n",
       "      <td>SP</td>\n",
       "    </tr>\n",
       "    <tr>\n",
       "      <th>4</th>\n",
       "      <td>4f2d8ab171c80ec8364f7c12e35b23ad</td>\n",
       "      <td>345ecd01c38d18a9036ed96c73b8d066</td>\n",
       "      <td>13056</td>\n",
       "      <td>campinas</td>\n",
       "      <td>SP</td>\n",
       "    </tr>\n",
       "  </tbody>\n",
       "</table>\n",
       "</div>"
      ],
      "text/plain": [
       "                        customer_id                customer_unique_id  \\\n",
       "0  06b8999e2fba1a1fbc88172c00ba8bc7  861eff4711a542e4b93843c6dd7febb0   \n",
       "1  18955e83d337fd6b2def6b18a428ac77  290c77bc529b7ac935b93aa66c333dc3   \n",
       "2  4e7b3e00288586ebd08712fdd0374a03  060e732b5b29e8181a18229c7b0b2b5e   \n",
       "3  b2b6027bc5c5109e529d4dc6358b12c3  259dac757896d24d7702b9acbbff3f3c   \n",
       "4  4f2d8ab171c80ec8364f7c12e35b23ad  345ecd01c38d18a9036ed96c73b8d066   \n",
       "\n",
       "   customer_zip_code_prefix          customer_city customer_state  \n",
       "0                     14409                 franca             SP  \n",
       "1                      9790  sao bernardo do campo             SP  \n",
       "2                      1151              sao paulo             SP  \n",
       "3                      8775        mogi das cruzes             SP  \n",
       "4                     13056               campinas             SP  "
      ]
     },
     "metadata": {},
     "output_type": "display_data"
    },
    {
     "data": {
      "text/html": [
       "<div>\n",
       "<style scoped>\n",
       "    .dataframe tbody tr th:only-of-type {\n",
       "        vertical-align: middle;\n",
       "    }\n",
       "\n",
       "    .dataframe tbody tr th {\n",
       "        vertical-align: top;\n",
       "    }\n",
       "\n",
       "    .dataframe thead th {\n",
       "        text-align: right;\n",
       "    }\n",
       "</style>\n",
       "<table border=\"1\" class=\"dataframe\">\n",
       "  <thead>\n",
       "    <tr style=\"text-align: right;\">\n",
       "      <th></th>\n",
       "      <th>geolocation_zip_code_prefix</th>\n",
       "      <th>geolocation_lat</th>\n",
       "      <th>geolocation_lng</th>\n",
       "      <th>geolocation_city</th>\n",
       "      <th>geolocation_state</th>\n",
       "    </tr>\n",
       "  </thead>\n",
       "  <tbody>\n",
       "    <tr>\n",
       "      <th>0</th>\n",
       "      <td>1037</td>\n",
       "      <td>-23.545621</td>\n",
       "      <td>-46.639292</td>\n",
       "      <td>sao paulo</td>\n",
       "      <td>SP</td>\n",
       "    </tr>\n",
       "    <tr>\n",
       "      <th>1</th>\n",
       "      <td>1046</td>\n",
       "      <td>-23.546081</td>\n",
       "      <td>-46.644820</td>\n",
       "      <td>sao paulo</td>\n",
       "      <td>SP</td>\n",
       "    </tr>\n",
       "    <tr>\n",
       "      <th>2</th>\n",
       "      <td>1046</td>\n",
       "      <td>-23.546129</td>\n",
       "      <td>-46.642951</td>\n",
       "      <td>sao paulo</td>\n",
       "      <td>SP</td>\n",
       "    </tr>\n",
       "    <tr>\n",
       "      <th>3</th>\n",
       "      <td>1041</td>\n",
       "      <td>-23.544392</td>\n",
       "      <td>-46.639499</td>\n",
       "      <td>sao paulo</td>\n",
       "      <td>SP</td>\n",
       "    </tr>\n",
       "    <tr>\n",
       "      <th>4</th>\n",
       "      <td>1035</td>\n",
       "      <td>-23.541578</td>\n",
       "      <td>-46.641607</td>\n",
       "      <td>sao paulo</td>\n",
       "      <td>SP</td>\n",
       "    </tr>\n",
       "  </tbody>\n",
       "</table>\n",
       "</div>"
      ],
      "text/plain": [
       "   geolocation_zip_code_prefix  geolocation_lat  geolocation_lng  \\\n",
       "0                         1037       -23.545621       -46.639292   \n",
       "1                         1046       -23.546081       -46.644820   \n",
       "2                         1046       -23.546129       -46.642951   \n",
       "3                         1041       -23.544392       -46.639499   \n",
       "4                         1035       -23.541578       -46.641607   \n",
       "\n",
       "  geolocation_city geolocation_state  \n",
       "0        sao paulo                SP  \n",
       "1        sao paulo                SP  \n",
       "2        sao paulo                SP  \n",
       "3        sao paulo                SP  \n",
       "4        sao paulo                SP  "
      ]
     },
     "metadata": {},
     "output_type": "display_data"
    },
    {
     "data": {
      "text/html": [
       "<div>\n",
       "<style scoped>\n",
       "    .dataframe tbody tr th:only-of-type {\n",
       "        vertical-align: middle;\n",
       "    }\n",
       "\n",
       "    .dataframe tbody tr th {\n",
       "        vertical-align: top;\n",
       "    }\n",
       "\n",
       "    .dataframe thead th {\n",
       "        text-align: right;\n",
       "    }\n",
       "</style>\n",
       "<table border=\"1\" class=\"dataframe\">\n",
       "  <thead>\n",
       "    <tr style=\"text-align: right;\">\n",
       "      <th></th>\n",
       "      <th>order_id</th>\n",
       "      <th>order_item_id</th>\n",
       "      <th>product_id</th>\n",
       "      <th>seller_id</th>\n",
       "      <th>shipping_limit_date</th>\n",
       "      <th>price</th>\n",
       "      <th>freight_value</th>\n",
       "    </tr>\n",
       "  </thead>\n",
       "  <tbody>\n",
       "    <tr>\n",
       "      <th>0</th>\n",
       "      <td>00010242fe8c5a6d1ba2dd792cb16214</td>\n",
       "      <td>1</td>\n",
       "      <td>4244733e06e7ecb4970a6e2683c13e61</td>\n",
       "      <td>48436dade18ac8b2bce089ec2a041202</td>\n",
       "      <td>2017-09-19 09:45:35</td>\n",
       "      <td>58.90</td>\n",
       "      <td>13.29</td>\n",
       "    </tr>\n",
       "    <tr>\n",
       "      <th>1</th>\n",
       "      <td>00018f77f2f0320c557190d7a144bdd3</td>\n",
       "      <td>1</td>\n",
       "      <td>e5f2d52b802189ee658865ca93d83a8f</td>\n",
       "      <td>dd7ddc04e1b6c2c614352b383efe2d36</td>\n",
       "      <td>2017-05-03 11:05:13</td>\n",
       "      <td>239.90</td>\n",
       "      <td>19.93</td>\n",
       "    </tr>\n",
       "    <tr>\n",
       "      <th>2</th>\n",
       "      <td>000229ec398224ef6ca0657da4fc703e</td>\n",
       "      <td>1</td>\n",
       "      <td>c777355d18b72b67abbeef9df44fd0fd</td>\n",
       "      <td>5b51032eddd242adc84c38acab88f23d</td>\n",
       "      <td>2018-01-18 14:48:30</td>\n",
       "      <td>199.00</td>\n",
       "      <td>17.87</td>\n",
       "    </tr>\n",
       "    <tr>\n",
       "      <th>3</th>\n",
       "      <td>00024acbcdf0a6daa1e931b038114c75</td>\n",
       "      <td>1</td>\n",
       "      <td>7634da152a4610f1595efa32f14722fc</td>\n",
       "      <td>9d7a1d34a5052409006425275ba1c2b4</td>\n",
       "      <td>2018-08-15 10:10:18</td>\n",
       "      <td>12.99</td>\n",
       "      <td>12.79</td>\n",
       "    </tr>\n",
       "    <tr>\n",
       "      <th>4</th>\n",
       "      <td>00042b26cf59d7ce69dfabb4e55b4fd9</td>\n",
       "      <td>1</td>\n",
       "      <td>ac6c3623068f30de03045865e4e10089</td>\n",
       "      <td>df560393f3a51e74553ab94004ba5c87</td>\n",
       "      <td>2017-02-13 13:57:51</td>\n",
       "      <td>199.90</td>\n",
       "      <td>18.14</td>\n",
       "    </tr>\n",
       "  </tbody>\n",
       "</table>\n",
       "</div>"
      ],
      "text/plain": [
       "                           order_id  order_item_id  \\\n",
       "0  00010242fe8c5a6d1ba2dd792cb16214              1   \n",
       "1  00018f77f2f0320c557190d7a144bdd3              1   \n",
       "2  000229ec398224ef6ca0657da4fc703e              1   \n",
       "3  00024acbcdf0a6daa1e931b038114c75              1   \n",
       "4  00042b26cf59d7ce69dfabb4e55b4fd9              1   \n",
       "\n",
       "                         product_id                         seller_id  \\\n",
       "0  4244733e06e7ecb4970a6e2683c13e61  48436dade18ac8b2bce089ec2a041202   \n",
       "1  e5f2d52b802189ee658865ca93d83a8f  dd7ddc04e1b6c2c614352b383efe2d36   \n",
       "2  c777355d18b72b67abbeef9df44fd0fd  5b51032eddd242adc84c38acab88f23d   \n",
       "3  7634da152a4610f1595efa32f14722fc  9d7a1d34a5052409006425275ba1c2b4   \n",
       "4  ac6c3623068f30de03045865e4e10089  df560393f3a51e74553ab94004ba5c87   \n",
       "\n",
       "   shipping_limit_date   price  freight_value  \n",
       "0  2017-09-19 09:45:35   58.90          13.29  \n",
       "1  2017-05-03 11:05:13  239.90          19.93  \n",
       "2  2018-01-18 14:48:30  199.00          17.87  \n",
       "3  2018-08-15 10:10:18   12.99          12.79  \n",
       "4  2017-02-13 13:57:51  199.90          18.14  "
      ]
     },
     "metadata": {},
     "output_type": "display_data"
    },
    {
     "data": {
      "text/html": [
       "<div>\n",
       "<style scoped>\n",
       "    .dataframe tbody tr th:only-of-type {\n",
       "        vertical-align: middle;\n",
       "    }\n",
       "\n",
       "    .dataframe tbody tr th {\n",
       "        vertical-align: top;\n",
       "    }\n",
       "\n",
       "    .dataframe thead th {\n",
       "        text-align: right;\n",
       "    }\n",
       "</style>\n",
       "<table border=\"1\" class=\"dataframe\">\n",
       "  <thead>\n",
       "    <tr style=\"text-align: right;\">\n",
       "      <th></th>\n",
       "      <th>order_id</th>\n",
       "      <th>payment_sequential</th>\n",
       "      <th>payment_type</th>\n",
       "      <th>payment_installments</th>\n",
       "      <th>payment_value</th>\n",
       "    </tr>\n",
       "  </thead>\n",
       "  <tbody>\n",
       "    <tr>\n",
       "      <th>0</th>\n",
       "      <td>b81ef226f3fe1789b1e8b2acac839d17</td>\n",
       "      <td>1</td>\n",
       "      <td>credit_card</td>\n",
       "      <td>8</td>\n",
       "      <td>99.33</td>\n",
       "    </tr>\n",
       "    <tr>\n",
       "      <th>1</th>\n",
       "      <td>a9810da82917af2d9aefd1278f1dcfa0</td>\n",
       "      <td>1</td>\n",
       "      <td>credit_card</td>\n",
       "      <td>1</td>\n",
       "      <td>24.39</td>\n",
       "    </tr>\n",
       "    <tr>\n",
       "      <th>2</th>\n",
       "      <td>25e8ea4e93396b6fa0d3dd708e76c1bd</td>\n",
       "      <td>1</td>\n",
       "      <td>credit_card</td>\n",
       "      <td>1</td>\n",
       "      <td>65.71</td>\n",
       "    </tr>\n",
       "    <tr>\n",
       "      <th>3</th>\n",
       "      <td>ba78997921bbcdc1373bb41e913ab953</td>\n",
       "      <td>1</td>\n",
       "      <td>credit_card</td>\n",
       "      <td>8</td>\n",
       "      <td>107.78</td>\n",
       "    </tr>\n",
       "    <tr>\n",
       "      <th>4</th>\n",
       "      <td>42fdf880ba16b47b59251dd489d4441a</td>\n",
       "      <td>1</td>\n",
       "      <td>credit_card</td>\n",
       "      <td>2</td>\n",
       "      <td>128.45</td>\n",
       "    </tr>\n",
       "  </tbody>\n",
       "</table>\n",
       "</div>"
      ],
      "text/plain": [
       "                           order_id  payment_sequential payment_type  \\\n",
       "0  b81ef226f3fe1789b1e8b2acac839d17                   1  credit_card   \n",
       "1  a9810da82917af2d9aefd1278f1dcfa0                   1  credit_card   \n",
       "2  25e8ea4e93396b6fa0d3dd708e76c1bd                   1  credit_card   \n",
       "3  ba78997921bbcdc1373bb41e913ab953                   1  credit_card   \n",
       "4  42fdf880ba16b47b59251dd489d4441a                   1  credit_card   \n",
       "\n",
       "   payment_installments  payment_value  \n",
       "0                     8          99.33  \n",
       "1                     1          24.39  \n",
       "2                     1          65.71  \n",
       "3                     8         107.78  \n",
       "4                     2         128.45  "
      ]
     },
     "metadata": {},
     "output_type": "display_data"
    },
    {
     "data": {
      "text/html": [
       "<div>\n",
       "<style scoped>\n",
       "    .dataframe tbody tr th:only-of-type {\n",
       "        vertical-align: middle;\n",
       "    }\n",
       "\n",
       "    .dataframe tbody tr th {\n",
       "        vertical-align: top;\n",
       "    }\n",
       "\n",
       "    .dataframe thead th {\n",
       "        text-align: right;\n",
       "    }\n",
       "</style>\n",
       "<table border=\"1\" class=\"dataframe\">\n",
       "  <thead>\n",
       "    <tr style=\"text-align: right;\">\n",
       "      <th></th>\n",
       "      <th>review_id</th>\n",
       "      <th>order_id</th>\n",
       "      <th>review_score</th>\n",
       "      <th>review_comment_title</th>\n",
       "      <th>review_comment_message</th>\n",
       "      <th>review_creation_date</th>\n",
       "      <th>review_answer_timestamp</th>\n",
       "    </tr>\n",
       "  </thead>\n",
       "  <tbody>\n",
       "    <tr>\n",
       "      <th>0</th>\n",
       "      <td>7bc2406110b926393aa56f80a40eba40</td>\n",
       "      <td>73fc7af87114b39712e6da79b0a377eb</td>\n",
       "      <td>4</td>\n",
       "      <td>NaN</td>\n",
       "      <td>NaN</td>\n",
       "      <td>2018-01-18 00:00:00</td>\n",
       "      <td>2018-01-18 21:46:59</td>\n",
       "    </tr>\n",
       "    <tr>\n",
       "      <th>1</th>\n",
       "      <td>80e641a11e56f04c1ad469d5645fdfde</td>\n",
       "      <td>a548910a1c6147796b98fdf73dbeba33</td>\n",
       "      <td>5</td>\n",
       "      <td>NaN</td>\n",
       "      <td>NaN</td>\n",
       "      <td>2018-03-10 00:00:00</td>\n",
       "      <td>2018-03-11 03:05:13</td>\n",
       "    </tr>\n",
       "    <tr>\n",
       "      <th>2</th>\n",
       "      <td>228ce5500dc1d8e020d8d1322874b6f0</td>\n",
       "      <td>f9e4b658b201a9f2ecdecbb34bed034b</td>\n",
       "      <td>5</td>\n",
       "      <td>NaN</td>\n",
       "      <td>NaN</td>\n",
       "      <td>2018-02-17 00:00:00</td>\n",
       "      <td>2018-02-18 14:36:24</td>\n",
       "    </tr>\n",
       "    <tr>\n",
       "      <th>3</th>\n",
       "      <td>e64fb393e7b32834bb789ff8bb30750e</td>\n",
       "      <td>658677c97b385a9be170737859d3511b</td>\n",
       "      <td>5</td>\n",
       "      <td>NaN</td>\n",
       "      <td>Recebi bem antes do prazo estipulado.</td>\n",
       "      <td>2017-04-21 00:00:00</td>\n",
       "      <td>2017-04-21 22:02:06</td>\n",
       "    </tr>\n",
       "    <tr>\n",
       "      <th>4</th>\n",
       "      <td>f7c4243c7fe1938f181bec41a392bdeb</td>\n",
       "      <td>8e6bfb81e283fa7e4f11123a3fb894f1</td>\n",
       "      <td>5</td>\n",
       "      <td>NaN</td>\n",
       "      <td>Parabéns lojas lannister adorei comprar pela I...</td>\n",
       "      <td>2018-03-01 00:00:00</td>\n",
       "      <td>2018-03-02 10:26:53</td>\n",
       "    </tr>\n",
       "  </tbody>\n",
       "</table>\n",
       "</div>"
      ],
      "text/plain": [
       "                          review_id                          order_id  \\\n",
       "0  7bc2406110b926393aa56f80a40eba40  73fc7af87114b39712e6da79b0a377eb   \n",
       "1  80e641a11e56f04c1ad469d5645fdfde  a548910a1c6147796b98fdf73dbeba33   \n",
       "2  228ce5500dc1d8e020d8d1322874b6f0  f9e4b658b201a9f2ecdecbb34bed034b   \n",
       "3  e64fb393e7b32834bb789ff8bb30750e  658677c97b385a9be170737859d3511b   \n",
       "4  f7c4243c7fe1938f181bec41a392bdeb  8e6bfb81e283fa7e4f11123a3fb894f1   \n",
       "\n",
       "   review_score review_comment_title  \\\n",
       "0             4                  NaN   \n",
       "1             5                  NaN   \n",
       "2             5                  NaN   \n",
       "3             5                  NaN   \n",
       "4             5                  NaN   \n",
       "\n",
       "                              review_comment_message review_creation_date  \\\n",
       "0                                                NaN  2018-01-18 00:00:00   \n",
       "1                                                NaN  2018-03-10 00:00:00   \n",
       "2                                                NaN  2018-02-17 00:00:00   \n",
       "3              Recebi bem antes do prazo estipulado.  2017-04-21 00:00:00   \n",
       "4  Parabéns lojas lannister adorei comprar pela I...  2018-03-01 00:00:00   \n",
       "\n",
       "  review_answer_timestamp  \n",
       "0     2018-01-18 21:46:59  \n",
       "1     2018-03-11 03:05:13  \n",
       "2     2018-02-18 14:36:24  \n",
       "3     2017-04-21 22:02:06  \n",
       "4     2018-03-02 10:26:53  "
      ]
     },
     "metadata": {},
     "output_type": "display_data"
    },
    {
     "data": {
      "text/html": [
       "<div>\n",
       "<style scoped>\n",
       "    .dataframe tbody tr th:only-of-type {\n",
       "        vertical-align: middle;\n",
       "    }\n",
       "\n",
       "    .dataframe tbody tr th {\n",
       "        vertical-align: top;\n",
       "    }\n",
       "\n",
       "    .dataframe thead th {\n",
       "        text-align: right;\n",
       "    }\n",
       "</style>\n",
       "<table border=\"1\" class=\"dataframe\">\n",
       "  <thead>\n",
       "    <tr style=\"text-align: right;\">\n",
       "      <th></th>\n",
       "      <th>order_id</th>\n",
       "      <th>customer_id</th>\n",
       "      <th>order_status</th>\n",
       "      <th>order_purchase_timestamp</th>\n",
       "      <th>order_approved_at</th>\n",
       "      <th>order_delivered_carrier_date</th>\n",
       "      <th>order_delivered_customer_date</th>\n",
       "      <th>order_estimated_delivery_date</th>\n",
       "    </tr>\n",
       "  </thead>\n",
       "  <tbody>\n",
       "    <tr>\n",
       "      <th>0</th>\n",
       "      <td>e481f51cbdc54678b7cc49136f2d6af7</td>\n",
       "      <td>9ef432eb6251297304e76186b10a928d</td>\n",
       "      <td>delivered</td>\n",
       "      <td>2017-10-02 10:56:33</td>\n",
       "      <td>2017-10-02 11:07:15</td>\n",
       "      <td>2017-10-04 19:55:00</td>\n",
       "      <td>2017-10-10 21:25:13</td>\n",
       "      <td>2017-10-18 00:00:00</td>\n",
       "    </tr>\n",
       "    <tr>\n",
       "      <th>1</th>\n",
       "      <td>53cdb2fc8bc7dce0b6741e2150273451</td>\n",
       "      <td>b0830fb4747a6c6d20dea0b8c802d7ef</td>\n",
       "      <td>delivered</td>\n",
       "      <td>2018-07-24 20:41:37</td>\n",
       "      <td>2018-07-26 03:24:27</td>\n",
       "      <td>2018-07-26 14:31:00</td>\n",
       "      <td>2018-08-07 15:27:45</td>\n",
       "      <td>2018-08-13 00:00:00</td>\n",
       "    </tr>\n",
       "    <tr>\n",
       "      <th>2</th>\n",
       "      <td>47770eb9100c2d0c44946d9cf07ec65d</td>\n",
       "      <td>41ce2a54c0b03bf3443c3d931a367089</td>\n",
       "      <td>delivered</td>\n",
       "      <td>2018-08-08 08:38:49</td>\n",
       "      <td>2018-08-08 08:55:23</td>\n",
       "      <td>2018-08-08 13:50:00</td>\n",
       "      <td>2018-08-17 18:06:29</td>\n",
       "      <td>2018-09-04 00:00:00</td>\n",
       "    </tr>\n",
       "    <tr>\n",
       "      <th>3</th>\n",
       "      <td>949d5b44dbf5de918fe9c16f97b45f8a</td>\n",
       "      <td>f88197465ea7920adcdbec7375364d82</td>\n",
       "      <td>delivered</td>\n",
       "      <td>2017-11-18 19:28:06</td>\n",
       "      <td>2017-11-18 19:45:59</td>\n",
       "      <td>2017-11-22 13:39:59</td>\n",
       "      <td>2017-12-02 00:28:42</td>\n",
       "      <td>2017-12-15 00:00:00</td>\n",
       "    </tr>\n",
       "    <tr>\n",
       "      <th>4</th>\n",
       "      <td>ad21c59c0840e6cb83a9ceb5573f8159</td>\n",
       "      <td>8ab97904e6daea8866dbdbc4fb7aad2c</td>\n",
       "      <td>delivered</td>\n",
       "      <td>2018-02-13 21:18:39</td>\n",
       "      <td>2018-02-13 22:20:29</td>\n",
       "      <td>2018-02-14 19:46:34</td>\n",
       "      <td>2018-02-16 18:17:02</td>\n",
       "      <td>2018-02-26 00:00:00</td>\n",
       "    </tr>\n",
       "  </tbody>\n",
       "</table>\n",
       "</div>"
      ],
      "text/plain": [
       "                           order_id                       customer_id  \\\n",
       "0  e481f51cbdc54678b7cc49136f2d6af7  9ef432eb6251297304e76186b10a928d   \n",
       "1  53cdb2fc8bc7dce0b6741e2150273451  b0830fb4747a6c6d20dea0b8c802d7ef   \n",
       "2  47770eb9100c2d0c44946d9cf07ec65d  41ce2a54c0b03bf3443c3d931a367089   \n",
       "3  949d5b44dbf5de918fe9c16f97b45f8a  f88197465ea7920adcdbec7375364d82   \n",
       "4  ad21c59c0840e6cb83a9ceb5573f8159  8ab97904e6daea8866dbdbc4fb7aad2c   \n",
       "\n",
       "  order_status order_purchase_timestamp    order_approved_at  \\\n",
       "0    delivered      2017-10-02 10:56:33  2017-10-02 11:07:15   \n",
       "1    delivered      2018-07-24 20:41:37  2018-07-26 03:24:27   \n",
       "2    delivered      2018-08-08 08:38:49  2018-08-08 08:55:23   \n",
       "3    delivered      2017-11-18 19:28:06  2017-11-18 19:45:59   \n",
       "4    delivered      2018-02-13 21:18:39  2018-02-13 22:20:29   \n",
       "\n",
       "  order_delivered_carrier_date order_delivered_customer_date  \\\n",
       "0          2017-10-04 19:55:00           2017-10-10 21:25:13   \n",
       "1          2018-07-26 14:31:00           2018-08-07 15:27:45   \n",
       "2          2018-08-08 13:50:00           2018-08-17 18:06:29   \n",
       "3          2017-11-22 13:39:59           2017-12-02 00:28:42   \n",
       "4          2018-02-14 19:46:34           2018-02-16 18:17:02   \n",
       "\n",
       "  order_estimated_delivery_date  \n",
       "0           2017-10-18 00:00:00  \n",
       "1           2018-08-13 00:00:00  \n",
       "2           2018-09-04 00:00:00  \n",
       "3           2017-12-15 00:00:00  \n",
       "4           2018-02-26 00:00:00  "
      ]
     },
     "metadata": {},
     "output_type": "display_data"
    },
    {
     "data": {
      "text/html": [
       "<div>\n",
       "<style scoped>\n",
       "    .dataframe tbody tr th:only-of-type {\n",
       "        vertical-align: middle;\n",
       "    }\n",
       "\n",
       "    .dataframe tbody tr th {\n",
       "        vertical-align: top;\n",
       "    }\n",
       "\n",
       "    .dataframe thead th {\n",
       "        text-align: right;\n",
       "    }\n",
       "</style>\n",
       "<table border=\"1\" class=\"dataframe\">\n",
       "  <thead>\n",
       "    <tr style=\"text-align: right;\">\n",
       "      <th></th>\n",
       "      <th>product_id</th>\n",
       "      <th>product_category_name</th>\n",
       "      <th>product_name_lenght</th>\n",
       "      <th>product_description_lenght</th>\n",
       "      <th>product_photos_qty</th>\n",
       "      <th>product_weight_g</th>\n",
       "      <th>product_length_cm</th>\n",
       "      <th>product_height_cm</th>\n",
       "      <th>product_width_cm</th>\n",
       "    </tr>\n",
       "  </thead>\n",
       "  <tbody>\n",
       "    <tr>\n",
       "      <th>0</th>\n",
       "      <td>1e9e8ef04dbcff4541ed26657ea517e5</td>\n",
       "      <td>perfumaria</td>\n",
       "      <td>40.0</td>\n",
       "      <td>287.0</td>\n",
       "      <td>1.0</td>\n",
       "      <td>225.0</td>\n",
       "      <td>16.0</td>\n",
       "      <td>10.0</td>\n",
       "      <td>14.0</td>\n",
       "    </tr>\n",
       "    <tr>\n",
       "      <th>1</th>\n",
       "      <td>3aa071139cb16b67ca9e5dea641aaa2f</td>\n",
       "      <td>artes</td>\n",
       "      <td>44.0</td>\n",
       "      <td>276.0</td>\n",
       "      <td>1.0</td>\n",
       "      <td>1000.0</td>\n",
       "      <td>30.0</td>\n",
       "      <td>18.0</td>\n",
       "      <td>20.0</td>\n",
       "    </tr>\n",
       "    <tr>\n",
       "      <th>2</th>\n",
       "      <td>96bd76ec8810374ed1b65e291975717f</td>\n",
       "      <td>esporte_lazer</td>\n",
       "      <td>46.0</td>\n",
       "      <td>250.0</td>\n",
       "      <td>1.0</td>\n",
       "      <td>154.0</td>\n",
       "      <td>18.0</td>\n",
       "      <td>9.0</td>\n",
       "      <td>15.0</td>\n",
       "    </tr>\n",
       "    <tr>\n",
       "      <th>3</th>\n",
       "      <td>cef67bcfe19066a932b7673e239eb23d</td>\n",
       "      <td>bebes</td>\n",
       "      <td>27.0</td>\n",
       "      <td>261.0</td>\n",
       "      <td>1.0</td>\n",
       "      <td>371.0</td>\n",
       "      <td>26.0</td>\n",
       "      <td>4.0</td>\n",
       "      <td>26.0</td>\n",
       "    </tr>\n",
       "    <tr>\n",
       "      <th>4</th>\n",
       "      <td>9dc1a7de274444849c219cff195d0b71</td>\n",
       "      <td>utilidades_domesticas</td>\n",
       "      <td>37.0</td>\n",
       "      <td>402.0</td>\n",
       "      <td>4.0</td>\n",
       "      <td>625.0</td>\n",
       "      <td>20.0</td>\n",
       "      <td>17.0</td>\n",
       "      <td>13.0</td>\n",
       "    </tr>\n",
       "  </tbody>\n",
       "</table>\n",
       "</div>"
      ],
      "text/plain": [
       "                         product_id  product_category_name  \\\n",
       "0  1e9e8ef04dbcff4541ed26657ea517e5             perfumaria   \n",
       "1  3aa071139cb16b67ca9e5dea641aaa2f                  artes   \n",
       "2  96bd76ec8810374ed1b65e291975717f          esporte_lazer   \n",
       "3  cef67bcfe19066a932b7673e239eb23d                  bebes   \n",
       "4  9dc1a7de274444849c219cff195d0b71  utilidades_domesticas   \n",
       "\n",
       "   product_name_lenght  product_description_lenght  product_photos_qty  \\\n",
       "0                 40.0                       287.0                 1.0   \n",
       "1                 44.0                       276.0                 1.0   \n",
       "2                 46.0                       250.0                 1.0   \n",
       "3                 27.0                       261.0                 1.0   \n",
       "4                 37.0                       402.0                 4.0   \n",
       "\n",
       "   product_weight_g  product_length_cm  product_height_cm  product_width_cm  \n",
       "0             225.0               16.0               10.0              14.0  \n",
       "1            1000.0               30.0               18.0              20.0  \n",
       "2             154.0               18.0                9.0              15.0  \n",
       "3             371.0               26.0                4.0              26.0  \n",
       "4             625.0               20.0               17.0              13.0  "
      ]
     },
     "metadata": {},
     "output_type": "display_data"
    },
    {
     "data": {
      "text/html": [
       "<div>\n",
       "<style scoped>\n",
       "    .dataframe tbody tr th:only-of-type {\n",
       "        vertical-align: middle;\n",
       "    }\n",
       "\n",
       "    .dataframe tbody tr th {\n",
       "        vertical-align: top;\n",
       "    }\n",
       "\n",
       "    .dataframe thead th {\n",
       "        text-align: right;\n",
       "    }\n",
       "</style>\n",
       "<table border=\"1\" class=\"dataframe\">\n",
       "  <thead>\n",
       "    <tr style=\"text-align: right;\">\n",
       "      <th></th>\n",
       "      <th>seller_id</th>\n",
       "      <th>seller_zip_code_prefix</th>\n",
       "      <th>seller_city</th>\n",
       "      <th>seller_state</th>\n",
       "    </tr>\n",
       "  </thead>\n",
       "  <tbody>\n",
       "    <tr>\n",
       "      <th>0</th>\n",
       "      <td>3442f8959a84dea7ee197c632cb2df15</td>\n",
       "      <td>13023</td>\n",
       "      <td>campinas</td>\n",
       "      <td>SP</td>\n",
       "    </tr>\n",
       "    <tr>\n",
       "      <th>1</th>\n",
       "      <td>d1b65fc7debc3361ea86b5f14c68d2e2</td>\n",
       "      <td>13844</td>\n",
       "      <td>mogi guacu</td>\n",
       "      <td>SP</td>\n",
       "    </tr>\n",
       "    <tr>\n",
       "      <th>2</th>\n",
       "      <td>ce3ad9de960102d0677a81f5d0bb7b2d</td>\n",
       "      <td>20031</td>\n",
       "      <td>rio de janeiro</td>\n",
       "      <td>RJ</td>\n",
       "    </tr>\n",
       "    <tr>\n",
       "      <th>3</th>\n",
       "      <td>c0f3eea2e14555b6faeea3dd58c1b1c3</td>\n",
       "      <td>4195</td>\n",
       "      <td>sao paulo</td>\n",
       "      <td>SP</td>\n",
       "    </tr>\n",
       "    <tr>\n",
       "      <th>4</th>\n",
       "      <td>51a04a8a6bdcb23deccc82b0b80742cf</td>\n",
       "      <td>12914</td>\n",
       "      <td>braganca paulista</td>\n",
       "      <td>SP</td>\n",
       "    </tr>\n",
       "  </tbody>\n",
       "</table>\n",
       "</div>"
      ],
      "text/plain": [
       "                          seller_id  seller_zip_code_prefix  \\\n",
       "0  3442f8959a84dea7ee197c632cb2df15                   13023   \n",
       "1  d1b65fc7debc3361ea86b5f14c68d2e2                   13844   \n",
       "2  ce3ad9de960102d0677a81f5d0bb7b2d                   20031   \n",
       "3  c0f3eea2e14555b6faeea3dd58c1b1c3                    4195   \n",
       "4  51a04a8a6bdcb23deccc82b0b80742cf                   12914   \n",
       "\n",
       "         seller_city seller_state  \n",
       "0           campinas           SP  \n",
       "1         mogi guacu           SP  \n",
       "2     rio de janeiro           RJ  \n",
       "3          sao paulo           SP  \n",
       "4  braganca paulista           SP  "
      ]
     },
     "metadata": {},
     "output_type": "display_data"
    },
    {
     "data": {
      "text/html": [
       "<div>\n",
       "<style scoped>\n",
       "    .dataframe tbody tr th:only-of-type {\n",
       "        vertical-align: middle;\n",
       "    }\n",
       "\n",
       "    .dataframe tbody tr th {\n",
       "        vertical-align: top;\n",
       "    }\n",
       "\n",
       "    .dataframe thead th {\n",
       "        text-align: right;\n",
       "    }\n",
       "</style>\n",
       "<table border=\"1\" class=\"dataframe\">\n",
       "  <thead>\n",
       "    <tr style=\"text-align: right;\">\n",
       "      <th></th>\n",
       "      <th>product_category_name</th>\n",
       "      <th>product_category_name_english</th>\n",
       "    </tr>\n",
       "  </thead>\n",
       "  <tbody>\n",
       "    <tr>\n",
       "      <th>0</th>\n",
       "      <td>beleza_saude</td>\n",
       "      <td>health_beauty</td>\n",
       "    </tr>\n",
       "    <tr>\n",
       "      <th>1</th>\n",
       "      <td>informatica_acessorios</td>\n",
       "      <td>computers_accessories</td>\n",
       "    </tr>\n",
       "    <tr>\n",
       "      <th>2</th>\n",
       "      <td>automotivo</td>\n",
       "      <td>auto</td>\n",
       "    </tr>\n",
       "    <tr>\n",
       "      <th>3</th>\n",
       "      <td>cama_mesa_banho</td>\n",
       "      <td>bed_bath_table</td>\n",
       "    </tr>\n",
       "    <tr>\n",
       "      <th>4</th>\n",
       "      <td>moveis_decoracao</td>\n",
       "      <td>furniture_decor</td>\n",
       "    </tr>\n",
       "  </tbody>\n",
       "</table>\n",
       "</div>"
      ],
      "text/plain": [
       "    product_category_name product_category_name_english\n",
       "0            beleza_saude                 health_beauty\n",
       "1  informatica_acessorios         computers_accessories\n",
       "2              automotivo                          auto\n",
       "3         cama_mesa_banho                bed_bath_table\n",
       "4        moveis_decoracao               furniture_decor"
      ]
     },
     "metadata": {},
     "output_type": "display_data"
    }
   ],
   "source": [
    "# Take a look of the data´s head\n",
    "display(customers.head())\n",
    "display(geolocation.head())\n",
    "display(order_items.head())\n",
    "display(order_payments.head())\n",
    "display(order_reviews.head())\n",
    "display(orders_data.head())\n",
    "display(products_dataset.head())\n",
    "display(sellers_data.head())\n",
    "display(product_category_name_translation.head())\n"
   ]
  },
  {
   "cell_type": "code",
   "execution_count": 27,
   "metadata": {},
   "outputs": [
    {
     "data": {
      "text/plain": [
       "customer_id                 0\n",
       "customer_unique_id          0\n",
       "customer_zip_code_prefix    0\n",
       "customer_city               0\n",
       "customer_state              0\n",
       "dtype: int64"
      ]
     },
     "metadata": {},
     "output_type": "display_data"
    },
    {
     "data": {
      "text/plain": [
       "geolocation_zip_code_prefix    0\n",
       "geolocation_lat                0\n",
       "geolocation_lng                0\n",
       "geolocation_city               0\n",
       "geolocation_state              0\n",
       "dtype: int64"
      ]
     },
     "metadata": {},
     "output_type": "display_data"
    },
    {
     "data": {
      "text/plain": [
       "order_id               0\n",
       "order_item_id          0\n",
       "product_id             0\n",
       "seller_id              0\n",
       "shipping_limit_date    0\n",
       "price                  0\n",
       "freight_value          0\n",
       "dtype: int64"
      ]
     },
     "metadata": {},
     "output_type": "display_data"
    },
    {
     "data": {
      "text/plain": [
       "order_id                0\n",
       "payment_sequential      0\n",
       "payment_type            0\n",
       "payment_installments    0\n",
       "payment_value           0\n",
       "dtype: int64"
      ]
     },
     "metadata": {},
     "output_type": "display_data"
    },
    {
     "data": {
      "text/plain": [
       "review_id                      0\n",
       "order_id                       0\n",
       "review_score                   0\n",
       "review_comment_title       87656\n",
       "review_comment_message     58247\n",
       "review_creation_date           0\n",
       "review_answer_timestamp        0\n",
       "dtype: int64"
      ]
     },
     "metadata": {},
     "output_type": "display_data"
    },
    {
     "data": {
      "text/plain": [
       "order_id                            0\n",
       "customer_id                         0\n",
       "order_status                        0\n",
       "order_purchase_timestamp            0\n",
       "order_approved_at                 160\n",
       "order_delivered_carrier_date     1783\n",
       "order_delivered_customer_date    2965\n",
       "order_estimated_delivery_date       0\n",
       "dtype: int64"
      ]
     },
     "metadata": {},
     "output_type": "display_data"
    },
    {
     "data": {
      "text/plain": [
       "product_id                      0\n",
       "product_category_name         610\n",
       "product_name_lenght           610\n",
       "product_description_lenght    610\n",
       "product_photos_qty            610\n",
       "product_weight_g                2\n",
       "product_length_cm               2\n",
       "product_height_cm               2\n",
       "product_width_cm                2\n",
       "dtype: int64"
      ]
     },
     "metadata": {},
     "output_type": "display_data"
    },
    {
     "data": {
      "text/plain": [
       "seller_id                 0\n",
       "seller_zip_code_prefix    0\n",
       "seller_city               0\n",
       "seller_state              0\n",
       "dtype: int64"
      ]
     },
     "metadata": {},
     "output_type": "display_data"
    },
    {
     "data": {
      "text/plain": [
       "product_category_name            0\n",
       "product_category_name_english    0\n",
       "dtype: int64"
      ]
     },
     "metadata": {},
     "output_type": "display_data"
    }
   ],
   "source": [
    "# Search for NULL values\n",
    "display(customers.isnull().sum())\n",
    "display(geolocation.isnull().sum())\n",
    "display(order_items.isnull().sum())\n",
    "display(order_payments.isnull().sum())\n",
    "display(order_reviews.isnull().sum())\n",
    "display(orders_data.isnull().sum())\n",
    "display(products_dataset.isnull().sum())\n",
    "display(sellers_data.isnull().sum())\n",
    "display(product_category_name_translation.isnull().sum())"
   ]
  },
  {
   "cell_type": "code",
   "execution_count": 28,
   "metadata": {},
   "outputs": [
    {
     "data": {
      "text/plain": [
       "customer_id                 object\n",
       "customer_unique_id          object\n",
       "customer_zip_code_prefix     int64\n",
       "customer_city               object\n",
       "customer_state              object\n",
       "dtype: object"
      ]
     },
     "metadata": {},
     "output_type": "display_data"
    },
    {
     "data": {
      "text/plain": [
       "geolocation_zip_code_prefix      int64\n",
       "geolocation_lat                float64\n",
       "geolocation_lng                float64\n",
       "geolocation_city                object\n",
       "geolocation_state               object\n",
       "dtype: object"
      ]
     },
     "metadata": {},
     "output_type": "display_data"
    },
    {
     "data": {
      "text/plain": [
       "order_id                object\n",
       "order_item_id            int64\n",
       "product_id              object\n",
       "seller_id               object\n",
       "shipping_limit_date     object\n",
       "price                  float64\n",
       "freight_value          float64\n",
       "dtype: object"
      ]
     },
     "metadata": {},
     "output_type": "display_data"
    },
    {
     "data": {
      "text/plain": [
       "order_id                 object\n",
       "payment_sequential        int64\n",
       "payment_type             object\n",
       "payment_installments      int64\n",
       "payment_value           float64\n",
       "dtype: object"
      ]
     },
     "metadata": {},
     "output_type": "display_data"
    },
    {
     "data": {
      "text/plain": [
       "review_id                  object\n",
       "order_id                   object\n",
       "review_score                int64\n",
       "review_comment_title       object\n",
       "review_comment_message     object\n",
       "review_creation_date       object\n",
       "review_answer_timestamp    object\n",
       "dtype: object"
      ]
     },
     "metadata": {},
     "output_type": "display_data"
    },
    {
     "data": {
      "text/plain": [
       "order_id                         object\n",
       "customer_id                      object\n",
       "order_status                     object\n",
       "order_purchase_timestamp         object\n",
       "order_approved_at                object\n",
       "order_delivered_carrier_date     object\n",
       "order_delivered_customer_date    object\n",
       "order_estimated_delivery_date    object\n",
       "dtype: object"
      ]
     },
     "metadata": {},
     "output_type": "display_data"
    },
    {
     "data": {
      "text/plain": [
       "product_id                     object\n",
       "product_category_name          object\n",
       "product_name_lenght           float64\n",
       "product_description_lenght    float64\n",
       "product_photos_qty            float64\n",
       "product_weight_g              float64\n",
       "product_length_cm             float64\n",
       "product_height_cm             float64\n",
       "product_width_cm              float64\n",
       "dtype: object"
      ]
     },
     "metadata": {},
     "output_type": "display_data"
    },
    {
     "data": {
      "text/plain": [
       "seller_id                 object\n",
       "seller_zip_code_prefix     int64\n",
       "seller_city               object\n",
       "seller_state              object\n",
       "dtype: object"
      ]
     },
     "metadata": {},
     "output_type": "display_data"
    },
    {
     "data": {
      "text/plain": [
       "product_category_name            object\n",
       "product_category_name_english    object\n",
       "dtype: object"
      ]
     },
     "metadata": {},
     "output_type": "display_data"
    }
   ],
   "source": [
    "# Check the type of information that every column has\n",
    "display(customers.dtypes)\n",
    "display(geolocation.dtypes)\n",
    "display(order_items.dtypes)\n",
    "display(order_payments.dtypes)\n",
    "display(order_reviews.dtypes)\n",
    "display(orders_data.dtypes)\n",
    "display(products_dataset.dtypes)\n",
    "display(sellers_data.dtypes)\n",
    "display(product_category_name_translation.dtypes)"
   ]
  },
  {
   "attachments": {},
   "cell_type": "markdown",
   "metadata": {},
   "source": [
    "### 1.3 Data Cleaning"
   ]
  },
  {
   "attachments": {},
   "cell_type": "markdown",
   "metadata": {},
   "source": [
    "### 1.3.1  Remove irrelevant data"
   ]
  },
  {
   "cell_type": "code",
   "execution_count": 29,
   "metadata": {},
   "outputs": [],
   "source": [
    "# Remove irrelevant data in the review ID column. In this case, we will drop the colums that have more null values than valid values. \n",
    "order_reviews = order_reviews.drop(columns=['review_comment_title', 'review_comment_message'])"
   ]
  },
  {
   "attachments": {},
   "cell_type": "markdown",
   "metadata": {},
   "source": [
    "### 1.3.2  Remove null values"
   ]
  },
  {
   "attachments": {},
   "cell_type": "markdown",
   "metadata": {},
   "source": [
    "#### 1.3.2.1 Orders_data dataset"
   ]
  },
  {
   "cell_type": "code",
   "execution_count": 30,
   "metadata": {},
   "outputs": [
    {
     "data": {
      "text/plain": [
       "dtype('O')"
      ]
     },
     "metadata": {},
     "output_type": "display_data"
    },
    {
     "data": {
      "text/plain": [
       "dtype('O')"
      ]
     },
     "metadata": {},
     "output_type": "display_data"
    },
    {
     "data": {
      "text/plain": [
       "dtype('O')"
      ]
     },
     "metadata": {},
     "output_type": "display_data"
    }
   ],
   "source": [
    "# calculate the mean of the columns with missing values \n",
    "# check datatype of the columns (they need to be in this case datime type)\n",
    "display(orders_data['order_approved_at'].dtype)                 #---dtype('0')\n",
    "display(orders_data['order_delivered_carrier_date'].dtype)      #---dtype('0')\n",
    "display(orders_data['order_delivered_customer_date'].dtype)     #---dtype('0')\n",
    "\n",
    "#transform the columns into datetime type\n",
    "orders_data['order_approved_at'] = pd.to_datetime(orders_data['order_approved_at'])\n",
    "orders_data['order_delivered_carrier_date'] = pd.to_datetime(orders_data['order_delivered_carrier_date'])\n",
    "orders_data['order_delivered_customer_date'] = pd.to_datetime(orders_data['order_delivered_customer_date'])"
   ]
  },
  {
   "cell_type": "code",
   "execution_count": 31,
   "metadata": {},
   "outputs": [
    {
     "data": {
      "text/plain": [
       "dtype('<M8[ns]')"
      ]
     },
     "metadata": {},
     "output_type": "display_data"
    },
    {
     "data": {
      "text/plain": [
       "dtype('<M8[ns]')"
      ]
     },
     "metadata": {},
     "output_type": "display_data"
    },
    {
     "data": {
      "text/plain": [
       "dtype('<M8[ns]')"
      ]
     },
     "metadata": {},
     "output_type": "display_data"
    }
   ],
   "source": [
    "display(orders_data['order_approved_at'].dtype)                 #---now they are dtype('<M8[ns]')\n",
    "display(orders_data['order_delivered_carrier_date'].dtype)      #---now they are dtype('<M8[ns]')\n",
    "display(orders_data['order_delivered_customer_date'].dtype)     #---now they are dtype('<M8[ns]')"
   ]
  },
  {
   "attachments": {},
   "cell_type": "markdown",
   "metadata": {},
   "source": [
    "Note: In pandas, dtype('<M8[ns]') is an internal representation for datetime data. The '<M8[ns]' part indicates that the data type is a datetime (<M8) with nanosecond precision ([ns]). It is equivalent to datetime64[ns], which is the more commonly used representation for datetime data in pandas."
   ]
  },
  {
   "cell_type": "code",
   "execution_count": 32,
   "metadata": {},
   "outputs": [
    {
     "data": {
      "text/plain": [
       "Timestamp('2017-12-31 18:35:24.098800128')"
      ]
     },
     "metadata": {},
     "output_type": "display_data"
    },
    {
     "data": {
      "text/plain": [
       "Timestamp('2018-01-04 21:49:48.138278656')"
      ]
     },
     "metadata": {},
     "output_type": "display_data"
    },
    {
     "data": {
      "text/plain": [
       "Timestamp('2018-01-14 12:09:19.035542272')"
      ]
     },
     "metadata": {},
     "output_type": "display_data"
    }
   ],
   "source": [
    "# calculate the mean of this columns\n",
    "mean_approved_at = orders_data['order_approved_at'].mean()\n",
    "mean_order_delivered_carrier_date = orders_data['order_delivered_carrier_date'].mean()\n",
    "mean_order_delivered_customer_date = orders_data['order_delivered_customer_date'].mean()\n",
    "\n",
    "display(mean_approved_at)\n",
    "display(mean_order_delivered_carrier_date)\n",
    "display(mean_order_delivered_customer_date)"
   ]
  },
  {
   "cell_type": "code",
   "execution_count": 33,
   "metadata": {},
   "outputs": [],
   "source": [
    "# imput the corresponding values to the null values in this columns with the mean\n",
    "orders_data['order_approved_at'].fillna(mean_approved_at, inplace=True)\n",
    "orders_data['order_delivered_carrier_date'].fillna(mean_order_delivered_carrier_date, inplace=True)\n",
    "orders_data['order_delivered_customer_date'].fillna(mean_order_delivered_customer_date, inplace=True)"
   ]
  },
  {
   "cell_type": "code",
   "execution_count": 34,
   "metadata": {},
   "outputs": [
    {
     "data": {
      "text/plain": [
       "order_id                         0\n",
       "customer_id                      0\n",
       "order_status                     0\n",
       "order_purchase_timestamp         0\n",
       "order_approved_at                0\n",
       "order_delivered_carrier_date     0\n",
       "order_delivered_customer_date    0\n",
       "order_estimated_delivery_date    0\n",
       "dtype: int64"
      ]
     },
     "execution_count": 34,
     "metadata": {},
     "output_type": "execute_result"
    }
   ],
   "source": [
    "# check if null values exist in order_data dataset\n",
    "orders_data.isnull().sum()"
   ]
  },
  {
   "attachments": {},
   "cell_type": "markdown",
   "metadata": {},
   "source": [
    "#### 1.3.2.2 Products_dataset's column types"
   ]
  },
  {
   "cell_type": "code",
   "execution_count": 35,
   "metadata": {},
   "outputs": [
    {
     "data": {
      "text/plain": [
       "dtype('O')"
      ]
     },
     "metadata": {},
     "output_type": "display_data"
    },
    {
     "data": {
      "text/plain": [
       "dtype('float64')"
      ]
     },
     "metadata": {},
     "output_type": "display_data"
    },
    {
     "data": {
      "text/plain": [
       "dtype('float64')"
      ]
     },
     "metadata": {},
     "output_type": "display_data"
    },
    {
     "data": {
      "text/plain": [
       "dtype('float64')"
      ]
     },
     "metadata": {},
     "output_type": "display_data"
    },
    {
     "data": {
      "text/plain": [
       "dtype('float64')"
      ]
     },
     "metadata": {},
     "output_type": "display_data"
    },
    {
     "data": {
      "text/plain": [
       "dtype('float64')"
      ]
     },
     "metadata": {},
     "output_type": "display_data"
    },
    {
     "data": {
      "text/plain": [
       "dtype('float64')"
      ]
     },
     "metadata": {},
     "output_type": "display_data"
    },
    {
     "data": {
      "text/plain": [
       "dtype('float64')"
      ]
     },
     "metadata": {},
     "output_type": "display_data"
    }
   ],
   "source": [
    "# calculate the mean of the columns with missing values \n",
    "# check datatype of the columns (they need to be in this case datime type)\n",
    "display(products_dataset['product_category_name'].dtype)                 \n",
    "display(products_dataset['product_name_lenght'].dtype)      \n",
    "display(products_dataset['product_description_lenght'].dtype)    \n",
    "display(products_dataset['product_photos_qty'].dtype)\n",
    "display(products_dataset['product_weight_g'].dtype)\n",
    "display(products_dataset['product_length_cm'].dtype)\n",
    "display(products_dataset['product_height_cm'].dtype)\n",
    "display(products_dataset['product_width_cm'].dtype)"
   ]
  },
  {
   "cell_type": "code",
   "execution_count": 36,
   "metadata": {},
   "outputs": [],
   "source": [
    "# calculate the mean of this columns\n",
    "# mean_product_category_name = products_dataset['product_category_name'].mean()  -----string type. not applyable for mean calculation\n",
    "mean_product_name_lenght = products_dataset['product_name_lenght'].mean()\n",
    "mean_product_description_lenght = products_dataset['product_description_lenght'].mean()\n",
    "mean_product_photos_qty = products_dataset['product_photos_qty'].mean()\n",
    "mean_product_weight_g = products_dataset['product_weight_g'].mean()\n",
    "mean_product_length_cm = products_dataset['product_length_cm'].mean()\n",
    "mean_product_height_cm = products_dataset['product_height_cm'].mean()\n",
    "mean_product_width_cm = products_dataset['product_width_cm'].mean()"
   ]
  },
  {
   "cell_type": "code",
   "execution_count": 37,
   "metadata": {},
   "outputs": [],
   "source": [
    "# imput the corresponding values to the null values in this columns with the mean\n",
    "products_dataset['product_name_lenght'].fillna(mean_product_name_lenght, inplace=True)\n",
    "products_dataset['product_description_lenght'].fillna(mean_product_description_lenght, inplace=True)\n",
    "products_dataset['product_photos_qty'].fillna(mean_product_photos_qty, inplace=True)\n",
    "products_dataset['product_weight_g'].fillna(mean_product_weight_g, inplace=True)\n",
    "products_dataset['product_length_cm'].fillna(mean_product_length_cm, inplace=True)\n",
    "products_dataset['product_height_cm'].fillna(mean_order_delivered_customer_date, inplace=True)\n",
    "products_dataset['product_width_cm'].fillna(mean_product_width_cm, inplace=True)"
   ]
  },
  {
   "cell_type": "code",
   "execution_count": 38,
   "metadata": {},
   "outputs": [
    {
     "data": {
      "text/plain": [
       "product_id                      0\n",
       "product_category_name         610\n",
       "product_name_lenght             0\n",
       "product_description_lenght      0\n",
       "product_photos_qty              0\n",
       "product_weight_g                0\n",
       "product_length_cm               0\n",
       "product_height_cm               0\n",
       "product_width_cm                0\n",
       "dtype: int64"
      ]
     },
     "execution_count": 38,
     "metadata": {},
     "output_type": "execute_result"
    }
   ],
   "source": [
    "# check if null values exist in order_data dataset\n",
    "products_dataset.isnull().sum()"
   ]
  },
  {
   "attachments": {},
   "cell_type": "markdown",
   "metadata": {},
   "source": [
    "### 1.3.3 Drop the duplicates, if any"
   ]
  },
  {
   "attachments": {},
   "cell_type": "markdown",
   "metadata": {},
   "source": [
    "Use duplicate() function to find duplicated data in the datasets"
   ]
  },
  {
   "cell_type": "code",
   "execution_count": 39,
   "metadata": {},
   "outputs": [
    {
     "data": {
      "text/plain": [
       "customer_id                 0.0\n",
       "customer_unique_id          0.0\n",
       "customer_zip_code_prefix    0.0\n",
       "customer_city               0.0\n",
       "customer_state              0.0\n",
       "dtype: float64"
      ]
     },
     "metadata": {},
     "output_type": "display_data"
    },
    {
     "data": {
      "text/plain": [
       "order_id               0.0\n",
       "order_item_id          0.0\n",
       "product_id             0.0\n",
       "seller_id              0.0\n",
       "shipping_limit_date    0.0\n",
       "price                  0.0\n",
       "freight_value          0.0\n",
       "dtype: float64"
      ]
     },
     "metadata": {},
     "output_type": "display_data"
    },
    {
     "data": {
      "text/plain": [
       "order_id                0.0\n",
       "payment_sequential      0.0\n",
       "payment_type            0.0\n",
       "payment_installments    0.0\n",
       "payment_value           0.0\n",
       "dtype: float64"
      ]
     },
     "metadata": {},
     "output_type": "display_data"
    },
    {
     "data": {
      "text/plain": [
       "review_id                  0.0\n",
       "order_id                   0.0\n",
       "review_score               0.0\n",
       "review_creation_date       0.0\n",
       "review_answer_timestamp    0.0\n",
       "dtype: float64"
      ]
     },
     "metadata": {},
     "output_type": "display_data"
    },
    {
     "name": "stderr",
     "output_type": "stream",
     "text": [
      "/var/folders/zh/sct9634x6kvcb6_5gkff84nh0000gn/T/ipykernel_27921/3052918050.py:7: FutureWarning: The default value of numeric_only in DataFrame.sum is deprecated. In a future version, it will default to False. In addition, specifying 'numeric_only=None' is deprecated. Select only valid columns or specify the value of numeric_only to silence this warning.\n",
      "  display(orders_data[orders_data.duplicated()].sum())\n"
     ]
    },
    {
     "data": {
      "text/plain": [
       "order_id                         0.0\n",
       "customer_id                      0.0\n",
       "order_status                     0.0\n",
       "order_purchase_timestamp         0.0\n",
       "order_estimated_delivery_date    0.0\n",
       "dtype: float64"
      ]
     },
     "metadata": {},
     "output_type": "display_data"
    },
    {
     "data": {
      "text/plain": [
       "product_id                    0.0\n",
       "product_category_name         0.0\n",
       "product_name_lenght           0.0\n",
       "product_description_lenght    0.0\n",
       "product_photos_qty            0.0\n",
       "product_weight_g              0.0\n",
       "product_length_cm             0.0\n",
       "product_height_cm             0.0\n",
       "product_width_cm              0.0\n",
       "dtype: float64"
      ]
     },
     "metadata": {},
     "output_type": "display_data"
    },
    {
     "data": {
      "text/plain": [
       "seller_id                 0.0\n",
       "seller_zip_code_prefix    0.0\n",
       "seller_city               0.0\n",
       "seller_state              0.0\n",
       "dtype: float64"
      ]
     },
     "metadata": {},
     "output_type": "display_data"
    },
    {
     "data": {
      "text/plain": [
       "product_category_name            0.0\n",
       "product_category_name_english    0.0\n",
       "dtype: float64"
      ]
     },
     "metadata": {},
     "output_type": "display_data"
    }
   ],
   "source": [
    "# Find duplicates based on all columns\n",
    "display(customers[customers.duplicated()].sum())\n",
    "# display(geolocation[geolocation.duplicated()]) ----we are going to work with this df below\n",
    "display(order_items[order_items.duplicated()].sum())\n",
    "display(order_payments[order_payments.duplicated()].sum())\n",
    "display(order_reviews[order_reviews.duplicated()].sum())\n",
    "display(orders_data[orders_data.duplicated()].sum())\n",
    "display(products_dataset[products_dataset.duplicated()].sum())\n",
    "display(sellers_data[sellers_data.duplicated()].sum())\n",
    "display(product_category_name_translation[product_category_name_translation.duplicated()].sum())"
   ]
  },
  {
   "cell_type": "code",
   "execution_count": 40,
   "metadata": {},
   "outputs": [],
   "source": [
    "# drop duplicates in geolocation \n",
    "geolocation = geolocation.drop_duplicates()"
   ]
  },
  {
   "cell_type": "code",
   "execution_count": 41,
   "metadata": {},
   "outputs": [
    {
     "data": {
      "text/plain": [
       "customer_id                 0.0\n",
       "customer_unique_id          0.0\n",
       "customer_zip_code_prefix    0.0\n",
       "customer_city               0.0\n",
       "customer_state              0.0\n",
       "dtype: float64"
      ]
     },
     "metadata": {},
     "output_type": "display_data"
    },
    {
     "data": {
      "text/html": [
       "<div>\n",
       "<style scoped>\n",
       "    .dataframe tbody tr th:only-of-type {\n",
       "        vertical-align: middle;\n",
       "    }\n",
       "\n",
       "    .dataframe tbody tr th {\n",
       "        vertical-align: top;\n",
       "    }\n",
       "\n",
       "    .dataframe thead th {\n",
       "        text-align: right;\n",
       "    }\n",
       "</style>\n",
       "<table border=\"1\" class=\"dataframe\">\n",
       "  <thead>\n",
       "    <tr style=\"text-align: right;\">\n",
       "      <th></th>\n",
       "      <th>geolocation_zip_code_prefix</th>\n",
       "      <th>geolocation_lat</th>\n",
       "      <th>geolocation_lng</th>\n",
       "      <th>geolocation_city</th>\n",
       "      <th>geolocation_state</th>\n",
       "    </tr>\n",
       "  </thead>\n",
       "  <tbody>\n",
       "  </tbody>\n",
       "</table>\n",
       "</div>"
      ],
      "text/plain": [
       "Empty DataFrame\n",
       "Columns: [geolocation_zip_code_prefix, geolocation_lat, geolocation_lng, geolocation_city, geolocation_state]\n",
       "Index: []"
      ]
     },
     "metadata": {},
     "output_type": "display_data"
    },
    {
     "data": {
      "text/plain": [
       "order_id               0.0\n",
       "order_item_id          0.0\n",
       "product_id             0.0\n",
       "seller_id              0.0\n",
       "shipping_limit_date    0.0\n",
       "price                  0.0\n",
       "freight_value          0.0\n",
       "dtype: float64"
      ]
     },
     "metadata": {},
     "output_type": "display_data"
    },
    {
     "data": {
      "text/plain": [
       "order_id                0.0\n",
       "payment_sequential      0.0\n",
       "payment_type            0.0\n",
       "payment_installments    0.0\n",
       "payment_value           0.0\n",
       "dtype: float64"
      ]
     },
     "metadata": {},
     "output_type": "display_data"
    },
    {
     "data": {
      "text/plain": [
       "review_id                  0.0\n",
       "order_id                   0.0\n",
       "review_score               0.0\n",
       "review_creation_date       0.0\n",
       "review_answer_timestamp    0.0\n",
       "dtype: float64"
      ]
     },
     "metadata": {},
     "output_type": "display_data"
    },
    {
     "name": "stderr",
     "output_type": "stream",
     "text": [
      "/var/folders/zh/sct9634x6kvcb6_5gkff84nh0000gn/T/ipykernel_27921/2410949325.py:8: FutureWarning: The default value of numeric_only in DataFrame.sum is deprecated. In a future version, it will default to False. In addition, specifying 'numeric_only=None' is deprecated. Select only valid columns or specify the value of numeric_only to silence this warning.\n",
      "  display(orders_data[orders_data.duplicated()].sum())\n"
     ]
    },
    {
     "data": {
      "text/plain": [
       "order_id                         0.0\n",
       "customer_id                      0.0\n",
       "order_status                     0.0\n",
       "order_purchase_timestamp         0.0\n",
       "order_estimated_delivery_date    0.0\n",
       "dtype: float64"
      ]
     },
     "metadata": {},
     "output_type": "display_data"
    },
    {
     "data": {
      "text/plain": [
       "product_id                    0.0\n",
       "product_category_name         0.0\n",
       "product_name_lenght           0.0\n",
       "product_description_lenght    0.0\n",
       "product_photos_qty            0.0\n",
       "product_weight_g              0.0\n",
       "product_length_cm             0.0\n",
       "product_height_cm             0.0\n",
       "product_width_cm              0.0\n",
       "dtype: float64"
      ]
     },
     "metadata": {},
     "output_type": "display_data"
    },
    {
     "data": {
      "text/plain": [
       "seller_id                 0.0\n",
       "seller_zip_code_prefix    0.0\n",
       "seller_city               0.0\n",
       "seller_state              0.0\n",
       "dtype: float64"
      ]
     },
     "metadata": {},
     "output_type": "display_data"
    },
    {
     "data": {
      "text/plain": [
       "product_category_name            0.0\n",
       "product_category_name_english    0.0\n",
       "dtype: float64"
      ]
     },
     "metadata": {},
     "output_type": "display_data"
    }
   ],
   "source": [
    "# check if there are any duplicates\n",
    "# Find duplicates based on all columns\n",
    "display(customers[customers.duplicated()].sum())\n",
    "display(geolocation[geolocation.duplicated()])\n",
    "display(order_items[order_items.duplicated()].sum())\n",
    "display(order_payments[order_payments.duplicated()].sum())\n",
    "display(order_reviews[order_reviews.duplicated()].sum())\n",
    "display(orders_data[orders_data.duplicated()].sum())\n",
    "display(products_dataset[products_dataset.duplicated()].sum())\n",
    "display(sellers_data[sellers_data.duplicated()].sum())\n",
    "display(product_category_name_translation[product_category_name_translation.duplicated()].sum())"
   ]
  },
  {
   "attachments": {},
   "cell_type": "markdown",
   "metadata": {},
   "source": [
    "### 1.3.4 Type conversion"
   ]
  },
  {
   "attachments": {},
   "cell_type": "markdown",
   "metadata": {},
   "source": [
    "Make sure numbers are stored as numerical data types. A date should be stored as a date object, or a Unix timestamp (number of seconds, and so on).\n",
    "In this case we already did this."
   ]
  },
  {
   "attachments": {},
   "cell_type": "markdown",
   "metadata": {},
   "source": [
    "### 1.3.5 Syntax Errors"
   ]
  },
  {
   "attachments": {},
   "cell_type": "markdown",
   "metadata": {},
   "source": [
    "There are no syntax errors here, but it is something you should always check."
   ]
  },
  {
   "attachments": {},
   "cell_type": "markdown",
   "metadata": {},
   "source": [
    "### 1.3.6 Outliers"
   ]
  },
  {
   "attachments": {},
   "cell_type": "markdown",
   "metadata": {},
   "source": [
    "They are values that are significantly different from all other observations. Any data value that lies more than (1.5 * IQR) away from the Q1 and Q3 quartiles is considered an outlier.\n",
    "\n",
    "In general, an e-commerce dataset obtained from a well-functioning system is less likely to have outliers compared to datasets that involve manual data entry or measurement errors. E-commerce datasets typically capture transactional information, such as customer details, product information, and order-related data, which are less prone to outliers.\n",
    "\n",
    "However, it's still possible to have outliers in certain scenarios, such as:\n",
    "\n",
    "Data entry errors: Although automated systems minimize data entry errors, there can still be instances where incorrect or extreme values are recorded.\n",
    "\n",
    "Measurement errors: If the dataset includes measurements or quantitative data collected manually, there may be measurement errors leading to outliers.\n",
    "\n",
    "System glitches or anomalies: While rare, system glitches or anomalies can occasionally result in outliers in the data.\n",
    "\n",
    "Fraudulent activities: In some cases, fraudulent transactions or activities may introduce outliers into the dataset.\n",
    "\n",
    "Therefore, while it's reasonable to assume that the occurrence of outliers in an e-commerce dataset is relatively low, it's still advisable to examine the data and apply outlier detection techniques to ensure data quality and integrity.\n",
    "\n",
    "Remember that outlier detection is an iterative process, and there is no one-size-fits-all approach. It requires a combination of domain knowledge, data understanding, and experimentation to determine the most suitable method and threshold for your specific dataset and analysis objectives."
   ]
  },
  {
   "cell_type": "code",
   "execution_count": 42,
   "metadata": {},
   "outputs": [
    {
     "name": "stdout",
     "output_type": "stream",
     "text": [
      "                            customer_id                customer_unique_id  \\\n",
      "2      4e7b3e00288586ebd08712fdd0374a03  060e732b5b29e8181a18229c7b0b2b5e   \n",
      "14     1f1c7bf1c9b041b292af6c1c4470b753  3151a81801c8386361b62277d7fa5ecf   \n",
      "37     54f755c3fd2709231f9964a1430c5218  40febde16f4718a5def537786473b0be   \n",
      "61     03f846ad03437d864a8d2a22976dcafe  7677c213007e9a6ec9267ea50b5ce5bc   \n",
      "62     de4e13fd7d6469c5ada77d0843c55e42  0c17f9ac28cbd7323f0f4043e9db5907   \n",
      "...                                 ...                               ...   \n",
      "99408  f6c6d3e1e20969a5eed982163f959719  fb354969e06f2093c0083cbfbb91864e   \n",
      "99412  6fb4f2354f36e554ac80141e9128f528  3cc6f2e1b9199837fabb35ff4bf24884   \n",
      "99423  c6ece8a5137f3c9c3a3a12302a19a2ac  aaf22868003377e859049dcf5f0b3fdf   \n",
      "99431  be842c57a8c5a62e9585dd72f22b6338  ca186065de6e2d01cfc99763e6d62048   \n",
      "99439  56b18e2166679b8a959d72dd06da27f9  73c2643a0a458b49f58cea58833b192e   \n",
      "\n",
      "       customer_zip_code_prefix  customer_city customer_state  \n",
      "2                          1151      sao paulo             SP  \n",
      "14                        95110  caxias do sul             RS  \n",
      "37                        93415  novo hamburgo             RS  \n",
      "61                         2075      sao paulo             SP  \n",
      "62                        96015        pelotas             RS  \n",
      "...                         ...            ...            ...  \n",
      "99408                      1521      sao paulo             SP  \n",
      "99412                     99043    passo fundo             RS  \n",
      "99423                      1323      sao paulo             SP  \n",
      "99431                     99150          marau             RS  \n",
      "99439                     92120         canoas             RS  \n",
      "\n",
      "[9933 rows x 5 columns]\n",
      "\n",
      "\n",
      "                                order_id  order_item_id  \\\n",
      "34      00143d0f86d6fbd9f9b38ab440ac16f5              3   \n",
      "44      001ab0a7578dd66cd4b0a71f5b6e1e41              3   \n",
      "139     00526a9d4ebde463baee25f386963ddc              3   \n",
      "140     00526a9d4ebde463baee25f386963ddc              4   \n",
      "153     005d9a5423d47281ac463a968b3936fb              3   \n",
      "...                                  ...            ...   \n",
      "112536  ffb9a9cd00c74c11c24aa30b3d78e03b              4   \n",
      "112576  ffd6f465cab015b452d398ac1f5d978a              3   \n",
      "112617  ffecd5a79a0084f6a592288c67e3c298              3   \n",
      "112642  fffb9224b6fc7c43ebb0904318b10b5f              3   \n",
      "112643  fffb9224b6fc7c43ebb0904318b10b5f              4   \n",
      "\n",
      "                              product_id                         seller_id  \\\n",
      "34      e95ee6822b66ac6058e2e4aff656071a  a17f621c590ea0fab3d5d883e1630ec6   \n",
      "44      0b0172eb0fd18479d29c3bc122c058c2  5656537e588803a555b8eb41f07a944b   \n",
      "139     0c4a0f8ab44f9acd2d04e7024f9ba362  7210cd29727d674c00741e5e387b3ccd   \n",
      "140     0c4a0f8ab44f9acd2d04e7024f9ba362  7210cd29727d674c00741e5e387b3ccd   \n",
      "153     4c3ae5db49258df0784827bdacf3b396  d98eec89afa3380e14463da2aabaea72   \n",
      "...                                  ...                               ...   \n",
      "112536  3321ad579f19476d0d668f726f8dffec  da8622b14eb17ae2831f4ac5b9dab84a   \n",
      "112576  fdcf45aa23bb8312ecc0027d6e1ef1c4  113e3a788b935f48aad63e1c41dac1bd   \n",
      "112617  50fd2b788dc166edd20512370dac54df  8b321bb669392f5163d04c59e235e066   \n",
      "112642  43423cdffde7fda63d0414ed38c11a73  b1fc4f64df5a0e8b6913ab38803c57a9   \n",
      "112643  43423cdffde7fda63d0414ed38c11a73  b1fc4f64df5a0e8b6913ab38803c57a9   \n",
      "\n",
      "        shipping_limit_date   price  freight_value  \n",
      "34      2017-10-20 16:07:52   21.33          15.10  \n",
      "44      2018-01-04 02:33:42   24.89          17.63  \n",
      "139     2018-08-14 22:15:22   33.89           8.40  \n",
      "140     2018-08-14 22:15:22   33.89           8.40  \n",
      "153     2017-10-24 12:28:16   24.99          13.58  \n",
      "...                     ...     ...            ...  \n",
      "112536  2017-03-22 17:20:21  219.90          22.18  \n",
      "112576  2018-05-03 09:30:37    7.84          22.06  \n",
      "112617  2018-03-05 20:15:27   21.90          15.79  \n",
      "112642  2017-11-03 02:55:58   55.00          34.19  \n",
      "112643  2017-11-03 02:55:58   55.00          34.19  \n",
      "\n",
      "[4181 rows x 7 columns]\n",
      "\n",
      "\n",
      "                                order_id  order_item_id  \\\n",
      "3       00024acbcdf0a6daa1e931b038114c75              1   \n",
      "7       000576fe39319847cbb9d288c5617fa6              1   \n",
      "16      0009c9a17f916a706d71784483a5d643              1   \n",
      "30      00137e170939bba5a3134e2386413108              1   \n",
      "35      0014ae671de39511f7575066200733b7              1   \n",
      "...                                  ...            ...   \n",
      "112576  ffd6f465cab015b452d398ac1f5d978a              3   \n",
      "112583  ffdab5e1596138d37793566aa1424d0c              1   \n",
      "112632  fff7c4452f050315db1b3f24d9df5fcd              1   \n",
      "112638  fffb0b1a50e65c449020434fa835e078              1   \n",
      "112646  fffcd46ef2263f404302a634eb57f7eb              1   \n",
      "\n",
      "                              product_id                         seller_id  \\\n",
      "3       7634da152a4610f1595efa32f14722fc  9d7a1d34a5052409006425275ba1c2b4   \n",
      "7       557d850972a7d6f792fd18ae1400d9b6  5996cddab893a4652a15592fb58ab8db   \n",
      "16      3f27ac8e699df3d300ec4a5d8c5cf0b2  fcb5ace8bcc92f75707dc0f01a27d269   \n",
      "30      672e757f331900b9deea127a2a7b79fd  e59aa562b9f8076dd550fcddf0e73491   \n",
      "35      23365beed316535b4105bd800c46670e  92eb0f42c21942b6552362b9b114707d   \n",
      "...                                  ...                               ...   \n",
      "112576  fdcf45aa23bb8312ecc0027d6e1ef1c4  113e3a788b935f48aad63e1c41dac1bd   \n",
      "112583  f0fad8c5dfa2549bff0ca38e82823cf5  7b0df942f46435babab05d49b744b2c4   \n",
      "112632  dd469c03ad67e201bc2179ef077dcd48  7e93a43ef30c4f03f38b393420bc753a   \n",
      "112638  e7be84ea9462aac5e2b0b08eb35ba7f1  36a968b544695394e4e9d7572688598f   \n",
      "112646  32e07fd915822b0765e448c4dd74c828  f3c38ab652836d21de61fb8314b69182   \n",
      "\n",
      "        shipping_limit_date   price  freight_value  \n",
      "3       2018-08-15 10:10:18   12.99          12.79  \n",
      "7       2018-07-10 12:30:45  810.00          70.75  \n",
      "16      2018-05-02 09:31:53  639.00          11.34  \n",
      "30      2017-11-30 06:30:55  397.00          24.65  \n",
      "35      2017-05-29 03:15:24   16.50          14.10  \n",
      "...                     ...     ...            ...  \n",
      "112576  2018-05-03 09:30:37    7.84          22.06  \n",
      "112583  2017-05-09 11:31:10  399.85          18.50  \n",
      "112632  2017-06-07 17:05:23  736.00          20.91  \n",
      "112638  2017-04-28 16:45:12    4.90          10.96  \n",
      "112646  2018-07-20 04:31:48  350.00          36.53  \n",
      "\n",
      "[11076 rows x 7 columns]\n",
      "\n",
      "\n",
      "                                order_id  order_item_id  \\\n",
      "7       000576fe39319847cbb9d288c5617fa6              1   \n",
      "73      002b430ff89b3a24c31a1170acbbedea              1   \n",
      "81      002f98c0f7efd42638ed6100ca699b42              2   \n",
      "83      0030ff924c38549807645976adeef2c0              1   \n",
      "98      0036757472ece3dde52fd4bfd929c90e              1   \n",
      "...                                  ...            ...   \n",
      "112613  ffebd80e3291e811c308365936897efd              1   \n",
      "112614  ffec1a6d35149778ec575d5048d44db8              1   \n",
      "112624  fff0db5573c78c1cb5a2b68a2bbd8d4a              1   \n",
      "112634  fff8287bbae429a99bb7e8c21d151c41              1   \n",
      "112635  fff8287bbae429a99bb7e8c21d151c41              2   \n",
      "\n",
      "                              product_id                         seller_id  \\\n",
      "7       557d850972a7d6f792fd18ae1400d9b6  5996cddab893a4652a15592fb58ab8db   \n",
      "73      cc47c0863559499f01b4cad750929d10  7a67c85e85bb2ce8582c35f2203ad736   \n",
      "81      880be32f4db1d9f6e2bec38fb6ac23ab  fa40cc5b934574b62717c68f3d678b6d   \n",
      "83      bd7cab8de4d7943286634023cc06f8ff  855668e0971d4dfd7bef1b6a4133b41b   \n",
      "98      4c1bbc12438daec98a77243c2bf7a3ba  7c67e1448b00f6e969d365cea6b010ab   \n",
      "...                                  ...                               ...   \n",
      "112613  4cc4d02efc8f249c13355147fb44e34d  d1c7fa84e48cfa21a0e595167c1c500e   \n",
      "112614  437c05a395e9e47f9762e677a7068ce7  f84fa566034f5e8e880a07ec624c56af   \n",
      "112624  681953ccd5c33207d75571a4bfbe127d  777a0c55737f34ffeb78010f7542ab41   \n",
      "112634  bee2e070c39f3dd2f6883a17a5f0da45  4e922959ae960d389249c378d1c939f5   \n",
      "112635  bee2e070c39f3dd2f6883a17a5f0da45  4e922959ae960d389249c378d1c939f5   \n",
      "\n",
      "        shipping_limit_date   price  freight_value  \n",
      "7       2018-07-10 12:30:45  810.00          70.75  \n",
      "73      2017-06-26 22:10:14  199.99          65.56  \n",
      "81      2017-08-10 09:30:15   44.90           7.16  \n",
      "83      2018-04-06 17:10:21  225.00          67.24  \n",
      "98      2018-08-08 15:10:11  136.99          66.04  \n",
      "...                     ...     ...            ...  \n",
      "112613  2018-07-18 20:23:55  129.90          51.20  \n",
      "112614  2018-03-28 02:49:46   47.65           7.39  \n",
      "112624  2018-07-03 09:31:23   69.95           7.75  \n",
      "112634  2018-03-27 12:29:22  180.00          48.14  \n",
      "112635  2018-03-27 12:29:22  180.00          48.14  \n",
      "\n",
      "[10239 rows x 7 columns]\n",
      "\n",
      "\n",
      "                                order_id  payment_sequential payment_type  \\\n",
      "25      5cfd514482e22bc992e7693f0e3e8df7                   2      voucher   \n",
      "75      3689194c14ad4e2e7361ebd1df0e77b0                   2      voucher   \n",
      "102     21b8b46679ea6482cbf911d960490048                   2      voucher   \n",
      "121     ea9184ad433a404df1d72fa0a8764232                   4      voucher   \n",
      "139     82ffe097d8ddbf319a523b9bbe7725d5                   2      voucher   \n",
      "...                                  ...                 ...          ...   \n",
      "103569  fedcd9f7ccdc8cba3a18defedd1a5547                   6      voucher   \n",
      "103732  f0a5b7c94819c69d12a1c0458ec74756                   2      voucher   \n",
      "103747  cf101c3abd3c061ca9f78c1bbb1125af                   3      voucher   \n",
      "103750  d0bff47153ef056bb4f884a2ec2f0691                   2      voucher   \n",
      "103860  31bc09fdbd701a7a4f9b55b5955b8687                   6      voucher   \n",
      "\n",
      "        payment_installments  payment_value  \n",
      "25                         1          45.17  \n",
      "75                         1          57.53  \n",
      "102                        1          43.12  \n",
      "121                        1          22.49  \n",
      "139                        1          30.00  \n",
      "...                      ...            ...  \n",
      "103569                     1           8.60  \n",
      "103732                     1          80.40  \n",
      "103747                     1           8.46  \n",
      "103750                     1          41.89  \n",
      "103860                     1          77.99  \n",
      "\n",
      "[4526 rows x 5 columns]\n",
      "\n",
      "\n",
      "                                order_id  payment_sequential payment_type  \\\n",
      "195     02951078a21a2d9341ea16089a4d5031                   1  credit_card   \n",
      "278     56ba89857b4e6eb192108f310a81163b                   1  credit_card   \n",
      "493     0b3d8a1bbaa4e340e25adfd640f70308                   1  credit_card   \n",
      "1389    ea9f37dbd83c492fc3b37d6b9e6441ad                   1  credit_card   \n",
      "1446    d189540593578f8076e6cf12e73a8eb8                   1  credit_card   \n",
      "...                                  ...                 ...          ...   \n",
      "102008  f60ce04ff8060152c83c7c97e246d6a8                   1  credit_card   \n",
      "102435  e02d61b42452cc6737650331d8bc8ad7                   1  credit_card   \n",
      "102802  18f4834a46d0ab990c2e0b565fdf646c                   1  credit_card   \n",
      "103051  482538374ee64ae910d1c2e2d7d58f28                   1  credit_card   \n",
      "103219  35133d30b32f389949394cf5ce8ab03e                   1  credit_card   \n",
      "\n",
      "        payment_installments  payment_value  \n",
      "195                       12         257.10  \n",
      "278                       13         197.23  \n",
      "493                       12         190.09  \n",
      "1389                      12         123.69  \n",
      "1446                      12         172.23  \n",
      "...                      ...            ...  \n",
      "102008                    24        1440.10  \n",
      "102435                    24         515.70  \n",
      "102802                    15         322.96  \n",
      "103051                    11         129.22  \n",
      "103219                    16         167.37  \n",
      "\n",
      "[343 rows x 5 columns]\n",
      "\n",
      "\n",
      "                                order_id  payment_sequential payment_type  \\\n",
      "1       a9810da82917af2d9aefd1278f1dcfa0                   1  credit_card   \n",
      "26      d0a945f85ba1074b60aac97ade7e240e                   1  credit_card   \n",
      "30      f45074ae38f2e01d9b854ec8d40362ff                   1  credit_card   \n",
      "52      2e2c60b99754ae1e4d8b18846cfec9f2                   1  credit_card   \n",
      "73      110d9355d6338eab0a65a0cacdde5434                   1  credit_card   \n",
      "...                                  ...                 ...          ...   \n",
      "103783  4198c92e06d92792e49f119f659e723e                   1  credit_card   \n",
      "103792  0f121110b75ef7c38c79d67833c49830                   1  credit_card   \n",
      "103814  df8ab61cb615d551483618533aceb364                   1  credit_card   \n",
      "103817  6d4616de4341417e17978fe57aec1c46                   1  credit_card   \n",
      "103874  d41f1036712e18ee525939d08b7a1c98                   1  credit_card   \n",
      "\n",
      "        payment_installments  payment_value  \n",
      "1                          1          24.39  \n",
      "26                         2         541.00  \n",
      "30                         1          13.78  \n",
      "52                         4         542.66  \n",
      "73                         5         566.40  \n",
      "...                      ...            ...  \n",
      "103783                    10        1294.26  \n",
      "103792                    10         956.86  \n",
      "103814                    10         713.65  \n",
      "103817                     1          19.18  \n",
      "103874                     1           3.57  \n",
      "\n",
      "[10390 rows x 5 columns]\n",
      "\n",
      "\n",
      "Empty DataFrame\n",
      "Columns: [review_id, order_id, review_score, review_creation_date, review_answer_timestamp]\n",
      "Index: []\n",
      "\n",
      "\n",
      "                             product_id product_category_name  \\\n",
      "3      cef67bcfe19066a932b7673e239eb23d                 bebes   \n",
      "15     3bb7f144022e6732727d8d838a7b13b3         esporte_lazer   \n",
      "20     1c1890ba1779090cd54008a3c3302921      moveis_decoracao   \n",
      "21     518ef5de2c2b3a255e326a4594ba15d9       cama_mesa_banho   \n",
      "40     8b3a9476f74f5297f7ff0ec6d95fe1ea      moveis_decoracao   \n",
      "...                                 ...                   ...   \n",
      "32912  ca977202f2d5bc9cfdc368d305e460b8         esporte_lazer   \n",
      "32914  07ae32b18ffbde7c6c928721e8b956fb         esporte_lazer   \n",
      "32917  4419a003d42a243227478f2a949722d8          beleza_saude   \n",
      "32941  6ec96c91757fad0aecafc0ee7f262dcc                 bebes   \n",
      "32942  16280ca280a86fee2ba3c928ed04439f      moveis_decoracao   \n",
      "\n",
      "       product_name_lenght  product_description_lenght  product_photos_qty  \\\n",
      "3                     27.0                       261.0                 1.0   \n",
      "15                    22.0                      3021.0                 1.0   \n",
      "20                    27.0                       158.0                 4.0   \n",
      "21                    27.0                       329.0                 2.0   \n",
      "40                    63.0                       254.0                 2.0   \n",
      "...                    ...                         ...                 ...   \n",
      "32912                 26.0                       715.0                 1.0   \n",
      "32914                 28.0                       315.0                 1.0   \n",
      "32917                 27.0                      1026.0                 2.0   \n",
      "32941                 62.0                      1417.0                 1.0   \n",
      "32942                 64.0                       236.0                11.0   \n",
      "\n",
      "       product_weight_g  product_length_cm product_height_cm  product_width_cm  \n",
      "3                 371.0               26.0               4.0              26.0  \n",
      "15                800.0               16.0               2.0              11.0  \n",
      "20               2550.0               29.0              24.0              45.0  \n",
      "21                800.0               36.0               8.0              16.0  \n",
      "40               2050.0               49.0              13.0              41.0  \n",
      "...                 ...                ...               ...               ...  \n",
      "32912             397.0               18.0              17.0              17.0  \n",
      "32914            3200.0               80.0              12.0              25.0  \n",
      "32917             850.0               25.0               6.0              21.0  \n",
      "32941            9550.0               36.0              35.0              35.0  \n",
      "32942            2200.0               31.0              11.0              26.0  \n",
      "\n",
      "[2322 rows x 9 columns]\n",
      "\n",
      "\n",
      "                             product_id product_category_name  \\\n",
      "13     7bb6f29c2be57716194f96496660c7c2      moveis_decoracao   \n",
      "15     3bb7f144022e6732727d8d838a7b13b3         esporte_lazer   \n",
      "50     5eaa343860dc445b3fd43d1b682809fd         esporte_lazer   \n",
      "61     4e04ffb7dd3739ecfc37de8927dd586c             papelaria   \n",
      "64     dc21247da0290904ffbbcd5953c76f95             papelaria   \n",
      "...                                 ...                   ...   \n",
      "32906  7d1a667dbc183583078324f912d42c6b         esporte_lazer   \n",
      "32911  f9bb291280bceedf7840b89e1e75b89c      moveis_decoracao   \n",
      "32913  7f0c916c7cb73601e0a606a3c23a90d6            brinquedos   \n",
      "32918  2636a9812d151c718b53387171ce08be          beleza_saude   \n",
      "32946  a0b7d5a992ccda646f2d34e418fff5a0      moveis_decoracao   \n",
      "\n",
      "       product_name_lenght  product_description_lenght  product_photos_qty  \\\n",
      "13                    51.0                      2083.0                 2.0   \n",
      "15                    22.0                      3021.0                 1.0   \n",
      "50                    53.0                      3218.0                 5.0   \n",
      "61                    59.0                       144.0                 1.0   \n",
      "64                    41.0                        92.0                 1.0   \n",
      "...                    ...                         ...                 ...   \n",
      "32906                 43.0                      2420.0                 1.0   \n",
      "32911                 57.0                       113.0                11.0   \n",
      "32913                 33.0                      2329.0                 1.0   \n",
      "32918                 52.0                      2088.0                 1.0   \n",
      "32946                 45.0                        67.0                 2.0   \n",
      "\n",
      "       product_weight_g  product_length_cm product_height_cm  product_width_cm  \n",
      "13                600.0               68.0              11.0              13.0  \n",
      "15                800.0               16.0               2.0              11.0  \n",
      "50               4800.0               60.0              30.0              15.0  \n",
      "61                500.0               24.0               7.0              16.0  \n",
      "64                100.0               16.0               5.0              16.0  \n",
      "...                 ...                ...               ...               ...  \n",
      "32906             150.0               16.0               6.0              11.0  \n",
      "32911            2400.0               40.0               8.0              35.0  \n",
      "32913             150.0               16.0              16.0              16.0  \n",
      "32918             443.0               21.0              13.0              17.0  \n",
      "32946           12300.0               40.0              40.0              40.0  \n",
      "\n",
      "[3292 rows x 9 columns]\n",
      "\n",
      "\n",
      "                             product_id        product_category_name  \\\n",
      "31     e1d1d22e9f8122a4ec1533b032c12562           ferramentas_jardim   \n",
      "35     5370b82a213393979691c98074265584                        bebes   \n",
      "118    7f6308ba4057a6a740af7b4dcfb79c13                    telefonia   \n",
      "132    acd427ee119d5c71c7a85ae488cb0a6a  fashion_bolsas_e_acessorios   \n",
      "217    6e9c52b407fea24064f7ab2b144fbf8c                        bebes   \n",
      "...                                 ...                          ...   \n",
      "32879  c00d043237b75cf63c77a05c423af5c7                esporte_lazer   \n",
      "32902  b64f2210138a8d97888314420d066b5e        utilidades_domesticas   \n",
      "32911  f9bb291280bceedf7840b89e1e75b89c             moveis_decoracao   \n",
      "32933  6f79d50d852c044e3f7f0954d13aeacf             moveis_decoracao   \n",
      "32942  16280ca280a86fee2ba3c928ed04439f             moveis_decoracao   \n",
      "\n",
      "       product_name_lenght  product_description_lenght  product_photos_qty  \\\n",
      "31                    49.0                      1163.0                 9.0   \n",
      "35                    52.0                       708.0                 9.0   \n",
      "118                   63.0                      1930.0                 9.0   \n",
      "132                   52.0                        68.0                 7.0   \n",
      "217                   56.0                      1395.0                 7.0   \n",
      "...                    ...                         ...                 ...   \n",
      "32879                 55.0                      1340.0                 7.0   \n",
      "32902                 59.0                       981.0                 7.0   \n",
      "32911                 57.0                       113.0                11.0   \n",
      "32933                 53.0                       194.0                11.0   \n",
      "32942                 64.0                       236.0                11.0   \n",
      "\n",
      "       product_weight_g  product_length_cm product_height_cm  product_width_cm  \n",
      "31               2150.0               70.0               8.0              34.0  \n",
      "35               7950.0               33.0              30.0              44.0  \n",
      "118               200.0               19.0               5.0              11.0  \n",
      "132               200.0               16.0               2.0              11.0  \n",
      "217             13575.0               71.0              81.0              44.0  \n",
      "...                 ...                ...               ...               ...  \n",
      "32879            1200.0               20.0              25.0              20.0  \n",
      "32902            1800.0               30.0               6.0              40.0  \n",
      "32911            2400.0               40.0               8.0              35.0  \n",
      "32933            1100.0               31.0              11.0              26.0  \n",
      "32942            2200.0               31.0              11.0              26.0  \n",
      "\n",
      "[849 rows x 9 columns]\n",
      "\n",
      "\n",
      "                             product_id        product_category_name  \\\n",
      "6      732bd381ad09e530fe0a5f457d81becb                   cool_stuff   \n",
      "22     e3e020af31d4d89d2602272b315c3f6e                 beleza_saude   \n",
      "44     7a8dac4aaa16bc642e4df33adcf03303                   cool_stuff   \n",
      "46     5f504b3a1c75b73d6151be81eb05bdc9                   cool_stuff   \n",
      "56     92bf5d2084dfbcb57d9db7838bac5cd0                    telefonia   \n",
      "...                                 ...                          ...   \n",
      "32869  feb593f17c2f51af2932dbba3e99f1cb                   automotivo   \n",
      "32876  342d75eedb9ec1ecb6d959f76f8f457a                  eletronicos   \n",
      "32907  03c395f45f46b57acf3db9a696fba6d6                    telefonia   \n",
      "32927  1669a8ef7e316417da468a3599115231  fashion_bolsas_e_acessorios   \n",
      "32946  a0b7d5a992ccda646f2d34e418fff5a0             moveis_decoracao   \n",
      "\n",
      "       product_name_lenght  product_description_lenght  product_photos_qty  \\\n",
      "6                     56.0                      1272.0                 4.0   \n",
      "22                    58.0                      1987.0                 3.0   \n",
      "44                    38.0                      1701.0                 2.0   \n",
      "46                    38.0                      1176.0                 3.0   \n",
      "56                    51.0                       427.0                 2.0   \n",
      "...                    ...                         ...                 ...   \n",
      "32869                 50.0                       361.0                 1.0   \n",
      "32876                 60.0                      2523.0                 1.0   \n",
      "32907                 42.0                       379.0                 1.0   \n",
      "32927                 56.0                       321.0                 3.0   \n",
      "32946                 45.0                        67.0                 2.0   \n",
      "\n",
      "       product_weight_g  product_length_cm product_height_cm  product_width_cm  \n",
      "6               18350.0               70.0              24.0              44.0  \n",
      "22                 75.0               21.0               7.0              13.0  \n",
      "44              11750.0               18.0              40.0              79.0  \n",
      "46              15350.0               47.0              40.0              47.0  \n",
      "56                100.0               19.0               3.0              11.0  \n",
      "...                 ...                ...               ...               ...  \n",
      "32869              50.0               35.0               4.0              26.0  \n",
      "32876           16100.0              100.0              20.0              70.0  \n",
      "32907              75.0               18.0               4.0              11.0  \n",
      "32927             100.0               20.0              20.0              12.0  \n",
      "32946           12300.0               40.0              40.0              40.0  \n",
      "\n",
      "[3279 rows x 9 columns]\n",
      "\n",
      "\n",
      "                             product_id product_category_name  \\\n",
      "6      732bd381ad09e530fe0a5f457d81becb            cool_stuff   \n",
      "13     7bb6f29c2be57716194f96496660c7c2      moveis_decoracao   \n",
      "18     a0736b92e52f6cead290e30b578413b6      moveis_decoracao   \n",
      "31     e1d1d22e9f8122a4ec1533b032c12562    ferramentas_jardim   \n",
      "36     b8dac5113b06a97e64943234522572b9            automotivo   \n",
      "...                                 ...                   ...   \n",
      "32900  b81a05d0dd312ece2140846909f5ef81      moveis_decoracao   \n",
      "32910  65bb78cf0bbc3ca6406f30e6793736f9      moveis_decoracao   \n",
      "32914  07ae32b18ffbde7c6c928721e8b956fb         esporte_lazer   \n",
      "32919  6ebc84d95d4340324cf0cb525e495eed            perfumaria   \n",
      "32950  106392145fca363410d287a815be6de4       cama_mesa_banho   \n",
      "\n",
      "       product_name_lenght  product_description_lenght  product_photos_qty  \\\n",
      "6                     56.0                      1272.0                 4.0   \n",
      "13                    51.0                      2083.0                 2.0   \n",
      "18                    56.0                       296.0                 2.0   \n",
      "31                    49.0                      1163.0                 9.0   \n",
      "36                    43.0                      1062.0                 2.0   \n",
      "...                    ...                         ...                 ...   \n",
      "32900                 43.0                      1755.0                 3.0   \n",
      "32910                 56.0                       296.0                 3.0   \n",
      "32914                 28.0                       315.0                 1.0   \n",
      "32919                 44.0                       355.0                 1.0   \n",
      "32950                 58.0                       309.0                 1.0   \n",
      "\n",
      "       product_weight_g  product_length_cm product_height_cm  product_width_cm  \n",
      "6               18350.0               70.0              24.0              44.0  \n",
      "13                600.0               68.0              11.0              13.0  \n",
      "18               1700.0              100.0               7.0              15.0  \n",
      "31               2150.0               70.0               8.0              34.0  \n",
      "36               6000.0               87.0               3.0              42.0  \n",
      "...                 ...                ...               ...               ...  \n",
      "32900             800.0               68.0               8.0              13.0  \n",
      "32910            2000.0              100.0               7.0              12.0  \n",
      "32914            3200.0               80.0              12.0              25.0  \n",
      "32919             120.0               12.0               9.0              10.0  \n",
      "32950            2083.0               12.0               2.0               7.0  \n",
      "\n",
      "[1694 rows x 9 columns]\n",
      "\n",
      "\n",
      "                             product_id             product_category_name  \\\n",
      "25     8ba4f2a4ae695d26e5626c1bf710975e             utilidades_domesticas   \n",
      "26     f6574524b07d5bb753bab6f35abe2d06                  malas_acessorios   \n",
      "44     7a8dac4aaa16bc642e4df33adcf03303                        cool_stuff   \n",
      "53     3fcd8dfe610c62edfb51de2630cd9ef4                             bebes   \n",
      "68     1e5428c428e0f783acd6e3d94ba4ee2a                               pcs   \n",
      "...                                 ...                               ...   \n",
      "32876  342d75eedb9ec1ecb6d959f76f8f457a                       eletronicos   \n",
      "32894  0da84ac639a3af13da933faa601a5dc5                   cama_mesa_banho   \n",
      "32919  6ebc84d95d4340324cf0cb525e495eed                        perfumaria   \n",
      "32921  2b6535d32c6996c9478c131a8ff17a05  construcao_ferramentas_seguranca   \n",
      "32950  106392145fca363410d287a815be6de4                   cama_mesa_banho   \n",
      "\n",
      "       product_name_lenght  product_description_lenght  product_photos_qty  \\\n",
      "25                    52.0                       968.0                 1.0   \n",
      "26                    52.0                       573.0                 5.0   \n",
      "44                    38.0                      1701.0                 2.0   \n",
      "53                    50.0                       509.0                 4.0   \n",
      "68                    55.0                      1067.0                 1.0   \n",
      "...                    ...                         ...                 ...   \n",
      "32876                 60.0                      2523.0                 1.0   \n",
      "32894                 60.0                       184.0                 2.0   \n",
      "32919                 44.0                       355.0                 1.0   \n",
      "32921                 50.0                       428.0                 2.0   \n",
      "32950                 58.0                       309.0                 1.0   \n",
      "\n",
      "       product_weight_g  product_length_cm product_height_cm  product_width_cm  \n",
      "25                900.0               50.0               5.0              50.0  \n",
      "26               3600.0               35.0              25.0              50.0  \n",
      "44              11750.0               18.0              40.0              79.0  \n",
      "53               5700.0               41.0              17.0              49.0  \n",
      "68              12000.0               27.0              50.0              53.0  \n",
      "...                 ...                ...               ...               ...  \n",
      "32876           16100.0              100.0              20.0              70.0  \n",
      "32894             700.0               70.0              10.0              50.0  \n",
      "32919             120.0               12.0               9.0              10.0  \n",
      "32921             333.0               16.0               9.0              10.0  \n",
      "32950            2083.0               12.0               2.0               7.0  \n",
      "\n",
      "[1616 rows x 9 columns]\n",
      "\n",
      "\n",
      "                             seller_id  seller_zip_code_prefix   seller_city  \\\n",
      "8     768a86e36ad6aae3d03ee3c6433d61df                    1529     sao paulo   \n",
      "12    8bd0f31cf0a614c658f6763bd02dea69                    1222     sao paulo   \n",
      "24    8bd0e3abda539b9479c4b44a691be1ec                   98910  tres de maio   \n",
      "31    e9e446d01bd10a97a8ffcfc4a3a20cb2                    2261     sao paulo   \n",
      "45    c353f8fc0ce8344999f17d578eb69a5e                   90850  porto alegre   \n",
      "...                                ...                     ...           ...   \n",
      "3040  9df5750209b83567ec144eb299d7d634                   93032  sao leopoldo   \n",
      "3043  e73bf2cea7fe4b0b4d287a7568ed1099                   89812       chapeco   \n",
      "3061  55c96925041a14097b6a7825554f4ad5                    2122     sao paulo   \n",
      "3087  f00f5b35d0abcacbdd863672f4bb2c1a                    1238     sao paulo   \n",
      "3093  e603cf3fec55f8697c9059638d6c8eb5                   96080       pelotas   \n",
      "\n",
      "     seller_state  \n",
      "8              SP  \n",
      "12             SP  \n",
      "24             RS  \n",
      "31             SP  \n",
      "45             RS  \n",
      "...           ...  \n",
      "3040           RS  \n",
      "3043           SC  \n",
      "3061           SP  \n",
      "3087           SP  \n",
      "3093           RS  \n",
      "\n",
      "[310 rows x 4 columns]\n",
      "\n",
      "\n"
     ]
    }
   ],
   "source": [
    "dataframes = [customers, order_items, order_payments, order_reviews,\n",
    "              orders_data, products_dataset, sellers_data,\n",
    "              product_category_name_translation]\n",
    "\n",
    "for df in dataframes:\n",
    "    # Identify numerical columns\n",
    "    numerical_columns = df.select_dtypes(include=np.number).columns\n",
    "\n",
    "    # Define percentiles for outlier detection (e.g., values outside [5th percentile, 95th percentile])\n",
    "    lower_percentile = 5\n",
    "    upper_percentile = 95\n",
    "\n",
    "    for column in numerical_columns:\n",
    "        # Calculate percentiles for the column\n",
    "        lower_threshold = np.percentile(df[column], lower_percentile)\n",
    "        upper_threshold = np.percentile(df[column], upper_percentile)\n",
    "\n",
    "        # Find rows with outliers in the column\n",
    "        outlier_rows = (df[column] < lower_threshold) | (df[column] > upper_threshold)\n",
    "\n",
    "        # Print rows with outliers in the column\n",
    "        print(df[outlier_rows])\n",
    "        print('\\n')"
   ]
  },
  {
   "attachments": {},
   "cell_type": "markdown",
   "metadata": {},
   "source": [
    "After performing outlier analysis we indentified that because of the nature of the info, there are not relevant outliers, althought numerically there are some that exists. "
   ]
  },
  {
   "attachments": {},
   "cell_type": "markdown",
   "metadata": {},
   "source": [
    "### 1.3.7 In-record & cross-datasets errors"
   ]
  },
  {
   "attachments": {},
   "cell_type": "markdown",
   "metadata": {},
   "source": [
    "These errors result from having two or more values in the same row or across datasets that contradict with each other. For example, if we have a dataset about the cost of living in cities. The total column must be equivalent to the sum of rent, transport, and food.\n",
    "\n",
    "We havent found this kind of errors in these datasets."
   ]
  },
  {
   "attachments": {},
   "cell_type": "markdown",
   "metadata": {},
   "source": [
    "## Export the cleaned data"
   ]
  },
  {
   "cell_type": "code",
   "execution_count": 52,
   "metadata": {},
   "outputs": [],
   "source": [
    "# Specify the path to the dataset folder\n",
    "folder_path = \"../datasets/\"\n",
    "\n",
    "dataframes = [customers, order_items, order_payments, order_reviews,\n",
    "              orders_data, products_dataset, sellers_data,\n",
    "              product_category_name_translation]\n",
    "\n",
    "file_names = ['customers.csv', 'order_items.csv', 'order_payments.csv',\n",
    "              'order_reviews.csv', 'orders_data.csv', 'products_dataset.csv',\n",
    "              'sellers_data.csv', 'product_category_name_translation.csv']\n",
    "\n",
    "for df, file_name in zip(dataframes, file_names):\n",
    "    # Add the prefix \"cleaned_\" to the file name\n",
    "    cleaned_file_name = \"cleaned_\" + file_name\n",
    "    # Get the full path of the output file\n",
    "    output_file_path = os.path.join(folder_path, cleaned_file_name)\n",
    "    # Save the cleaned DataFrame to CSV\n",
    "    df.to_csv(output_file_path, index=False)\n"
   ]
  }
 ],
 "metadata": {
  "kernelspec": {
   "display_name": "ML",
   "language": "python",
   "name": "python3"
  },
  "language_info": {
   "codemirror_mode": {
    "name": "ipython",
    "version": 3
   },
   "file_extension": ".py",
   "mimetype": "text/x-python",
   "name": "python",
   "nbconvert_exporter": "python",
   "pygments_lexer": "ipython3",
   "version": "3.9.16"
  },
  "orig_nbformat": 4
 },
 "nbformat": 4,
 "nbformat_minor": 2
}
