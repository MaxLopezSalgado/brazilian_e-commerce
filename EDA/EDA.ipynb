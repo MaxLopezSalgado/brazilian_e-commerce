{
 "cells": [
  {
   "attachments": {},
   "cell_type": "markdown",
   "metadata": {},
   "source": [
    "- Author: Maximiliano Lopez Salgado\n",
    "- First Commit: 13.06.2023\n",
    "- Last Commit: 13.06.2023\n",
    "- Description: This notebook is used to perform EDA on the Brazilian E-commerce dataset"
   ]
  },
  {
   "cell_type": "code",
   "execution_count": 2,
   "metadata": {},
   "outputs": [],
   "source": [
    "# Import libraries\n",
    "import pandas as pd\n",
    "import numpy as np\n",
    "import matplotlib.pyplot as plt\n",
    "import seaborn as sns\n",
    "from scipy import stats\n",
    "import folium\n"
   ]
  },
  {
   "attachments": {},
   "cell_type": "markdown",
   "metadata": {},
   "source": [
    "# Exploratory Data Analysis (EDA)"
   ]
  },
  {
   "attachments": {},
   "cell_type": "markdown",
   "metadata": {},
   "source": [
    "## 1. Understanding the data"
   ]
  },
  {
   "attachments": {},
   "cell_type": "markdown",
   "metadata": {},
   "source": [
    "### 1.1 Gathering data"
   ]
  },
  {
   "cell_type": "code",
   "execution_count": 3,
   "metadata": {},
   "outputs": [],
   "source": [
    "# import csv files \n",
    "cleaned_customers = pd.read_csv('../datasets/cleaned_customers.csv')\n",
    "cleaned_order_items = pd.read_csv('../datasets/cleaned_order_items.csv')\n",
    "cleaned_order_payments = pd.read_csv('../datasets/cleaned_order_payments.csv')\n",
    "cleaned_order_reviews = pd.read_csv('../datasets/cleaned_order_reviews.csv')\n",
    "cleaned_orders_data = pd.read_csv('../datasets/cleaned_orders_data.csv')\n",
    "cleaned_products_dataset = pd.read_csv('../datasets/cleaned_products_dataset.csv')\n",
    "cleaned_sellers_data = pd.read_csv('../datasets/cleaned_sellers_data.csv')\n",
    "cleaned_product_category_name_translation = pd.read_csv('../datasets/cleaned_product_category_name_translation.csv')\n",
    "geolocation = pd.read_csv('../datasets/olist_geolocation_dataset.csv')"
   ]
  },
  {
   "attachments": {},
   "cell_type": "markdown",
   "metadata": {},
   "source": [
    "### 1.2 Assesing data"
   ]
  },
  {
   "cell_type": "code",
   "execution_count": 4,
   "metadata": {},
   "outputs": [
    {
     "data": {
      "text/plain": [
       "(99441, 5)"
      ]
     },
     "metadata": {},
     "output_type": "display_data"
    },
    {
     "data": {
      "text/plain": [
       "(112650, 7)"
      ]
     },
     "metadata": {},
     "output_type": "display_data"
    },
    {
     "data": {
      "text/plain": [
       "(103886, 5)"
      ]
     },
     "metadata": {},
     "output_type": "display_data"
    },
    {
     "data": {
      "text/plain": [
       "(99224, 5)"
      ]
     },
     "metadata": {},
     "output_type": "display_data"
    },
    {
     "data": {
      "text/plain": [
       "(99441, 8)"
      ]
     },
     "metadata": {},
     "output_type": "display_data"
    },
    {
     "data": {
      "text/plain": [
       "(32951, 9)"
      ]
     },
     "metadata": {},
     "output_type": "display_data"
    },
    {
     "data": {
      "text/plain": [
       "(3095, 4)"
      ]
     },
     "metadata": {},
     "output_type": "display_data"
    },
    {
     "data": {
      "text/plain": [
       "(71, 2)"
      ]
     },
     "metadata": {},
     "output_type": "display_data"
    },
    {
     "data": {
      "text/plain": [
       "(1000163, 5)"
      ]
     },
     "metadata": {},
     "output_type": "display_data"
    }
   ],
   "source": [
    "# take a look of the data´s shape\n",
    "display(cleaned_customers.shape)\n",
    "display(cleaned_order_items.shape)\n",
    "display(cleaned_order_payments.shape)\n",
    "display(cleaned_order_reviews.shape)\n",
    "display(cleaned_orders_data.shape)\n",
    "display(cleaned_products_dataset.shape)\n",
    "display(cleaned_sellers_data.shape)\n",
    "display(cleaned_product_category_name_translation.shape)\n",
    "display(geolocation.shape)"
   ]
  },
  {
   "cell_type": "code",
   "execution_count": 5,
   "metadata": {},
   "outputs": [
    {
     "name": "stdout",
     "output_type": "stream",
     "text": [
      "<class 'pandas.core.frame.DataFrame'>\n",
      "RangeIndex: 99441 entries, 0 to 99440\n",
      "Data columns (total 5 columns):\n",
      " #   Column                    Non-Null Count  Dtype \n",
      "---  ------                    --------------  ----- \n",
      " 0   customer_id               99441 non-null  object\n",
      " 1   customer_unique_id        99441 non-null  object\n",
      " 2   customer_zip_code_prefix  99441 non-null  int64 \n",
      " 3   customer_city             99441 non-null  object\n",
      " 4   customer_state            99441 non-null  object\n",
      "dtypes: int64(1), object(4)\n",
      "memory usage: 3.8+ MB\n"
     ]
    },
    {
     "data": {
      "text/plain": [
       "None"
      ]
     },
     "metadata": {},
     "output_type": "display_data"
    },
    {
     "name": "stdout",
     "output_type": "stream",
     "text": [
      "<class 'pandas.core.frame.DataFrame'>\n",
      "RangeIndex: 112650 entries, 0 to 112649\n",
      "Data columns (total 7 columns):\n",
      " #   Column               Non-Null Count   Dtype  \n",
      "---  ------               --------------   -----  \n",
      " 0   order_id             112650 non-null  object \n",
      " 1   order_item_id        112650 non-null  int64  \n",
      " 2   product_id           112650 non-null  object \n",
      " 3   seller_id            112650 non-null  object \n",
      " 4   shipping_limit_date  112650 non-null  object \n",
      " 5   price                112650 non-null  float64\n",
      " 6   freight_value        112650 non-null  float64\n",
      "dtypes: float64(2), int64(1), object(4)\n",
      "memory usage: 6.0+ MB\n"
     ]
    },
    {
     "data": {
      "text/plain": [
       "None"
      ]
     },
     "metadata": {},
     "output_type": "display_data"
    },
    {
     "name": "stdout",
     "output_type": "stream",
     "text": [
      "<class 'pandas.core.frame.DataFrame'>\n",
      "RangeIndex: 103886 entries, 0 to 103885\n",
      "Data columns (total 5 columns):\n",
      " #   Column                Non-Null Count   Dtype  \n",
      "---  ------                --------------   -----  \n",
      " 0   order_id              103886 non-null  object \n",
      " 1   payment_sequential    103886 non-null  int64  \n",
      " 2   payment_type          103886 non-null  object \n",
      " 3   payment_installments  103886 non-null  int64  \n",
      " 4   payment_value         103886 non-null  float64\n",
      "dtypes: float64(1), int64(2), object(2)\n",
      "memory usage: 4.0+ MB\n"
     ]
    },
    {
     "data": {
      "text/plain": [
       "None"
      ]
     },
     "metadata": {},
     "output_type": "display_data"
    },
    {
     "name": "stdout",
     "output_type": "stream",
     "text": [
      "<class 'pandas.core.frame.DataFrame'>\n",
      "RangeIndex: 99224 entries, 0 to 99223\n",
      "Data columns (total 5 columns):\n",
      " #   Column                   Non-Null Count  Dtype \n",
      "---  ------                   --------------  ----- \n",
      " 0   review_id                99224 non-null  object\n",
      " 1   order_id                 99224 non-null  object\n",
      " 2   review_score             99224 non-null  int64 \n",
      " 3   review_creation_date     99224 non-null  object\n",
      " 4   review_answer_timestamp  99224 non-null  object\n",
      "dtypes: int64(1), object(4)\n",
      "memory usage: 3.8+ MB\n"
     ]
    },
    {
     "data": {
      "text/plain": [
       "None"
      ]
     },
     "metadata": {},
     "output_type": "display_data"
    },
    {
     "name": "stdout",
     "output_type": "stream",
     "text": [
      "<class 'pandas.core.frame.DataFrame'>\n",
      "RangeIndex: 99441 entries, 0 to 99440\n",
      "Data columns (total 8 columns):\n",
      " #   Column                         Non-Null Count  Dtype \n",
      "---  ------                         --------------  ----- \n",
      " 0   order_id                       99441 non-null  object\n",
      " 1   customer_id                    99441 non-null  object\n",
      " 2   order_status                   99441 non-null  object\n",
      " 3   order_purchase_timestamp       99441 non-null  object\n",
      " 4   order_approved_at              99441 non-null  object\n",
      " 5   order_delivered_carrier_date   99441 non-null  object\n",
      " 6   order_delivered_customer_date  99441 non-null  object\n",
      " 7   order_estimated_delivery_date  99441 non-null  object\n",
      "dtypes: object(8)\n",
      "memory usage: 6.1+ MB\n"
     ]
    },
    {
     "data": {
      "text/plain": [
       "None"
      ]
     },
     "metadata": {},
     "output_type": "display_data"
    },
    {
     "name": "stdout",
     "output_type": "stream",
     "text": [
      "<class 'pandas.core.frame.DataFrame'>\n",
      "RangeIndex: 32951 entries, 0 to 32950\n",
      "Data columns (total 9 columns):\n",
      " #   Column                      Non-Null Count  Dtype  \n",
      "---  ------                      --------------  -----  \n",
      " 0   product_id                  32951 non-null  object \n",
      " 1   product_category_name       32341 non-null  object \n",
      " 2   product_name_lenght         32951 non-null  float64\n",
      " 3   product_description_lenght  32951 non-null  float64\n",
      " 4   product_photos_qty          32951 non-null  float64\n",
      " 5   product_weight_g            32951 non-null  float64\n",
      " 6   product_length_cm           32951 non-null  float64\n",
      " 7   product_height_cm           32951 non-null  object \n",
      " 8   product_width_cm            32951 non-null  float64\n",
      "dtypes: float64(6), object(3)\n",
      "memory usage: 2.3+ MB\n"
     ]
    },
    {
     "data": {
      "text/plain": [
       "None"
      ]
     },
     "metadata": {},
     "output_type": "display_data"
    },
    {
     "name": "stdout",
     "output_type": "stream",
     "text": [
      "<class 'pandas.core.frame.DataFrame'>\n",
      "RangeIndex: 3095 entries, 0 to 3094\n",
      "Data columns (total 4 columns):\n",
      " #   Column                  Non-Null Count  Dtype \n",
      "---  ------                  --------------  ----- \n",
      " 0   seller_id               3095 non-null   object\n",
      " 1   seller_zip_code_prefix  3095 non-null   int64 \n",
      " 2   seller_city             3095 non-null   object\n",
      " 3   seller_state            3095 non-null   object\n",
      "dtypes: int64(1), object(3)\n",
      "memory usage: 96.8+ KB\n"
     ]
    },
    {
     "data": {
      "text/plain": [
       "None"
      ]
     },
     "metadata": {},
     "output_type": "display_data"
    },
    {
     "name": "stdout",
     "output_type": "stream",
     "text": [
      "<class 'pandas.core.frame.DataFrame'>\n",
      "RangeIndex: 71 entries, 0 to 70\n",
      "Data columns (total 2 columns):\n",
      " #   Column                         Non-Null Count  Dtype \n",
      "---  ------                         --------------  ----- \n",
      " 0   product_category_name          71 non-null     object\n",
      " 1   product_category_name_english  71 non-null     object\n",
      "dtypes: object(2)\n",
      "memory usage: 1.2+ KB\n"
     ]
    },
    {
     "data": {
      "text/plain": [
       "None"
      ]
     },
     "metadata": {},
     "output_type": "display_data"
    },
    {
     "data": {
      "text/plain": [
       "<bound method DataFrame.info of          geolocation_zip_code_prefix  geolocation_lat  geolocation_lng  \\\n",
       "0                               1037       -23.545621       -46.639292   \n",
       "1                               1046       -23.546081       -46.644820   \n",
       "2                               1046       -23.546129       -46.642951   \n",
       "3                               1041       -23.544392       -46.639499   \n",
       "4                               1035       -23.541578       -46.641607   \n",
       "...                              ...              ...              ...   \n",
       "1000158                        99950       -28.068639       -52.010705   \n",
       "1000159                        99900       -27.877125       -52.224882   \n",
       "1000160                        99950       -28.071855       -52.014716   \n",
       "1000161                        99980       -28.388932       -51.846871   \n",
       "1000162                        99950       -28.070104       -52.018658   \n",
       "\n",
       "        geolocation_city geolocation_state  \n",
       "0              sao paulo                SP  \n",
       "1              sao paulo                SP  \n",
       "2              sao paulo                SP  \n",
       "3              sao paulo                SP  \n",
       "4              sao paulo                SP  \n",
       "...                  ...               ...  \n",
       "1000158         tapejara                RS  \n",
       "1000159   getulio vargas                RS  \n",
       "1000160         tapejara                RS  \n",
       "1000161  david canabarro                RS  \n",
       "1000162         tapejara                RS  \n",
       "\n",
       "[1000163 rows x 5 columns]>"
      ]
     },
     "metadata": {},
     "output_type": "display_data"
    }
   ],
   "source": [
    "# take a look of the data´s info\n",
    "display(cleaned_customers.info())\n",
    "display(cleaned_order_items.info())\n",
    "display(cleaned_order_payments.info())\n",
    "display(cleaned_order_reviews.info())\n",
    "display(cleaned_orders_data.info())\n",
    "display(cleaned_products_dataset.info())\n",
    "display(cleaned_sellers_data.info())\n",
    "display(cleaned_product_category_name_translation.info())\n",
    "display(geolocation.info)"
   ]
  },
  {
   "cell_type": "code",
   "execution_count": 6,
   "metadata": {},
   "outputs": [
    {
     "data": {
      "text/html": [
       "<div>\n",
       "<style scoped>\n",
       "    .dataframe tbody tr th:only-of-type {\n",
       "        vertical-align: middle;\n",
       "    }\n",
       "\n",
       "    .dataframe tbody tr th {\n",
       "        vertical-align: top;\n",
       "    }\n",
       "\n",
       "    .dataframe thead th {\n",
       "        text-align: right;\n",
       "    }\n",
       "</style>\n",
       "<table border=\"1\" class=\"dataframe\">\n",
       "  <thead>\n",
       "    <tr style=\"text-align: right;\">\n",
       "      <th></th>\n",
       "      <th>customer_zip_code_prefix</th>\n",
       "    </tr>\n",
       "  </thead>\n",
       "  <tbody>\n",
       "    <tr>\n",
       "      <th>count</th>\n",
       "      <td>99441.000000</td>\n",
       "    </tr>\n",
       "    <tr>\n",
       "      <th>mean</th>\n",
       "      <td>35137.474583</td>\n",
       "    </tr>\n",
       "    <tr>\n",
       "      <th>std</th>\n",
       "      <td>29797.938996</td>\n",
       "    </tr>\n",
       "    <tr>\n",
       "      <th>min</th>\n",
       "      <td>1003.000000</td>\n",
       "    </tr>\n",
       "    <tr>\n",
       "      <th>25%</th>\n",
       "      <td>11347.000000</td>\n",
       "    </tr>\n",
       "    <tr>\n",
       "      <th>50%</th>\n",
       "      <td>24416.000000</td>\n",
       "    </tr>\n",
       "    <tr>\n",
       "      <th>75%</th>\n",
       "      <td>58900.000000</td>\n",
       "    </tr>\n",
       "    <tr>\n",
       "      <th>max</th>\n",
       "      <td>99990.000000</td>\n",
       "    </tr>\n",
       "  </tbody>\n",
       "</table>\n",
       "</div>"
      ],
      "text/plain": [
       "       customer_zip_code_prefix\n",
       "count              99441.000000\n",
       "mean               35137.474583\n",
       "std                29797.938996\n",
       "min                 1003.000000\n",
       "25%                11347.000000\n",
       "50%                24416.000000\n",
       "75%                58900.000000\n",
       "max                99990.000000"
      ]
     },
     "metadata": {},
     "output_type": "display_data"
    },
    {
     "data": {
      "text/html": [
       "<div>\n",
       "<style scoped>\n",
       "    .dataframe tbody tr th:only-of-type {\n",
       "        vertical-align: middle;\n",
       "    }\n",
       "\n",
       "    .dataframe tbody tr th {\n",
       "        vertical-align: top;\n",
       "    }\n",
       "\n",
       "    .dataframe thead th {\n",
       "        text-align: right;\n",
       "    }\n",
       "</style>\n",
       "<table border=\"1\" class=\"dataframe\">\n",
       "  <thead>\n",
       "    <tr style=\"text-align: right;\">\n",
       "      <th></th>\n",
       "      <th>order_item_id</th>\n",
       "      <th>price</th>\n",
       "      <th>freight_value</th>\n",
       "    </tr>\n",
       "  </thead>\n",
       "  <tbody>\n",
       "    <tr>\n",
       "      <th>count</th>\n",
       "      <td>112650.000000</td>\n",
       "      <td>112650.000000</td>\n",
       "      <td>112650.000000</td>\n",
       "    </tr>\n",
       "    <tr>\n",
       "      <th>mean</th>\n",
       "      <td>1.197834</td>\n",
       "      <td>120.653739</td>\n",
       "      <td>19.990320</td>\n",
       "    </tr>\n",
       "    <tr>\n",
       "      <th>std</th>\n",
       "      <td>0.705124</td>\n",
       "      <td>183.633928</td>\n",
       "      <td>15.806405</td>\n",
       "    </tr>\n",
       "    <tr>\n",
       "      <th>min</th>\n",
       "      <td>1.000000</td>\n",
       "      <td>0.850000</td>\n",
       "      <td>0.000000</td>\n",
       "    </tr>\n",
       "    <tr>\n",
       "      <th>25%</th>\n",
       "      <td>1.000000</td>\n",
       "      <td>39.900000</td>\n",
       "      <td>13.080000</td>\n",
       "    </tr>\n",
       "    <tr>\n",
       "      <th>50%</th>\n",
       "      <td>1.000000</td>\n",
       "      <td>74.990000</td>\n",
       "      <td>16.260000</td>\n",
       "    </tr>\n",
       "    <tr>\n",
       "      <th>75%</th>\n",
       "      <td>1.000000</td>\n",
       "      <td>134.900000</td>\n",
       "      <td>21.150000</td>\n",
       "    </tr>\n",
       "    <tr>\n",
       "      <th>max</th>\n",
       "      <td>21.000000</td>\n",
       "      <td>6735.000000</td>\n",
       "      <td>409.680000</td>\n",
       "    </tr>\n",
       "  </tbody>\n",
       "</table>\n",
       "</div>"
      ],
      "text/plain": [
       "       order_item_id          price  freight_value\n",
       "count  112650.000000  112650.000000  112650.000000\n",
       "mean        1.197834     120.653739      19.990320\n",
       "std         0.705124     183.633928      15.806405\n",
       "min         1.000000       0.850000       0.000000\n",
       "25%         1.000000      39.900000      13.080000\n",
       "50%         1.000000      74.990000      16.260000\n",
       "75%         1.000000     134.900000      21.150000\n",
       "max        21.000000    6735.000000     409.680000"
      ]
     },
     "metadata": {},
     "output_type": "display_data"
    },
    {
     "data": {
      "text/html": [
       "<div>\n",
       "<style scoped>\n",
       "    .dataframe tbody tr th:only-of-type {\n",
       "        vertical-align: middle;\n",
       "    }\n",
       "\n",
       "    .dataframe tbody tr th {\n",
       "        vertical-align: top;\n",
       "    }\n",
       "\n",
       "    .dataframe thead th {\n",
       "        text-align: right;\n",
       "    }\n",
       "</style>\n",
       "<table border=\"1\" class=\"dataframe\">\n",
       "  <thead>\n",
       "    <tr style=\"text-align: right;\">\n",
       "      <th></th>\n",
       "      <th>payment_sequential</th>\n",
       "      <th>payment_installments</th>\n",
       "      <th>payment_value</th>\n",
       "    </tr>\n",
       "  </thead>\n",
       "  <tbody>\n",
       "    <tr>\n",
       "      <th>count</th>\n",
       "      <td>103886.000000</td>\n",
       "      <td>103886.000000</td>\n",
       "      <td>103886.000000</td>\n",
       "    </tr>\n",
       "    <tr>\n",
       "      <th>mean</th>\n",
       "      <td>1.092679</td>\n",
       "      <td>2.853349</td>\n",
       "      <td>154.100380</td>\n",
       "    </tr>\n",
       "    <tr>\n",
       "      <th>std</th>\n",
       "      <td>0.706584</td>\n",
       "      <td>2.687051</td>\n",
       "      <td>217.494064</td>\n",
       "    </tr>\n",
       "    <tr>\n",
       "      <th>min</th>\n",
       "      <td>1.000000</td>\n",
       "      <td>0.000000</td>\n",
       "      <td>0.000000</td>\n",
       "    </tr>\n",
       "    <tr>\n",
       "      <th>25%</th>\n",
       "      <td>1.000000</td>\n",
       "      <td>1.000000</td>\n",
       "      <td>56.790000</td>\n",
       "    </tr>\n",
       "    <tr>\n",
       "      <th>50%</th>\n",
       "      <td>1.000000</td>\n",
       "      <td>1.000000</td>\n",
       "      <td>100.000000</td>\n",
       "    </tr>\n",
       "    <tr>\n",
       "      <th>75%</th>\n",
       "      <td>1.000000</td>\n",
       "      <td>4.000000</td>\n",
       "      <td>171.837500</td>\n",
       "    </tr>\n",
       "    <tr>\n",
       "      <th>max</th>\n",
       "      <td>29.000000</td>\n",
       "      <td>24.000000</td>\n",
       "      <td>13664.080000</td>\n",
       "    </tr>\n",
       "  </tbody>\n",
       "</table>\n",
       "</div>"
      ],
      "text/plain": [
       "       payment_sequential  payment_installments  payment_value\n",
       "count       103886.000000         103886.000000  103886.000000\n",
       "mean             1.092679              2.853349     154.100380\n",
       "std              0.706584              2.687051     217.494064\n",
       "min              1.000000              0.000000       0.000000\n",
       "25%              1.000000              1.000000      56.790000\n",
       "50%              1.000000              1.000000     100.000000\n",
       "75%              1.000000              4.000000     171.837500\n",
       "max             29.000000             24.000000   13664.080000"
      ]
     },
     "metadata": {},
     "output_type": "display_data"
    },
    {
     "data": {
      "text/html": [
       "<div>\n",
       "<style scoped>\n",
       "    .dataframe tbody tr th:only-of-type {\n",
       "        vertical-align: middle;\n",
       "    }\n",
       "\n",
       "    .dataframe tbody tr th {\n",
       "        vertical-align: top;\n",
       "    }\n",
       "\n",
       "    .dataframe thead th {\n",
       "        text-align: right;\n",
       "    }\n",
       "</style>\n",
       "<table border=\"1\" class=\"dataframe\">\n",
       "  <thead>\n",
       "    <tr style=\"text-align: right;\">\n",
       "      <th></th>\n",
       "      <th>review_score</th>\n",
       "    </tr>\n",
       "  </thead>\n",
       "  <tbody>\n",
       "    <tr>\n",
       "      <th>count</th>\n",
       "      <td>99224.000000</td>\n",
       "    </tr>\n",
       "    <tr>\n",
       "      <th>mean</th>\n",
       "      <td>4.086421</td>\n",
       "    </tr>\n",
       "    <tr>\n",
       "      <th>std</th>\n",
       "      <td>1.347579</td>\n",
       "    </tr>\n",
       "    <tr>\n",
       "      <th>min</th>\n",
       "      <td>1.000000</td>\n",
       "    </tr>\n",
       "    <tr>\n",
       "      <th>25%</th>\n",
       "      <td>4.000000</td>\n",
       "    </tr>\n",
       "    <tr>\n",
       "      <th>50%</th>\n",
       "      <td>5.000000</td>\n",
       "    </tr>\n",
       "    <tr>\n",
       "      <th>75%</th>\n",
       "      <td>5.000000</td>\n",
       "    </tr>\n",
       "    <tr>\n",
       "      <th>max</th>\n",
       "      <td>5.000000</td>\n",
       "    </tr>\n",
       "  </tbody>\n",
       "</table>\n",
       "</div>"
      ],
      "text/plain": [
       "       review_score\n",
       "count  99224.000000\n",
       "mean       4.086421\n",
       "std        1.347579\n",
       "min        1.000000\n",
       "25%        4.000000\n",
       "50%        5.000000\n",
       "75%        5.000000\n",
       "max        5.000000"
      ]
     },
     "metadata": {},
     "output_type": "display_data"
    },
    {
     "data": {
      "text/html": [
       "<div>\n",
       "<style scoped>\n",
       "    .dataframe tbody tr th:only-of-type {\n",
       "        vertical-align: middle;\n",
       "    }\n",
       "\n",
       "    .dataframe tbody tr th {\n",
       "        vertical-align: top;\n",
       "    }\n",
       "\n",
       "    .dataframe thead th {\n",
       "        text-align: right;\n",
       "    }\n",
       "</style>\n",
       "<table border=\"1\" class=\"dataframe\">\n",
       "  <thead>\n",
       "    <tr style=\"text-align: right;\">\n",
       "      <th></th>\n",
       "      <th>order_id</th>\n",
       "      <th>customer_id</th>\n",
       "      <th>order_status</th>\n",
       "      <th>order_purchase_timestamp</th>\n",
       "      <th>order_approved_at</th>\n",
       "      <th>order_delivered_carrier_date</th>\n",
       "      <th>order_delivered_customer_date</th>\n",
       "      <th>order_estimated_delivery_date</th>\n",
       "    </tr>\n",
       "  </thead>\n",
       "  <tbody>\n",
       "    <tr>\n",
       "      <th>count</th>\n",
       "      <td>99441</td>\n",
       "      <td>99441</td>\n",
       "      <td>99441</td>\n",
       "      <td>99441</td>\n",
       "      <td>99441</td>\n",
       "      <td>99441</td>\n",
       "      <td>99441</td>\n",
       "      <td>99441</td>\n",
       "    </tr>\n",
       "    <tr>\n",
       "      <th>unique</th>\n",
       "      <td>99441</td>\n",
       "      <td>99441</td>\n",
       "      <td>8</td>\n",
       "      <td>98875</td>\n",
       "      <td>90734</td>\n",
       "      <td>81019</td>\n",
       "      <td>95665</td>\n",
       "      <td>459</td>\n",
       "    </tr>\n",
       "    <tr>\n",
       "      <th>top</th>\n",
       "      <td>e481f51cbdc54678b7cc49136f2d6af7</td>\n",
       "      <td>9ef432eb6251297304e76186b10a928d</td>\n",
       "      <td>delivered</td>\n",
       "      <td>2018-04-11 10:48:14</td>\n",
       "      <td>2017-12-31 18:35:24.098800128</td>\n",
       "      <td>2018-01-04 21:49:48.138278656</td>\n",
       "      <td>2018-01-14 12:09:19.035542272</td>\n",
       "      <td>2017-12-20 00:00:00</td>\n",
       "    </tr>\n",
       "    <tr>\n",
       "      <th>freq</th>\n",
       "      <td>1</td>\n",
       "      <td>1</td>\n",
       "      <td>96478</td>\n",
       "      <td>3</td>\n",
       "      <td>160</td>\n",
       "      <td>1783</td>\n",
       "      <td>2965</td>\n",
       "      <td>522</td>\n",
       "    </tr>\n",
       "  </tbody>\n",
       "</table>\n",
       "</div>"
      ],
      "text/plain": [
       "                                order_id                       customer_id  \\\n",
       "count                              99441                             99441   \n",
       "unique                             99441                             99441   \n",
       "top     e481f51cbdc54678b7cc49136f2d6af7  9ef432eb6251297304e76186b10a928d   \n",
       "freq                                   1                                 1   \n",
       "\n",
       "       order_status order_purchase_timestamp              order_approved_at  \\\n",
       "count         99441                    99441                          99441   \n",
       "unique            8                    98875                          90734   \n",
       "top       delivered      2018-04-11 10:48:14  2017-12-31 18:35:24.098800128   \n",
       "freq          96478                        3                            160   \n",
       "\n",
       "         order_delivered_carrier_date  order_delivered_customer_date  \\\n",
       "count                           99441                          99441   \n",
       "unique                          81019                          95665   \n",
       "top     2018-01-04 21:49:48.138278656  2018-01-14 12:09:19.035542272   \n",
       "freq                             1783                           2965   \n",
       "\n",
       "       order_estimated_delivery_date  \n",
       "count                          99441  \n",
       "unique                           459  \n",
       "top              2017-12-20 00:00:00  \n",
       "freq                             522  "
      ]
     },
     "metadata": {},
     "output_type": "display_data"
    },
    {
     "data": {
      "text/html": [
       "<div>\n",
       "<style scoped>\n",
       "    .dataframe tbody tr th:only-of-type {\n",
       "        vertical-align: middle;\n",
       "    }\n",
       "\n",
       "    .dataframe tbody tr th {\n",
       "        vertical-align: top;\n",
       "    }\n",
       "\n",
       "    .dataframe thead th {\n",
       "        text-align: right;\n",
       "    }\n",
       "</style>\n",
       "<table border=\"1\" class=\"dataframe\">\n",
       "  <thead>\n",
       "    <tr style=\"text-align: right;\">\n",
       "      <th></th>\n",
       "      <th>product_name_lenght</th>\n",
       "      <th>product_description_lenght</th>\n",
       "      <th>product_photos_qty</th>\n",
       "      <th>product_weight_g</th>\n",
       "      <th>product_length_cm</th>\n",
       "      <th>product_width_cm</th>\n",
       "    </tr>\n",
       "  </thead>\n",
       "  <tbody>\n",
       "    <tr>\n",
       "      <th>count</th>\n",
       "      <td>32951.000000</td>\n",
       "      <td>32951.000000</td>\n",
       "      <td>32951.000000</td>\n",
       "      <td>32951.000000</td>\n",
       "      <td>32951.000000</td>\n",
       "      <td>32951.000000</td>\n",
       "    </tr>\n",
       "    <tr>\n",
       "      <th>mean</th>\n",
       "      <td>48.476949</td>\n",
       "      <td>771.495285</td>\n",
       "      <td>2.188986</td>\n",
       "      <td>2276.472488</td>\n",
       "      <td>30.815078</td>\n",
       "      <td>23.196728</td>\n",
       "    </tr>\n",
       "    <tr>\n",
       "      <th>std</th>\n",
       "      <td>10.150458</td>\n",
       "      <td>629.208849</td>\n",
       "      <td>1.720614</td>\n",
       "      <td>4281.908773</td>\n",
       "      <td>16.913945</td>\n",
       "      <td>12.078681</td>\n",
       "    </tr>\n",
       "    <tr>\n",
       "      <th>min</th>\n",
       "      <td>5.000000</td>\n",
       "      <td>4.000000</td>\n",
       "      <td>1.000000</td>\n",
       "      <td>0.000000</td>\n",
       "      <td>7.000000</td>\n",
       "      <td>6.000000</td>\n",
       "    </tr>\n",
       "    <tr>\n",
       "      <th>25%</th>\n",
       "      <td>42.000000</td>\n",
       "      <td>344.000000</td>\n",
       "      <td>1.000000</td>\n",
       "      <td>300.000000</td>\n",
       "      <td>18.000000</td>\n",
       "      <td>15.000000</td>\n",
       "    </tr>\n",
       "    <tr>\n",
       "      <th>50%</th>\n",
       "      <td>51.000000</td>\n",
       "      <td>604.000000</td>\n",
       "      <td>1.000000</td>\n",
       "      <td>700.000000</td>\n",
       "      <td>25.000000</td>\n",
       "      <td>20.000000</td>\n",
       "    </tr>\n",
       "    <tr>\n",
       "      <th>75%</th>\n",
       "      <td>57.000000</td>\n",
       "      <td>961.000000</td>\n",
       "      <td>3.000000</td>\n",
       "      <td>1900.000000</td>\n",
       "      <td>38.000000</td>\n",
       "      <td>30.000000</td>\n",
       "    </tr>\n",
       "    <tr>\n",
       "      <th>max</th>\n",
       "      <td>76.000000</td>\n",
       "      <td>3992.000000</td>\n",
       "      <td>20.000000</td>\n",
       "      <td>40425.000000</td>\n",
       "      <td>105.000000</td>\n",
       "      <td>118.000000</td>\n",
       "    </tr>\n",
       "  </tbody>\n",
       "</table>\n",
       "</div>"
      ],
      "text/plain": [
       "       product_name_lenght  product_description_lenght  product_photos_qty  \\\n",
       "count         32951.000000                32951.000000        32951.000000   \n",
       "mean             48.476949                  771.495285            2.188986   \n",
       "std              10.150458                  629.208849            1.720614   \n",
       "min               5.000000                    4.000000            1.000000   \n",
       "25%              42.000000                  344.000000            1.000000   \n",
       "50%              51.000000                  604.000000            1.000000   \n",
       "75%              57.000000                  961.000000            3.000000   \n",
       "max              76.000000                 3992.000000           20.000000   \n",
       "\n",
       "       product_weight_g  product_length_cm  product_width_cm  \n",
       "count      32951.000000       32951.000000      32951.000000  \n",
       "mean        2276.472488          30.815078         23.196728  \n",
       "std         4281.908773          16.913945         12.078681  \n",
       "min            0.000000           7.000000          6.000000  \n",
       "25%          300.000000          18.000000         15.000000  \n",
       "50%          700.000000          25.000000         20.000000  \n",
       "75%         1900.000000          38.000000         30.000000  \n",
       "max        40425.000000         105.000000        118.000000  "
      ]
     },
     "metadata": {},
     "output_type": "display_data"
    },
    {
     "data": {
      "text/html": [
       "<div>\n",
       "<style scoped>\n",
       "    .dataframe tbody tr th:only-of-type {\n",
       "        vertical-align: middle;\n",
       "    }\n",
       "\n",
       "    .dataframe tbody tr th {\n",
       "        vertical-align: top;\n",
       "    }\n",
       "\n",
       "    .dataframe thead th {\n",
       "        text-align: right;\n",
       "    }\n",
       "</style>\n",
       "<table border=\"1\" class=\"dataframe\">\n",
       "  <thead>\n",
       "    <tr style=\"text-align: right;\">\n",
       "      <th></th>\n",
       "      <th>seller_zip_code_prefix</th>\n",
       "    </tr>\n",
       "  </thead>\n",
       "  <tbody>\n",
       "    <tr>\n",
       "      <th>count</th>\n",
       "      <td>3095.000000</td>\n",
       "    </tr>\n",
       "    <tr>\n",
       "      <th>mean</th>\n",
       "      <td>32291.059451</td>\n",
       "    </tr>\n",
       "    <tr>\n",
       "      <th>std</th>\n",
       "      <td>32713.453830</td>\n",
       "    </tr>\n",
       "    <tr>\n",
       "      <th>min</th>\n",
       "      <td>1001.000000</td>\n",
       "    </tr>\n",
       "    <tr>\n",
       "      <th>25%</th>\n",
       "      <td>7093.500000</td>\n",
       "    </tr>\n",
       "    <tr>\n",
       "      <th>50%</th>\n",
       "      <td>14940.000000</td>\n",
       "    </tr>\n",
       "    <tr>\n",
       "      <th>75%</th>\n",
       "      <td>64552.500000</td>\n",
       "    </tr>\n",
       "    <tr>\n",
       "      <th>max</th>\n",
       "      <td>99730.000000</td>\n",
       "    </tr>\n",
       "  </tbody>\n",
       "</table>\n",
       "</div>"
      ],
      "text/plain": [
       "       seller_zip_code_prefix\n",
       "count             3095.000000\n",
       "mean             32291.059451\n",
       "std              32713.453830\n",
       "min               1001.000000\n",
       "25%               7093.500000\n",
       "50%              14940.000000\n",
       "75%              64552.500000\n",
       "max              99730.000000"
      ]
     },
     "metadata": {},
     "output_type": "display_data"
    },
    {
     "data": {
      "text/html": [
       "<div>\n",
       "<style scoped>\n",
       "    .dataframe tbody tr th:only-of-type {\n",
       "        vertical-align: middle;\n",
       "    }\n",
       "\n",
       "    .dataframe tbody tr th {\n",
       "        vertical-align: top;\n",
       "    }\n",
       "\n",
       "    .dataframe thead th {\n",
       "        text-align: right;\n",
       "    }\n",
       "</style>\n",
       "<table border=\"1\" class=\"dataframe\">\n",
       "  <thead>\n",
       "    <tr style=\"text-align: right;\">\n",
       "      <th></th>\n",
       "      <th>product_category_name</th>\n",
       "      <th>product_category_name_english</th>\n",
       "    </tr>\n",
       "  </thead>\n",
       "  <tbody>\n",
       "    <tr>\n",
       "      <th>count</th>\n",
       "      <td>71</td>\n",
       "      <td>71</td>\n",
       "    </tr>\n",
       "    <tr>\n",
       "      <th>unique</th>\n",
       "      <td>71</td>\n",
       "      <td>71</td>\n",
       "    </tr>\n",
       "    <tr>\n",
       "      <th>top</th>\n",
       "      <td>beleza_saude</td>\n",
       "      <td>health_beauty</td>\n",
       "    </tr>\n",
       "    <tr>\n",
       "      <th>freq</th>\n",
       "      <td>1</td>\n",
       "      <td>1</td>\n",
       "    </tr>\n",
       "  </tbody>\n",
       "</table>\n",
       "</div>"
      ],
      "text/plain": [
       "       product_category_name product_category_name_english\n",
       "count                     71                            71\n",
       "unique                    71                            71\n",
       "top             beleza_saude                 health_beauty\n",
       "freq                       1                             1"
      ]
     },
     "metadata": {},
     "output_type": "display_data"
    },
    {
     "data": {
      "text/html": [
       "<div>\n",
       "<style scoped>\n",
       "    .dataframe tbody tr th:only-of-type {\n",
       "        vertical-align: middle;\n",
       "    }\n",
       "\n",
       "    .dataframe tbody tr th {\n",
       "        vertical-align: top;\n",
       "    }\n",
       "\n",
       "    .dataframe thead th {\n",
       "        text-align: right;\n",
       "    }\n",
       "</style>\n",
       "<table border=\"1\" class=\"dataframe\">\n",
       "  <thead>\n",
       "    <tr style=\"text-align: right;\">\n",
       "      <th></th>\n",
       "      <th>geolocation_zip_code_prefix</th>\n",
       "      <th>geolocation_lat</th>\n",
       "      <th>geolocation_lng</th>\n",
       "    </tr>\n",
       "  </thead>\n",
       "  <tbody>\n",
       "    <tr>\n",
       "      <th>count</th>\n",
       "      <td>1.000163e+06</td>\n",
       "      <td>1.000163e+06</td>\n",
       "      <td>1.000163e+06</td>\n",
       "    </tr>\n",
       "    <tr>\n",
       "      <th>mean</th>\n",
       "      <td>3.657417e+04</td>\n",
       "      <td>-2.117615e+01</td>\n",
       "      <td>-4.639054e+01</td>\n",
       "    </tr>\n",
       "    <tr>\n",
       "      <th>std</th>\n",
       "      <td>3.054934e+04</td>\n",
       "      <td>5.715866e+00</td>\n",
       "      <td>4.269748e+00</td>\n",
       "    </tr>\n",
       "    <tr>\n",
       "      <th>min</th>\n",
       "      <td>1.001000e+03</td>\n",
       "      <td>-3.660537e+01</td>\n",
       "      <td>-1.014668e+02</td>\n",
       "    </tr>\n",
       "    <tr>\n",
       "      <th>25%</th>\n",
       "      <td>1.107500e+04</td>\n",
       "      <td>-2.360355e+01</td>\n",
       "      <td>-4.857317e+01</td>\n",
       "    </tr>\n",
       "    <tr>\n",
       "      <th>50%</th>\n",
       "      <td>2.653000e+04</td>\n",
       "      <td>-2.291938e+01</td>\n",
       "      <td>-4.663788e+01</td>\n",
       "    </tr>\n",
       "    <tr>\n",
       "      <th>75%</th>\n",
       "      <td>6.350400e+04</td>\n",
       "      <td>-1.997962e+01</td>\n",
       "      <td>-4.376771e+01</td>\n",
       "    </tr>\n",
       "    <tr>\n",
       "      <th>max</th>\n",
       "      <td>9.999000e+04</td>\n",
       "      <td>4.506593e+01</td>\n",
       "      <td>1.211054e+02</td>\n",
       "    </tr>\n",
       "  </tbody>\n",
       "</table>\n",
       "</div>"
      ],
      "text/plain": [
       "       geolocation_zip_code_prefix  geolocation_lat  geolocation_lng\n",
       "count                 1.000163e+06     1.000163e+06     1.000163e+06\n",
       "mean                  3.657417e+04    -2.117615e+01    -4.639054e+01\n",
       "std                   3.054934e+04     5.715866e+00     4.269748e+00\n",
       "min                   1.001000e+03    -3.660537e+01    -1.014668e+02\n",
       "25%                   1.107500e+04    -2.360355e+01    -4.857317e+01\n",
       "50%                   2.653000e+04    -2.291938e+01    -4.663788e+01\n",
       "75%                   6.350400e+04    -1.997962e+01    -4.376771e+01\n",
       "max                   9.999000e+04     4.506593e+01     1.211054e+02"
      ]
     },
     "metadata": {},
     "output_type": "display_data"
    }
   ],
   "source": [
    "# use describe method to get descriptive statistics\n",
    "display(cleaned_customers.describe())\n",
    "display(cleaned_order_items.describe())\n",
    "display(cleaned_order_payments.describe())\n",
    "display(cleaned_order_reviews.describe())\n",
    "display(cleaned_orders_data.describe())\n",
    "display(cleaned_products_dataset.describe())\n",
    "display(cleaned_sellers_data.describe())\n",
    "display(cleaned_product_category_name_translation.describe())\n",
    "display(geolocation.describe())"
   ]
  },
  {
   "attachments": {},
   "cell_type": "markdown",
   "metadata": {},
   "source": [
    "## 2. Extracting and Plotting the data"
   ]
  },
  {
   "attachments": {},
   "cell_type": "markdown",
   "metadata": {},
   "source": [
    "From the dataframes we have, here are some potential information we can extract:\n",
    "\n",
    "**DataFrame 1: Customer Data**\n",
    "- Number of unique customers.\n",
    "- Number of unique customer IDs.\n",
    "- Distribution of customers across zip code prefixes and cities.\n",
    "- Number of customers in each state.\n",
    "\n",
    "**DataFrame 2: Order Data**\n",
    "- Number of unique orders.\n",
    "- Number of unique products.\n",
    "- Number of unique sellers.\n",
    "- Descriptive statistics of price and freight value.\n",
    "- Distribution of orders based on shipping limit date.\n",
    "\n",
    "**DataFrame 3: Payment Data**\n",
    "- Number of unique payment types.\n",
    "- Distribution of payment installments.\n",
    "- Descriptive statistics of payment values.\n",
    "\n",
    "**DataFrame 4: Review Data**\n",
    "- Number of unique reviews.\n",
    "- Distribution of review scores.\n",
    "- Time-based analysis of review creation and answer timestamps.\n",
    "\n",
    "**DataFrame 5: Order Details Data**\n",
    "- Number of unique orders.\n",
    "- Number of unique customers.\n",
    "- Distribution of order statuses.\n",
    "- Time-based analysis of order timestamps (purchase, approval, delivery, and estimation).\n",
    "\n",
    "**DataFrame 6: Product Data**\n",
    "- Number of unique products.\n",
    "- Distribution of product categories.\n",
    "- Descriptive statistics of product name length, description length, and photo quantity.\n",
    "- Distribution of product weights, dimensions (length, height, width).\n",
    "\n",
    "**DataFrame 7: Seller Data**\n",
    "- Number of unique sellers.\n",
    "- Distribution of sellers across zip code prefixes and cities.\n",
    "- Number of sellers in each state.\n",
    "\n",
    "**DataFrame 8: Product Category Data**\n",
    "- Number of unique product categories.\n",
    "- Mapping between Portuguese product category names and their English translations.\n",
    "\n",
    "**DataFrame 9: Geolocation Data**\n",
    "- Number of unique zip code prefixes.\n",
    "- Number of unique cities.\n",
    "- Distribution of cities across states."
   ]
  },
  {
   "attachments": {},
   "cell_type": "markdown",
   "metadata": {},
   "source": [
    "## DataFrame 1: Customer Data"
   ]
  },
  {
   "attachments": {},
   "cell_type": "markdown",
   "metadata": {},
   "source": [
    "### Number of unique customers"
   ]
  },
  {
   "cell_type": "code",
   "execution_count": 7,
   "metadata": {},
   "outputs": [
    {
     "name": "stdout",
     "output_type": "stream",
     "text": [
      "Number of unique customers: 96096\n"
     ]
    }
   ],
   "source": [
    "unique_customers = cleaned_customers['customer_unique_id'].nunique()\n",
    "print(\"Number of unique customers:\", unique_customers)"
   ]
  },
  {
   "attachments": {},
   "cell_type": "markdown",
   "metadata": {},
   "source": [
    "### Number of unique customer IDs"
   ]
  },
  {
   "cell_type": "code",
   "execution_count": 8,
   "metadata": {},
   "outputs": [
    {
     "name": "stdout",
     "output_type": "stream",
     "text": [
      "Number of unique customer IDs: 99441\n"
     ]
    }
   ],
   "source": [
    "unique_customer_ids = cleaned_customers['customer_id'].nunique()\n",
    "print(\"Number of unique customer IDs:\", unique_customer_ids)"
   ]
  },
  {
   "attachments": {},
   "cell_type": "markdown",
   "metadata": {},
   "source": [
    "### Distribution of customers across zip code prefixes and cities"
   ]
  },
  {
   "cell_type": "code",
   "execution_count": 9,
   "metadata": {},
   "outputs": [
    {
     "name": "stdout",
     "output_type": "stream",
     "text": [
      "Distribution of customers across zip code prefixes:\n",
      "   Zip Code Prefix  Count\n",
      "0            22790    142\n",
      "1            24220    124\n",
      "2            22793    121\n",
      "3            24230    117\n",
      "4            22775    110\n",
      "5            29101    101\n",
      "6            13212     95\n",
      "7            35162     93\n",
      "8            22631     89\n",
      "9            38400     87\n",
      "\n",
      "Distribution of customers across cities:\n",
      "                    City  Count\n",
      "0              sao paulo  15540\n",
      "1         rio de janeiro   6882\n",
      "2         belo horizonte   2773\n",
      "3               brasilia   2131\n",
      "4               curitiba   1521\n",
      "5               campinas   1444\n",
      "6           porto alegre   1379\n",
      "7               salvador   1245\n",
      "8              guarulhos   1189\n",
      "9  sao bernardo do campo    938\n"
     ]
    }
   ],
   "source": [
    "zip_code_counts = cleaned_customers['customer_zip_code_prefix'].value_counts().reset_index()\n",
    "zip_code_counts.columns = ['Zip Code Prefix', 'Count']\n",
    "\n",
    "city_counts = cleaned_customers['customer_city'].value_counts().reset_index()\n",
    "city_counts.columns = ['City', 'Count']\n",
    "\n",
    "# Display the distribution of zip code prefixes\n",
    "print(\"Distribution of customers across zip code prefixes:\")\n",
    "print(zip_code_counts.head(10))\n",
    "\n",
    "# Display the distribution of cities\n",
    "print(\"\\nDistribution of customers across cities:\")\n",
    "print(city_counts.head(10))"
   ]
  },
  {
   "cell_type": "code",
   "execution_count": 10,
   "metadata": {},
   "outputs": [
    {
     "data": {
      "image/png": "[encoded data removed]",
      "text/plain": [
       "<Figure size 800x800 with 1 Axes>"
      ]
     },
     "metadata": {},
     "output_type": "display_data"
    }
   ],
   "source": [
    "plt.figure(figsize=(8, 8))\n",
    "plt.pie(city_counts['Count'][:10], labels=city_counts['City'][:10], autopct='%1.1f%%')\n",
    "plt.title('Distribution of Customers Across Cities (Top 10)')\n",
    "plt.show()"
   ]
  },
  {
   "attachments": {},
   "cell_type": "markdown",
   "metadata": {},
   "source": [
    "### Number of customers in each state"
   ]
  },
  {
   "cell_type": "code",
   "execution_count": 11,
   "metadata": {},
   "outputs": [
    {
     "name": "stdout",
     "output_type": "stream",
     "text": [
      "Number of customers in each state:\n",
      "  State  Count\n",
      "0    SP  41746\n",
      "1    RJ  12852\n",
      "2    MG  11635\n",
      "3    RS   5466\n",
      "4    PR   5045\n",
      "5    SC   3637\n",
      "6    BA   3380\n",
      "7    DF   2140\n",
      "8    ES   2033\n",
      "9    GO   2020\n"
     ]
    }
   ],
   "source": [
    "state_counts = cleaned_customers['customer_state'].value_counts().reset_index()\n",
    "state_counts.columns = ['State', 'Count']\n",
    "\n",
    "print(\"Number of customers in each state:\")\n",
    "print(state_counts.head(10))"
   ]
  },
  {
   "attachments": {},
   "cell_type": "markdown",
   "metadata": {},
   "source": [
    "## DataFrame 2: Order Data"
   ]
  },
  {
   "attachments": {},
   "cell_type": "markdown",
   "metadata": {},
   "source": [
    "### Number of unique orders"
   ]
  },
  {
   "cell_type": "code",
   "execution_count": 12,
   "metadata": {},
   "outputs": [
    {
     "name": "stdout",
     "output_type": "stream",
     "text": [
      "Number of unique orders: 98666\n"
     ]
    }
   ],
   "source": [
    "unique_orders = cleaned_order_items['order_id'].nunique()\n",
    "print(\"Number of unique orders:\", unique_orders)"
   ]
  },
  {
   "attachments": {},
   "cell_type": "markdown",
   "metadata": {},
   "source": [
    "### Number of unique products"
   ]
  },
  {
   "cell_type": "code",
   "execution_count": 13,
   "metadata": {},
   "outputs": [
    {
     "name": "stdout",
     "output_type": "stream",
     "text": [
      "Number of unique products: 32951\n"
     ]
    }
   ],
   "source": [
    "unique_products = cleaned_order_items['product_id'].nunique()\n",
    "print(\"Number of unique products:\", unique_products)"
   ]
  },
  {
   "attachments": {},
   "cell_type": "markdown",
   "metadata": {},
   "source": [
    "### Number of unique sellers"
   ]
  },
  {
   "cell_type": "code",
   "execution_count": 14,
   "metadata": {},
   "outputs": [
    {
     "name": "stdout",
     "output_type": "stream",
     "text": [
      "Number of unique sellers: 3095\n"
     ]
    }
   ],
   "source": [
    "unique_sellers = cleaned_order_items['seller_id'].nunique()\n",
    "print(\"Number of unique sellers:\", unique_sellers)"
   ]
  },
  {
   "attachments": {},
   "cell_type": "markdown",
   "metadata": {},
   "source": [
    "### Descriptive statistics of price and freight value"
   ]
  },
  {
   "cell_type": "code",
   "execution_count": 15,
   "metadata": {},
   "outputs": [
    {
     "name": "stdout",
     "output_type": "stream",
     "text": [
      "Descriptive statistics of price:\n",
      "count    112650.000000\n",
      "mean        120.653739\n",
      "std         183.633928\n",
      "min           0.850000\n",
      "25%          39.900000\n",
      "50%          74.990000\n",
      "75%         134.900000\n",
      "max        6735.000000\n",
      "Name: price, dtype: float64\n",
      "\n",
      "Descriptive statistics of freight value:\n",
      "count    112650.000000\n",
      "mean         19.990320\n",
      "std          15.806405\n",
      "min           0.000000\n",
      "25%          13.080000\n",
      "50%          16.260000\n",
      "75%          21.150000\n",
      "max         409.680000\n",
      "Name: freight_value, dtype: float64\n"
     ]
    }
   ],
   "source": [
    "price_stats = cleaned_order_items['price'].describe()\n",
    "freight_stats = cleaned_order_items['freight_value'].describe()\n",
    "\n",
    "print(\"Descriptive statistics of price:\")\n",
    "print(price_stats)\n",
    "\n",
    "print(\"\\nDescriptive statistics of freight value:\")\n",
    "print(freight_stats)"
   ]
  },
  {
   "attachments": {},
   "cell_type": "markdown",
   "metadata": {},
   "source": [
    "### Distribution of orders based on shipping limit date"
   ]
  },
  {
   "cell_type": "code",
   "execution_count": 16,
   "metadata": {},
   "outputs": [
    {
     "name": "stdout",
     "output_type": "stream",
     "text": [
      "Distribution of orders based on shipping limit date:\n",
      "   Shipping Limit Date  Count\n",
      "0  2017-07-21 18:25:23     21\n",
      "1  2018-03-01 02:50:48     21\n",
      "2  2017-08-30 14:30:23     20\n",
      "3  2017-02-03 21:44:49     15\n",
      "4  2017-12-21 02:30:41     15\n"
     ]
    }
   ],
   "source": [
    "shipping_limit_counts = cleaned_order_items['shipping_limit_date'].value_counts().reset_index()\n",
    "shipping_limit_counts.columns = ['Shipping Limit Date', 'Count']\n",
    "\n",
    "# Display the distribution of orders based on shipping limit date\n",
    "print(\"Distribution of orders based on shipping limit date:\")\n",
    "print(shipping_limit_counts.head())"
   ]
  },
  {
   "attachments": {},
   "cell_type": "markdown",
   "metadata": {},
   "source": [
    "## DataFrame 3: Payment Data"
   ]
  },
  {
   "attachments": {},
   "cell_type": "markdown",
   "metadata": {},
   "source": [
    "### Number of unique payment types."
   ]
  },
  {
   "cell_type": "code",
   "execution_count": 17,
   "metadata": {},
   "outputs": [
    {
     "name": "stdout",
     "output_type": "stream",
     "text": [
      "Number of unique payment types:\n",
      "  Payment Type  Count\n",
      "0  credit_card  76795\n",
      "1       boleto  19784\n",
      "2      voucher   5775\n",
      "3   debit_card   1529\n",
      "4  not_defined      3\n"
     ]
    }
   ],
   "source": [
    "payment_type_counts = cleaned_order_payments['payment_type'].value_counts().reset_index()\n",
    "payment_type_counts.columns = ['Payment Type', 'Count']\n",
    "\n",
    "# Display the number of unique payment types with their names\n",
    "print(\"Number of unique payment types:\")\n",
    "print(payment_type_counts)"
   ]
  },
  {
   "attachments": {},
   "cell_type": "markdown",
   "metadata": {},
   "source": [
    "### Distribution of payment installments."
   ]
  },
  {
   "cell_type": "code",
   "execution_count": 18,
   "metadata": {},
   "outputs": [
    {
     "name": "stdout",
     "output_type": "stream",
     "text": [
      "Number of installments:\n",
      "0         2\n",
      "1     52546\n",
      "2     12413\n",
      "3     10461\n",
      "4      7098\n",
      "5      5239\n",
      "6      3920\n",
      "7      1626\n",
      "8      4268\n",
      "9       644\n",
      "10     5328\n",
      "11       23\n",
      "12      133\n",
      "13       16\n",
      "14       15\n",
      "15       74\n",
      "16        5\n",
      "17        8\n",
      "18       27\n",
      "20       17\n",
      "21        3\n",
      "22        1\n",
      "23        1\n",
      "24       18\n",
      "Name: payment_installments, dtype: int64\n"
     ]
    }
   ],
   "source": [
    "installments_distribution = cleaned_order_payments['payment_installments'].value_counts().sort_index()\n",
    "installments_distribution.columns = ['Payment Installments', 'Count']\n",
    "\n",
    "# Display the number of unique payment types with their names\n",
    "print(\"Number of installments:\")\n",
    "print(installments_distribution)"
   ]
  },
  {
   "attachments": {},
   "cell_type": "markdown",
   "metadata": {},
   "source": [
    "### Descriptive statistics of payment values."
   ]
  },
  {
   "cell_type": "code",
   "execution_count": 19,
   "metadata": {},
   "outputs": [
    {
     "name": "stdout",
     "output_type": "stream",
     "text": [
      "Descriptive statistics of payment values:\n",
      "count    103886.000000\n",
      "mean        154.100380\n",
      "std         217.494064\n",
      "min           0.000000\n",
      "25%          56.790000\n",
      "50%         100.000000\n",
      "75%         171.837500\n",
      "max       13664.080000\n",
      "Name: payment_value, dtype: float64\n"
     ]
    }
   ],
   "source": [
    "payment_value_stats = cleaned_order_payments['payment_value'].describe()\n",
    "\n",
    "# Display the descriptive statistics of payment values\n",
    "print(\"Descriptive statistics of payment values:\")\n",
    "print(payment_value_stats)"
   ]
  },
  {
   "attachments": {},
   "cell_type": "markdown",
   "metadata": {},
   "source": [
    "## DataFrame 4: Review Data"
   ]
  },
  {
   "attachments": {},
   "cell_type": "markdown",
   "metadata": {},
   "source": [
    "### Number of unique reviews\n"
   ]
  },
  {
   "cell_type": "code",
   "execution_count": 20,
   "metadata": {},
   "outputs": [
    {
     "name": "stdout",
     "output_type": "stream",
     "text": [
      "Number of unique reviews: 98410\n"
     ]
    }
   ],
   "source": [
    "unique_reviews = cleaned_order_reviews['review_id'].nunique()\n",
    "print(\"Number of unique reviews:\", unique_reviews)"
   ]
  },
  {
   "attachments": {},
   "cell_type": "markdown",
   "metadata": {},
   "source": [
    "### Distribution of review scores"
   ]
  },
  {
   "cell_type": "code",
   "execution_count": 21,
   "metadata": {},
   "outputs": [
    {
     "name": "stdout",
     "output_type": "stream",
     "text": [
      "Distribution of review scores:\n",
      "1    11424\n",
      "2     3151\n",
      "3     8179\n",
      "4    19142\n",
      "5    57328\n",
      "Name: review_score, dtype: int64\n"
     ]
    }
   ],
   "source": [
    "review_score_distribution = cleaned_order_reviews['review_score'].value_counts().sort_index()\n",
    "\n",
    "# Display the distribution of review scores\n",
    "print(\"Distribution of review scores:\")\n",
    "print(review_score_distribution)"
   ]
  },
  {
   "attachments": {},
   "cell_type": "markdown",
   "metadata": {},
   "source": [
    "### Time-based analysis of review creation and answer timestamps"
   ]
  },
  {
   "cell_type": "code",
   "execution_count": 22,
   "metadata": {},
   "outputs": [
    {
     "name": "stdout",
     "output_type": "stream",
     "text": [
      "Time-based analysis of review creation and answer timestamps (creation date):\n",
      "2018-08-31    378\n",
      "2018-08-30    375\n",
      "2018-08-29    390\n",
      "2018-08-28    452\n",
      "2018-08-27      7\n",
      "             ... \n",
      "2016-10-16      1\n",
      "2016-10-15      2\n",
      "2016-10-09      1\n",
      "2016-10-06      1\n",
      "2016-10-02      1\n",
      "Name: review_creation_date, Length: 636, dtype: int64\n",
      "Time-based analysis of review creation and answer timestamps (answer timestamp date):\n",
      "2018-10-29    1\n",
      "2018-10-26    1\n",
      "2018-10-24    3\n",
      "2018-10-23    1\n",
      "2018-10-22    1\n",
      "             ..\n",
      "2016-10-18    2\n",
      "2016-10-17    1\n",
      "2016-10-16    2\n",
      "2016-10-11    1\n",
      "2016-10-07    1\n",
      "Name: review_answer_timestamp, Length: 715, dtype: int64\n"
     ]
    }
   ],
   "source": [
    "# Convert the timestamps to datetime format\n",
    "cleaned_order_reviews['review_creation_date'] = pd.to_datetime(cleaned_order_reviews['review_creation_date'])\n",
    "cleaned_order_reviews['review_answer_timestamp'] = pd.to_datetime(cleaned_order_reviews['review_answer_timestamp'])\n",
    "\n",
    "# Extract the date components from the timestamps\n",
    "cleaned_order_reviews['review_creation_date'] = cleaned_order_reviews['review_creation_date'].dt.date\n",
    "cleaned_order_reviews['review_answer_timestamp'] = cleaned_order_reviews['review_answer_timestamp'].dt.date\n",
    "\n",
    "# Group by the review creation date and count the number of reviews for each date\n",
    "review_creation_dates = cleaned_order_reviews['review_creation_date'].value_counts().sort_index(ascending=False)\n",
    "\n",
    "# Group by the answer timestamp date and count the number of reviews for each date\n",
    "review_answer_dates = cleaned_order_reviews['review_answer_timestamp'].value_counts().sort_index(ascending=False)\n",
    "\n",
    "# Display the time-based analysis of review creation and answer timestamps\n",
    "print(\"Time-based analysis of review creation and answer timestamps (creation date):\")\n",
    "print(review_creation_dates)\n",
    "\n",
    "print(\"Time-based analysis of review creation and answer timestamps (answer timestamp date):\")\n",
    "print(review_answer_dates)"
   ]
  },
  {
   "attachments": {},
   "cell_type": "markdown",
   "metadata": {},
   "source": [
    "## DataFrame 5: Order Details Data"
   ]
  },
  {
   "attachments": {},
   "cell_type": "markdown",
   "metadata": {},
   "source": [
    "### Number of unique orders"
   ]
  },
  {
   "cell_type": "code",
   "execution_count": 23,
   "metadata": {},
   "outputs": [
    {
     "name": "stdout",
     "output_type": "stream",
     "text": [
      "Number of unique orders: 99441\n"
     ]
    }
   ],
   "source": [
    "num_unique_orders = cleaned_orders_data['order_id'].nunique()\n",
    "print(\"Number of unique orders:\", num_unique_orders)"
   ]
  },
  {
   "attachments": {},
   "cell_type": "markdown",
   "metadata": {},
   "source": [
    "### Number of unique customers"
   ]
  },
  {
   "cell_type": "code",
   "execution_count": 24,
   "metadata": {},
   "outputs": [
    {
     "name": "stdout",
     "output_type": "stream",
     "text": [
      "Number of unique customers: 99441\n"
     ]
    }
   ],
   "source": [
    "num_unique_customers = cleaned_orders_data['customer_id'].nunique()\n",
    "print(\"Number of unique customers:\", num_unique_customers)"
   ]
  },
  {
   "attachments": {},
   "cell_type": "markdown",
   "metadata": {},
   "source": [
    "### Distribution of order statuses"
   ]
  },
  {
   "cell_type": "code",
   "execution_count": 25,
   "metadata": {},
   "outputs": [
    {
     "name": "stdout",
     "output_type": "stream",
     "text": [
      "         index  order_status\n",
      "0    delivered         96478\n",
      "1      shipped          1107\n",
      "2     canceled           625\n",
      "3  unavailable           609\n",
      "4     invoiced           314\n",
      "5   processing           301\n",
      "6      created             5\n",
      "7     approved             2\n"
     ]
    }
   ],
   "source": [
    "order_status_distribution = cleaned_orders_data['order_status'].value_counts().reset_index()\n",
    "print(order_status_distribution)"
   ]
  },
  {
   "attachments": {},
   "cell_type": "markdown",
   "metadata": {},
   "source": [
    "### Time-based analysis of order timestamps (purchase, approval, delivery, and estimation)"
   ]
  },
  {
   "cell_type": "code",
   "execution_count": 26,
   "metadata": {},
   "outputs": [
    {
     "data": {
      "text/plain": [
       "'Approval time stats'"
      ]
     },
     "metadata": {},
     "output_type": "display_data"
    },
    {
     "data": {
      "text/plain": [
       "count                            99441\n",
       "mean         0 days 09:52:11.322219286\n",
       "std          9 days 08:42:05.691050256\n",
       "min      -290 days +01:05:06.098800128\n",
       "25%                    0 days 00:12:54\n",
       "50%                    0 days 00:20:36\n",
       "75%                    0 days 14:36:56\n",
       "max        452 days 22:53:52.098800128\n",
       "Name: approval_time, dtype: object"
      ]
     },
     "metadata": {},
     "output_type": "display_data"
    },
    {
     "data": {
      "text/plain": [
       "'Delivery time stats'"
      ]
     },
     "metadata": {},
     "output_type": "display_data"
    },
    {
     "data": {
      "text/plain": [
       "count                            99441\n",
       "mean        13 days 17:33:54.936742136\n",
       "std         31 days 03:32:26.625704799\n",
       "min      -336 days +23:40:36.901199872\n",
       "25%                    6 days 06:09:56\n",
       "50%                    9 days 21:45:40\n",
       "75%                   15 days 10:46:22\n",
       "max        467 days 01:42:39.035542272\n",
       "Name: delivery_time, dtype: object"
      ]
     },
     "metadata": {},
     "output_type": "display_data"
    },
    {
     "data": {
      "text/plain": [
       "'Estimated delivery time stats'"
      ]
     },
     "metadata": {},
     "output_type": "display_data"
    },
    {
     "data": {
      "text/plain": [
       "count                            99441\n",
       "mean         9 days 14:59:18.694568811\n",
       "std         31 days 14:34:43.358448314\n",
       "min      -472 days +11:50:40.964457728\n",
       "25%                    6 days 06:33:13\n",
       "50%                   11 days 14:16:01\n",
       "75%                   16 days 07:24:57\n",
       "max        301 days 11:50:40.964457728\n",
       "Name: estimated_delivery_time, dtype: object"
      ]
     },
     "metadata": {},
     "output_type": "display_data"
    }
   ],
   "source": [
    "# Convert the order timestamps to datetime format:\n",
    "cleaned_orders_data['order_purchase_timestamp'] = pd.to_datetime(cleaned_orders_data['order_purchase_timestamp']) \n",
    "cleaned_orders_data['order_approved_at'] = pd.to_datetime(cleaned_orders_data['order_approved_at'])\n",
    "cleaned_orders_data['order_delivered_carrier_date'] = pd.to_datetime(cleaned_orders_data['order_delivered_carrier_date']) \n",
    "cleaned_orders_data['order_delivered_customer_date'] = pd.to_datetime(cleaned_orders_data['order_delivered_customer_date'])\n",
    "cleaned_orders_data['order_estimated_delivery_date'] = pd.to_datetime(cleaned_orders_data['order_estimated_delivery_date']) \n",
    "\n",
    "# Calculate the time differences between timestamps:\n",
    "cleaned_orders_data['approval_time'] = cleaned_orders_data['order_approved_at'] - cleaned_orders_data['order_purchase_timestamp']\n",
    "cleaned_orders_data['delivery_time'] = cleaned_orders_data['order_delivered_customer_date'] - cleaned_orders_data['order_approved_at']\n",
    "cleaned_orders_data['estimated_delivery_time'] = cleaned_orders_data['order_estimated_delivery_date'] - cleaned_orders_data['order_delivered_customer_date']\n",
    "\n",
    "# Analyze the time differences:\n",
    "approval_time_stats = cleaned_orders_data['approval_time'].describe()\n",
    "delivery_time_stats = cleaned_orders_data['delivery_time'].describe()\n",
    "estimated_delivery_time_stats = cleaned_orders_data['estimated_delivery_time'].describe()\n",
    "\n",
    "# Print the time differences\n",
    "display(\"Approval time stats\", approval_time_stats)\n",
    "display(\"Delivery time stats\", delivery_time_stats)\n",
    "display(\"Estimated delivery time stats\", estimated_delivery_time_stats)"
   ]
  },
  {
   "attachments": {},
   "cell_type": "markdown",
   "metadata": {},
   "source": [
    "## DataFrame 6: Product Data"
   ]
  },
  {
   "attachments": {},
   "cell_type": "markdown",
   "metadata": {},
   "source": [
    "### Number of unique products."
   ]
  },
  {
   "cell_type": "code",
   "execution_count": 27,
   "metadata": {},
   "outputs": [
    {
     "name": "stdout",
     "output_type": "stream",
     "text": [
      "Number of unique products: 32951\n"
     ]
    }
   ],
   "source": [
    "num_unique_products = cleaned_products_dataset['product_id'].nunique()\n",
    "print(\"Number of unique products:\", num_unique_products)"
   ]
  },
  {
   "attachments": {},
   "cell_type": "markdown",
   "metadata": {},
   "source": [
    "### Distribution of product categories"
   ]
  },
  {
   "cell_type": "code",
   "execution_count": 28,
   "metadata": {},
   "outputs": [
    {
     "name": "stdout",
     "output_type": "stream",
     "text": [
      "Top 10 product categories\n",
      "                     index  product_category_name\n",
      "0         cama_mesa_banho                   3029\n",
      "1           esporte_lazer                   2867\n",
      "2        moveis_decoracao                   2657\n",
      "3            beleza_saude                   2444\n",
      "4   utilidades_domesticas                   2335\n",
      "5              automotivo                   1900\n",
      "6  informatica_acessorios                   1639\n",
      "7              brinquedos                   1411\n",
      "8      relogios_presentes                   1329\n",
      "9               telefonia                   1134\n"
     ]
    }
   ],
   "source": [
    "product_category_distribution = cleaned_products_dataset['product_category_name'].value_counts().reset_index()\n",
    "print(\"Top 10 product categories\"\"\\n\", product_category_distribution.head(10))"
   ]
  },
  {
   "attachments": {},
   "cell_type": "markdown",
   "metadata": {},
   "source": [
    "### Descriptive statistics of product name length, description length, and photo quantity"
   ]
  },
  {
   "cell_type": "code",
   "execution_count": 29,
   "metadata": {},
   "outputs": [
    {
     "data": {
      "text/plain": [
       "'Descriptive stats of product name length'"
      ]
     },
     "metadata": {},
     "output_type": "display_data"
    },
    {
     "data": {
      "text/plain": [
       "count    32951.000000\n",
       "mean        48.476949\n",
       "std         10.150458\n",
       "min          5.000000\n",
       "25%         42.000000\n",
       "50%         51.000000\n",
       "75%         57.000000\n",
       "max         76.000000\n",
       "Name: product_name_lenght, dtype: float64"
      ]
     },
     "metadata": {},
     "output_type": "display_data"
    },
    {
     "data": {
      "text/plain": [
       "'Descriptive stats of product description length'"
      ]
     },
     "metadata": {},
     "output_type": "display_data"
    },
    {
     "data": {
      "text/plain": [
       "count    32951.000000\n",
       "mean       771.495285\n",
       "std        629.208849\n",
       "min          4.000000\n",
       "25%        344.000000\n",
       "50%        604.000000\n",
       "75%        961.000000\n",
       "max       3992.000000\n",
       "Name: product_description_lenght, dtype: float64"
      ]
     },
     "metadata": {},
     "output_type": "display_data"
    },
    {
     "data": {
      "text/plain": [
       "'Descriptive stats of product photos quantity'"
      ]
     },
     "metadata": {},
     "output_type": "display_data"
    },
    {
     "data": {
      "text/plain": [
       "count    32951.000000\n",
       "mean         2.188986\n",
       "std          1.720614\n",
       "min          1.000000\n",
       "25%          1.000000\n",
       "50%          1.000000\n",
       "75%          3.000000\n",
       "max         20.000000\n",
       "Name: product_photos_qty, dtype: float64"
      ]
     },
     "metadata": {},
     "output_type": "display_data"
    }
   ],
   "source": [
    "product_name_length_stats = cleaned_products_dataset['product_name_lenght'].describe()\n",
    "product_description_length_stats = cleaned_products_dataset['product_description_lenght'].describe()\n",
    "product_photos_qty_stats = cleaned_products_dataset['product_photos_qty'].describe()\n",
    "\n",
    "# print the descriptive statistics of the most important columns\n",
    "display(\"Descriptive stats of product name length\", product_name_length_stats)\n",
    "display(\"Descriptive stats of product description length\", product_description_length_stats)\n",
    "display(\"Descriptive stats of product photos quantity\", product_photos_qty_stats)"
   ]
  },
  {
   "attachments": {},
   "cell_type": "markdown",
   "metadata": {},
   "source": [
    "### Distribution of product weights, dimensions (length, height, width)"
   ]
  },
  {
   "cell_type": "code",
   "execution_count": 30,
   "metadata": {},
   "outputs": [
    {
     "data": {
      "image/png": "[encoded data removed]",
      "text/plain": [
       "<Figure size 1200x600 with 4 Axes>"
      ]
     },
     "metadata": {},
     "output_type": "display_data"
    }
   ],
   "source": [
    "cleaned_products_dataset[['product_weight_g', 'product_length_cm', 'product_height_cm', 'product_width_cm']].hist(figsize=(12, 6))\n",
    "plt.tight_layout()\n",
    "plt.show()"
   ]
  },
  {
   "attachments": {},
   "cell_type": "markdown",
   "metadata": {},
   "source": [
    "## DataFrame 7: Seller Data"
   ]
  },
  {
   "attachments": {},
   "cell_type": "markdown",
   "metadata": {},
   "source": [
    "### Number of unique sellers."
   ]
  },
  {
   "cell_type": "code",
   "execution_count": 31,
   "metadata": {},
   "outputs": [
    {
     "name": "stdout",
     "output_type": "stream",
     "text": [
      "Number of unique sellers 3095\n"
     ]
    }
   ],
   "source": [
    "num_unique_sellers = cleaned_sellers_data['seller_id'].nunique()\n",
    "print(\"Number of unique sellers\", num_unique_sellers)"
   ]
  },
  {
   "attachments": {},
   "cell_type": "markdown",
   "metadata": {},
   "source": [
    "### Distribution of sellers across zip code prefixes and cities"
   ]
  },
  {
   "cell_type": "code",
   "execution_count": 32,
   "metadata": {},
   "outputs": [
    {
     "data": {
      "text/plain": [
       "'Top 10 Seller zipcode distribution'"
      ]
     },
     "metadata": {},
     "output_type": "display_data"
    },
    {
     "data": {
      "text/plain": [
       "14940    49\n",
       "13660    10\n",
       "13920     9\n",
       "16200     9\n",
       "87050     8\n",
       "14020     8\n",
       "1026      8\n",
       "37540     7\n",
       "13481     7\n",
       "35530     6\n",
       "Name: seller_zip_code_prefix, dtype: int64"
      ]
     },
     "metadata": {},
     "output_type": "display_data"
    },
    {
     "data": {
      "text/plain": [
       "'Top 10 Seller city distribution'"
      ]
     },
     "metadata": {},
     "output_type": "display_data"
    },
    {
     "data": {
      "text/plain": [
       "sao paulo         694\n",
       "curitiba          127\n",
       "rio de janeiro     96\n",
       "belo horizonte     68\n",
       "ribeirao preto     52\n",
       "guarulhos          50\n",
       "ibitinga           49\n",
       "santo andre        45\n",
       "campinas           41\n",
       "maringa            40\n",
       "Name: seller_city, dtype: int64"
      ]
     },
     "metadata": {},
     "output_type": "display_data"
    }
   ],
   "source": [
    "seller_zipcode_distribution = cleaned_sellers_data['seller_zip_code_prefix'].value_counts()\n",
    "seller_city_distribution = cleaned_sellers_data['seller_city'].value_counts()\n",
    "\n",
    "# print the distribution of seller_zip_code_prefix and seller_city columns\n",
    "display(\"Top 10 Seller zipcode distribution\", seller_zipcode_distribution.head(10))\n",
    "display(\"Top 10 Seller city distribution\",seller_city_distribution.head(10))"
   ]
  },
  {
   "attachments": {},
   "cell_type": "markdown",
   "metadata": {},
   "source": [
    "### Number of sellers in each state"
   ]
  },
  {
   "cell_type": "code",
   "execution_count": 33,
   "metadata": {},
   "outputs": [
    {
     "name": "stdout",
     "output_type": "stream",
     "text": [
      "Number of sellers in each state    index  seller_state\n",
      "0     SP          1849\n",
      "1     PR           349\n",
      "2     MG           244\n",
      "3     SC           190\n",
      "4     RJ           171\n",
      "5     RS           129\n",
      "6     GO            40\n",
      "7     DF            30\n",
      "8     ES            23\n",
      "9     BA            19\n",
      "10    CE            13\n",
      "11    PE             9\n",
      "12    PB             6\n",
      "13    RN             5\n",
      "14    MS             5\n",
      "15    MT             4\n",
      "16    RO             2\n",
      "17    SE             2\n",
      "18    PI             1\n",
      "19    AC             1\n",
      "20    MA             1\n",
      "21    AM             1\n",
      "22    PA             1\n"
     ]
    }
   ],
   "source": [
    "seller_state_counts = cleaned_sellers_data['seller_state'].value_counts().reset_index()\n",
    "print(\"Number of sellers in each state\", seller_state_counts)"
   ]
  },
  {
   "attachments": {},
   "cell_type": "markdown",
   "metadata": {},
   "source": [
    "## DataFrame 8: Product Category Data"
   ]
  },
  {
   "attachments": {},
   "cell_type": "markdown",
   "metadata": {},
   "source": [
    "### Number of unique product categories.\n"
   ]
  },
  {
   "cell_type": "code",
   "execution_count": 34,
   "metadata": {},
   "outputs": [
    {
     "name": "stdout",
     "output_type": "stream",
     "text": [
      "Number of unique product categories 71\n"
     ]
    }
   ],
   "source": [
    "num_unique_products = cleaned_product_category_name_translation['product_category_name'].nunique()\n",
    "print(\"Number of unique product categories\", num_unique_products)"
   ]
  },
  {
   "attachments": {},
   "cell_type": "markdown",
   "metadata": {},
   "source": [
    "### Mapping between Portuguese product category names and their English translations"
   ]
  },
  {
   "cell_type": "code",
   "execution_count": 35,
   "metadata": {},
   "outputs": [
    {
     "name": "stdout",
     "output_type": "stream",
     "text": [
      "            product_category_name product_category_name_english\n",
      "0                    beleza_saude                 health_beauty\n",
      "1          informatica_acessorios         computers_accessories\n",
      "2                      automotivo                          auto\n",
      "3                 cama_mesa_banho                bed_bath_table\n",
      "4                moveis_decoracao               furniture_decor\n",
      "..                            ...                           ...\n",
      "66                         flores                       flowers\n",
      "67             artes_e_artesanato         arts_and_craftmanship\n",
      "68                fraldas_higiene           diapers_and_hygiene\n",
      "69  fashion_roupa_infanto_juvenil     fashion_childrens_clothes\n",
      "70             seguros_e_servicos         security_and_services\n",
      "\n",
      "[71 rows x 2 columns]\n"
     ]
    }
   ],
   "source": [
    "category_mapping = cleaned_product_category_name_translation[['product_category_name', 'product_category_name_english']].drop_duplicates().set_index('product_category_name').to_dict()['product_category_name_english']\n",
    "df_category_mapping = pd.DataFrame.from_dict(category_mapping, orient='index', columns=['product_category_name_english'])\n",
    "df_category_mapping.reset_index(inplace=True)\n",
    "df_category_mapping.columns = ['product_category_name', 'product_category_name_english']\n",
    "print(df_category_mapping)\n"
   ]
  },
  {
   "attachments": {},
   "cell_type": "markdown",
   "metadata": {},
   "source": [
    "## DataFrame 9: Geolocation Data"
   ]
  },
  {
   "attachments": {},
   "cell_type": "markdown",
   "metadata": {},
   "source": [
    "### Number of unique zip code prefixes"
   ]
  },
  {
   "cell_type": "code",
   "execution_count": 36,
   "metadata": {},
   "outputs": [
    {
     "name": "stdout",
     "output_type": "stream",
     "text": [
      "Number of unique zip code prefixes: 19015\n"
     ]
    }
   ],
   "source": [
    "# Determine the number of unique zip code prefixes by calling the `nunique()` method on the `geolocation_zip_code_prefix` column.\n",
    "unique_zip_prefixes = geolocation['geolocation_zip_code_prefix'].nunique()\n",
    "print(\"Number of unique zip code prefixes:\", unique_zip_prefixes)"
   ]
  },
  {
   "attachments": {},
   "cell_type": "markdown",
   "metadata": {},
   "source": [
    "### Number of unique cities"
   ]
  },
  {
   "cell_type": "code",
   "execution_count": 37,
   "metadata": {},
   "outputs": [
    {
     "name": "stdout",
     "output_type": "stream",
     "text": [
      "Number of unique cities: 8011\n"
     ]
    }
   ],
   "source": [
    "# Calculate the number of unique cities by calling the `nunique()` method on the `geolocation_city` column.\n",
    "unique_cities = geolocation['geolocation_city'].nunique()\n",
    "print(\"Number of unique cities:\", unique_cities)"
   ]
  },
  {
   "attachments": {},
   "cell_type": "markdown",
   "metadata": {},
   "source": [
    "### Distribution of cities across states"
   ]
  },
  {
   "cell_type": "code",
   "execution_count": 38,
   "metadata": {},
   "outputs": [
    {
     "name": "stdout",
     "output_type": "stream",
     "text": [
      "Distribution of cities across states:    index  geolocation_state\n",
      "0     SP             404268\n",
      "1     MG             126336\n",
      "2     RJ             121169\n",
      "3     RS              61851\n",
      "4     PR              57859\n",
      "5     SC              38328\n",
      "6     BA              36045\n",
      "7     GO              20139\n",
      "8     ES              16748\n",
      "9     PE              16432\n",
      "10    DF              12986\n",
      "11    MT              12031\n",
      "12    CE              11674\n",
      "13    PA              10853\n",
      "14    MS              10431\n",
      "15    MA               7853\n",
      "16    PB               5538\n",
      "17    RN               5041\n",
      "18    PI               4549\n",
      "19    AL               4183\n",
      "20    TO               3576\n",
      "21    SE               3563\n",
      "22    RO               3478\n",
      "23    AM               2432\n",
      "24    AC               1301\n",
      "25    AP                853\n",
      "26    RR                646\n"
     ]
    }
   ],
   "source": [
    "# Analyze the distribution of cities across states by calling the `value_counts()` method on the `geolocation_state` column.\n",
    "city_distribution = geolocation['geolocation_state'].value_counts().reset_index()\n",
    "print(\"Distribution of cities across states:\", city_distribution)"
   ]
  },
  {
   "cell_type": "code",
   "execution_count": 39,
   "metadata": {},
   "outputs": [
    {
     "data": {
      "image/png": "[encoded data removed]",
      "text/plain": [
       "<Figure size 1200x600 with 1 Axes>"
      ]
     },
     "metadata": {},
     "output_type": "display_data"
    }
   ],
   "source": [
    "# create a barplot of the distribution of cities across states\n",
    "state_counts = geolocation['geolocation_state'].value_counts()\n",
    "\n",
    "plt.figure(figsize=(12, 6))\n",
    "state_counts.plot(kind='bar')\n",
    "plt.xlabel('State')\n",
    "plt.ylabel('Number of Cities')\n",
    "plt.title('Distribution of Cities across States')\n",
    "plt.xticks(rotation=45)\n",
    "plt.show()"
   ]
  },
  {
   "cell_type": "code",
   "execution_count": 40,
   "metadata": {},
   "outputs": [],
   "source": [
    "## Analyses specific to geolocation data"
   ]
  },
  {
   "attachments": {},
   "cell_type": "markdown",
   "metadata": {},
   "source": [
    "### Geographic distribution of locations on a map (using latitude and longitude coordinates)."
   ]
  },
  {
   "cell_type": "code",
   "execution_count": 42,
   "metadata": {},
   "outputs": [],
   "source": [
    "# Create a map object centered at a specific latitude and longitude\n",
    "map = folium.Map(location=[-23.5, -46.6], zoom_start=10)\n",
    "\n",
    "# Iterate over the geolocation data and add markers for each location\n",
    "for index, row in geolocation.iterrows():\n",
    "    lat = row['geolocation_lat']\n",
    "    lon = row['geolocation_lng']\n",
    "    city = row['geolocation_city']\n",
    "    state = row['geolocation_state']\n",
    "    marker = folium.Marker(location=[lat, lon], popup=f\"{city}, {state}\")\n",
    "    marker.add_to(map)\n",
    "\n",
    "# Display the map\n",
    "map"
   ]
  },
  {
   "attachments": {},
   "cell_type": "markdown",
   "metadata": {},
   "source": [
    "### Regions with the highest concentration of locations based on zip code prefixes or cities."
   ]
  },
  {
   "cell_type": "code",
   "execution_count": null,
   "metadata": {},
   "outputs": [],
   "source": []
  },
  {
   "attachments": {},
   "cell_type": "markdown",
   "metadata": {},
   "source": []
  }
 ],
 "metadata": {
  "kernelspec": {
   "display_name": "Python 3",
   "language": "python",
   "name": "python3"
  },
  "language_info": {
   "codemirror_mode": {
    "name": "ipython",
    "version": 3
   },
   "file_extension": ".py",
   "mimetype": "text/x-python",
   "name": "python",
   "nbconvert_exporter": "python",
   "pygments_lexer": "ipython3",
   "version": "3.9.7"
  },
  "orig_nbformat": 4
 },
 "nbformat": 4,
 "nbformat_minor": 2
}
